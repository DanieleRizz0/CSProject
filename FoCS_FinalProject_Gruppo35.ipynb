{
 "cells": [
  {
   "cell_type": "markdown",
   "metadata": {},
   "source": [
    "# Università degli Studi di Milano Bicocca  <br/> Master's Degree in Data Science\n",
    "\n",
    "## Final Project - Foundation of Computer Science (F9101Q001)"
   ]
  },
  {
   "cell_type": "markdown",
   "metadata": {},
   "source": [
    "**Gruppo 35**: <br/>\n",
    "Daniele Rizzo *872359*<br/>\n",
    "Carlo Salaorni *760080*<br/>\n",
    "Matteo Tarli *800676*\n",
    "\n",
    "<a href = \"https://github.com/gdv/foundationsCS/blob/master/progetti/2021-students.ipynb\" title = 2021-students.ipynb>Assignment Body</a>"
   ]
  },
  {
   "cell_type": "markdown",
   "metadata": {},
   "source": [
    "Definizione delle librerie di interesse e dei dataset di partenza. <br/>\n",
    "La libreria `Pandas` verrà sfruttata per la lettura ed elaborazione dei dataframe, mentre la libreria `re` per l'uso dell'espressioni regolari. Verrà infine sfruttata la libreria `time` per registrare il tempo necessario per una run completa del codice."
   ]
  },
  {
   "cell_type": "code",
   "execution_count": 1,
   "metadata": {},
   "outputs": [],
   "source": [
    "import time\n",
    "start = time.time()"
   ]
  },
  {
   "cell_type": "code",
   "execution_count": 2,
   "metadata": {},
   "outputs": [],
   "source": [
    "import pandas as pd \n",
    "import re"
   ]
  },
  {
   "cell_type": "code",
   "execution_count": 3,
   "metadata": {},
   "outputs": [],
   "source": [
    "times = pd.read_csv('https://github.com/DanieleRizz0/CSProject/raw/main/timesData.csv', thousands = ',')\n",
    "shangai = pd.read_csv('https://github.com/DanieleRizz0/CSProject/raw/main/shanghaiData.csv')\n",
    "cwur = pd.read_csv('https://github.com/DanieleRizz0/CSProject/raw/main/cwurData.csv')"
   ]
  },
  {
   "cell_type": "code",
   "execution_count": 4,
   "metadata": {
    "scrolled": true
   },
   "outputs": [
    {
     "data": {
      "text/html": [
       "<div>\n",
       "<style scoped>\n",
       "    .dataframe tbody tr th:only-of-type {\n",
       "        vertical-align: middle;\n",
       "    }\n",
       "\n",
       "    .dataframe tbody tr th {\n",
       "        vertical-align: top;\n",
       "    }\n",
       "\n",
       "    .dataframe thead th {\n",
       "        text-align: right;\n",
       "    }\n",
       "</style>\n",
       "<table border=\"1\" class=\"dataframe\">\n",
       "  <thead>\n",
       "    <tr style=\"text-align: right;\">\n",
       "      <th></th>\n",
       "      <th>world_rank</th>\n",
       "      <th>university_name</th>\n",
       "      <th>country</th>\n",
       "      <th>teaching</th>\n",
       "      <th>international</th>\n",
       "      <th>research</th>\n",
       "      <th>citations</th>\n",
       "      <th>income</th>\n",
       "      <th>total_score</th>\n",
       "      <th>num_students</th>\n",
       "      <th>student_staff_ratio</th>\n",
       "      <th>international_students</th>\n",
       "      <th>female_male_ratio</th>\n",
       "      <th>year</th>\n",
       "    </tr>\n",
       "  </thead>\n",
       "  <tbody>\n",
       "    <tr>\n",
       "      <th>0</th>\n",
       "      <td>1</td>\n",
       "      <td>Harvard University</td>\n",
       "      <td>United States of America</td>\n",
       "      <td>99.7</td>\n",
       "      <td>72.4</td>\n",
       "      <td>98.7</td>\n",
       "      <td>98.8</td>\n",
       "      <td>34.5</td>\n",
       "      <td>96.1</td>\n",
       "      <td>20152.0</td>\n",
       "      <td>8.9</td>\n",
       "      <td>25%</td>\n",
       "      <td>NaN</td>\n",
       "      <td>2011</td>\n",
       "    </tr>\n",
       "    <tr>\n",
       "      <th>1</th>\n",
       "      <td>2</td>\n",
       "      <td>California Institute of Technology</td>\n",
       "      <td>United States of America</td>\n",
       "      <td>97.7</td>\n",
       "      <td>54.6</td>\n",
       "      <td>98.0</td>\n",
       "      <td>99.9</td>\n",
       "      <td>83.7</td>\n",
       "      <td>96.0</td>\n",
       "      <td>2243.0</td>\n",
       "      <td>6.9</td>\n",
       "      <td>27%</td>\n",
       "      <td>33 : 67</td>\n",
       "      <td>2011</td>\n",
       "    </tr>\n",
       "    <tr>\n",
       "      <th>2</th>\n",
       "      <td>3</td>\n",
       "      <td>Massachusetts Institute of Technology</td>\n",
       "      <td>United States of America</td>\n",
       "      <td>97.8</td>\n",
       "      <td>82.3</td>\n",
       "      <td>91.4</td>\n",
       "      <td>99.9</td>\n",
       "      <td>87.5</td>\n",
       "      <td>95.6</td>\n",
       "      <td>11074.0</td>\n",
       "      <td>9.0</td>\n",
       "      <td>33%</td>\n",
       "      <td>37 : 63</td>\n",
       "      <td>2011</td>\n",
       "    </tr>\n",
       "    <tr>\n",
       "      <th>3</th>\n",
       "      <td>4</td>\n",
       "      <td>Stanford University</td>\n",
       "      <td>United States of America</td>\n",
       "      <td>98.3</td>\n",
       "      <td>29.5</td>\n",
       "      <td>98.1</td>\n",
       "      <td>99.2</td>\n",
       "      <td>64.3</td>\n",
       "      <td>94.3</td>\n",
       "      <td>15596.0</td>\n",
       "      <td>7.8</td>\n",
       "      <td>22%</td>\n",
       "      <td>42 : 58</td>\n",
       "      <td>2011</td>\n",
       "    </tr>\n",
       "    <tr>\n",
       "      <th>4</th>\n",
       "      <td>5</td>\n",
       "      <td>Princeton University</td>\n",
       "      <td>United States of America</td>\n",
       "      <td>90.9</td>\n",
       "      <td>70.3</td>\n",
       "      <td>95.4</td>\n",
       "      <td>99.9</td>\n",
       "      <td>-</td>\n",
       "      <td>94.2</td>\n",
       "      <td>7929.0</td>\n",
       "      <td>8.4</td>\n",
       "      <td>27%</td>\n",
       "      <td>45 : 55</td>\n",
       "      <td>2011</td>\n",
       "    </tr>\n",
       "  </tbody>\n",
       "</table>\n",
       "</div>"
      ],
      "text/plain": [
       "  world_rank                        university_name                   country  \\\n",
       "0          1                     Harvard University  United States of America   \n",
       "1          2     California Institute of Technology  United States of America   \n",
       "2          3  Massachusetts Institute of Technology  United States of America   \n",
       "3          4                    Stanford University  United States of America   \n",
       "4          5                   Princeton University  United States of America   \n",
       "\n",
       "   teaching international  research  citations income total_score  \\\n",
       "0      99.7          72.4      98.7       98.8   34.5        96.1   \n",
       "1      97.7          54.6      98.0       99.9   83.7        96.0   \n",
       "2      97.8          82.3      91.4       99.9   87.5        95.6   \n",
       "3      98.3          29.5      98.1       99.2   64.3        94.3   \n",
       "4      90.9          70.3      95.4       99.9      -        94.2   \n",
       "\n",
       "   num_students  student_staff_ratio international_students female_male_ratio  \\\n",
       "0       20152.0                  8.9                    25%               NaN   \n",
       "1        2243.0                  6.9                    27%           33 : 67   \n",
       "2       11074.0                  9.0                    33%           37 : 63   \n",
       "3       15596.0                  7.8                    22%           42 : 58   \n",
       "4        7929.0                  8.4                    27%           45 : 55   \n",
       "\n",
       "   year  \n",
       "0  2011  \n",
       "1  2011  \n",
       "2  2011  \n",
       "3  2011  \n",
       "4  2011  "
      ]
     },
     "execution_count": 4,
     "metadata": {},
     "output_type": "execute_result"
    }
   ],
   "source": [
    "times.head()"
   ]
  },
  {
   "cell_type": "markdown",
   "metadata": {},
   "source": [
    "Si può notare come l'attributo `income` di interesse risulti essere di tipo `object`. Al fine di correggere questa situazione per utilizzi futuri di questa colonna, si effettua una conversione dell'attributo in tipo `numeric`."
   ]
  },
  {
   "cell_type": "code",
   "execution_count": 5,
   "metadata": {},
   "outputs": [
    {
     "data": {
      "text/plain": [
       "dtype('O')"
      ]
     },
     "execution_count": 5,
     "metadata": {},
     "output_type": "execute_result"
    }
   ],
   "source": [
    "times.income.dtype"
   ]
  },
  {
   "cell_type": "markdown",
   "metadata": {},
   "source": [
    "Si noti che il record 4 presenta il valore `-` in corrispondenza dell'attributo `income`. Viene quindi utilizzato l'argomento `errors = 'coerce'` della funzione di Pandas `to_numeric` al fine di convertire tale valore anomalo in valore nullo."
   ]
  },
  {
   "cell_type": "code",
   "execution_count": 6,
   "metadata": {},
   "outputs": [
    {
     "data": {
      "text/html": [
       "<div>\n",
       "<style scoped>\n",
       "    .dataframe tbody tr th:only-of-type {\n",
       "        vertical-align: middle;\n",
       "    }\n",
       "\n",
       "    .dataframe tbody tr th {\n",
       "        vertical-align: top;\n",
       "    }\n",
       "\n",
       "    .dataframe thead th {\n",
       "        text-align: right;\n",
       "    }\n",
       "</style>\n",
       "<table border=\"1\" class=\"dataframe\">\n",
       "  <thead>\n",
       "    <tr style=\"text-align: right;\">\n",
       "      <th></th>\n",
       "      <th>world_rank</th>\n",
       "      <th>university_name</th>\n",
       "      <th>country</th>\n",
       "      <th>teaching</th>\n",
       "      <th>international</th>\n",
       "      <th>research</th>\n",
       "      <th>citations</th>\n",
       "      <th>income</th>\n",
       "      <th>total_score</th>\n",
       "      <th>num_students</th>\n",
       "      <th>student_staff_ratio</th>\n",
       "      <th>international_students</th>\n",
       "      <th>female_male_ratio</th>\n",
       "      <th>year</th>\n",
       "    </tr>\n",
       "  </thead>\n",
       "  <tbody>\n",
       "    <tr>\n",
       "      <th>0</th>\n",
       "      <td>1</td>\n",
       "      <td>Harvard University</td>\n",
       "      <td>United States of America</td>\n",
       "      <td>99.7</td>\n",
       "      <td>72.4</td>\n",
       "      <td>98.7</td>\n",
       "      <td>98.8</td>\n",
       "      <td>34.5</td>\n",
       "      <td>96.1</td>\n",
       "      <td>20152.0</td>\n",
       "      <td>8.9</td>\n",
       "      <td>25%</td>\n",
       "      <td>NaN</td>\n",
       "      <td>2011</td>\n",
       "    </tr>\n",
       "    <tr>\n",
       "      <th>1</th>\n",
       "      <td>2</td>\n",
       "      <td>California Institute of Technology</td>\n",
       "      <td>United States of America</td>\n",
       "      <td>97.7</td>\n",
       "      <td>54.6</td>\n",
       "      <td>98.0</td>\n",
       "      <td>99.9</td>\n",
       "      <td>83.7</td>\n",
       "      <td>96.0</td>\n",
       "      <td>2243.0</td>\n",
       "      <td>6.9</td>\n",
       "      <td>27%</td>\n",
       "      <td>33 : 67</td>\n",
       "      <td>2011</td>\n",
       "    </tr>\n",
       "    <tr>\n",
       "      <th>2</th>\n",
       "      <td>3</td>\n",
       "      <td>Massachusetts Institute of Technology</td>\n",
       "      <td>United States of America</td>\n",
       "      <td>97.8</td>\n",
       "      <td>82.3</td>\n",
       "      <td>91.4</td>\n",
       "      <td>99.9</td>\n",
       "      <td>87.5</td>\n",
       "      <td>95.6</td>\n",
       "      <td>11074.0</td>\n",
       "      <td>9.0</td>\n",
       "      <td>33%</td>\n",
       "      <td>37 : 63</td>\n",
       "      <td>2011</td>\n",
       "    </tr>\n",
       "    <tr>\n",
       "      <th>3</th>\n",
       "      <td>4</td>\n",
       "      <td>Stanford University</td>\n",
       "      <td>United States of America</td>\n",
       "      <td>98.3</td>\n",
       "      <td>29.5</td>\n",
       "      <td>98.1</td>\n",
       "      <td>99.2</td>\n",
       "      <td>64.3</td>\n",
       "      <td>94.3</td>\n",
       "      <td>15596.0</td>\n",
       "      <td>7.8</td>\n",
       "      <td>22%</td>\n",
       "      <td>42 : 58</td>\n",
       "      <td>2011</td>\n",
       "    </tr>\n",
       "    <tr>\n",
       "      <th>4</th>\n",
       "      <td>5</td>\n",
       "      <td>Princeton University</td>\n",
       "      <td>United States of America</td>\n",
       "      <td>90.9</td>\n",
       "      <td>70.3</td>\n",
       "      <td>95.4</td>\n",
       "      <td>99.9</td>\n",
       "      <td>NaN</td>\n",
       "      <td>94.2</td>\n",
       "      <td>7929.0</td>\n",
       "      <td>8.4</td>\n",
       "      <td>27%</td>\n",
       "      <td>45 : 55</td>\n",
       "      <td>2011</td>\n",
       "    </tr>\n",
       "  </tbody>\n",
       "</table>\n",
       "</div>"
      ],
      "text/plain": [
       "  world_rank                        university_name                   country  \\\n",
       "0          1                     Harvard University  United States of America   \n",
       "1          2     California Institute of Technology  United States of America   \n",
       "2          3  Massachusetts Institute of Technology  United States of America   \n",
       "3          4                    Stanford University  United States of America   \n",
       "4          5                   Princeton University  United States of America   \n",
       "\n",
       "   teaching international  research  citations  income total_score  \\\n",
       "0      99.7          72.4      98.7       98.8    34.5        96.1   \n",
       "1      97.7          54.6      98.0       99.9    83.7        96.0   \n",
       "2      97.8          82.3      91.4       99.9    87.5        95.6   \n",
       "3      98.3          29.5      98.1       99.2    64.3        94.3   \n",
       "4      90.9          70.3      95.4       99.9     NaN        94.2   \n",
       "\n",
       "   num_students  student_staff_ratio international_students female_male_ratio  \\\n",
       "0       20152.0                  8.9                    25%               NaN   \n",
       "1        2243.0                  6.9                    27%           33 : 67   \n",
       "2       11074.0                  9.0                    33%           37 : 63   \n",
       "3       15596.0                  7.8                    22%           42 : 58   \n",
       "4        7929.0                  8.4                    27%           45 : 55   \n",
       "\n",
       "   year  \n",
       "0  2011  \n",
       "1  2011  \n",
       "2  2011  \n",
       "3  2011  \n",
       "4  2011  "
      ]
     },
     "execution_count": 6,
     "metadata": {},
     "output_type": "execute_result"
    }
   ],
   "source": [
    "times.income = pd.to_numeric(times.income, errors = 'coerce')\n",
    "times.head()"
   ]
  },
  {
   "cell_type": "code",
   "execution_count": 7,
   "metadata": {
    "scrolled": true
   },
   "outputs": [
    {
     "data": {
      "text/html": [
       "<div>\n",
       "<style scoped>\n",
       "    .dataframe tbody tr th:only-of-type {\n",
       "        vertical-align: middle;\n",
       "    }\n",
       "\n",
       "    .dataframe tbody tr th {\n",
       "        vertical-align: top;\n",
       "    }\n",
       "\n",
       "    .dataframe thead th {\n",
       "        text-align: right;\n",
       "    }\n",
       "</style>\n",
       "<table border=\"1\" class=\"dataframe\">\n",
       "  <thead>\n",
       "    <tr style=\"text-align: right;\">\n",
       "      <th></th>\n",
       "      <th>world_rank</th>\n",
       "      <th>university_name</th>\n",
       "      <th>national_rank</th>\n",
       "      <th>total_score</th>\n",
       "      <th>alumni</th>\n",
       "      <th>award</th>\n",
       "      <th>hici</th>\n",
       "      <th>ns</th>\n",
       "      <th>pub</th>\n",
       "      <th>pcp</th>\n",
       "      <th>year</th>\n",
       "    </tr>\n",
       "  </thead>\n",
       "  <tbody>\n",
       "    <tr>\n",
       "      <th>0</th>\n",
       "      <td>1</td>\n",
       "      <td>Harvard University</td>\n",
       "      <td>1</td>\n",
       "      <td>100.0</td>\n",
       "      <td>100.0</td>\n",
       "      <td>100.0</td>\n",
       "      <td>100.0</td>\n",
       "      <td>100.0</td>\n",
       "      <td>100.0</td>\n",
       "      <td>72.4</td>\n",
       "      <td>2005</td>\n",
       "    </tr>\n",
       "    <tr>\n",
       "      <th>1</th>\n",
       "      <td>2</td>\n",
       "      <td>University of Cambridge</td>\n",
       "      <td>1</td>\n",
       "      <td>73.6</td>\n",
       "      <td>99.8</td>\n",
       "      <td>93.4</td>\n",
       "      <td>53.3</td>\n",
       "      <td>56.6</td>\n",
       "      <td>70.9</td>\n",
       "      <td>66.9</td>\n",
       "      <td>2005</td>\n",
       "    </tr>\n",
       "    <tr>\n",
       "      <th>2</th>\n",
       "      <td>3</td>\n",
       "      <td>Stanford University</td>\n",
       "      <td>2</td>\n",
       "      <td>73.4</td>\n",
       "      <td>41.1</td>\n",
       "      <td>72.2</td>\n",
       "      <td>88.5</td>\n",
       "      <td>70.9</td>\n",
       "      <td>72.3</td>\n",
       "      <td>65.0</td>\n",
       "      <td>2005</td>\n",
       "    </tr>\n",
       "    <tr>\n",
       "      <th>3</th>\n",
       "      <td>4</td>\n",
       "      <td>University of California, Berkeley</td>\n",
       "      <td>3</td>\n",
       "      <td>72.8</td>\n",
       "      <td>71.8</td>\n",
       "      <td>76.0</td>\n",
       "      <td>69.4</td>\n",
       "      <td>73.9</td>\n",
       "      <td>72.2</td>\n",
       "      <td>52.7</td>\n",
       "      <td>2005</td>\n",
       "    </tr>\n",
       "    <tr>\n",
       "      <th>4</th>\n",
       "      <td>5</td>\n",
       "      <td>Massachusetts Institute of Technology (MIT)</td>\n",
       "      <td>4</td>\n",
       "      <td>70.1</td>\n",
       "      <td>74.0</td>\n",
       "      <td>80.6</td>\n",
       "      <td>66.7</td>\n",
       "      <td>65.8</td>\n",
       "      <td>64.3</td>\n",
       "      <td>53.0</td>\n",
       "      <td>2005</td>\n",
       "    </tr>\n",
       "  </tbody>\n",
       "</table>\n",
       "</div>"
      ],
      "text/plain": [
       "  world_rank                              university_name national_rank  \\\n",
       "0          1                           Harvard University             1   \n",
       "1          2                      University of Cambridge             1   \n",
       "2          3                          Stanford University             2   \n",
       "3          4           University of California, Berkeley             3   \n",
       "4          5  Massachusetts Institute of Technology (MIT)             4   \n",
       "\n",
       "   total_score  alumni  award   hici     ns    pub   pcp  year  \n",
       "0        100.0   100.0  100.0  100.0  100.0  100.0  72.4  2005  \n",
       "1         73.6    99.8   93.4   53.3   56.6   70.9  66.9  2005  \n",
       "2         73.4    41.1   72.2   88.5   70.9   72.3  65.0  2005  \n",
       "3         72.8    71.8   76.0   69.4   73.9   72.2  52.7  2005  \n",
       "4         70.1    74.0   80.6   66.7   65.8   64.3  53.0  2005  "
      ]
     },
     "execution_count": 7,
     "metadata": {},
     "output_type": "execute_result"
    }
   ],
   "source": [
    "shangai.head()"
   ]
  },
  {
   "cell_type": "code",
   "execution_count": 8,
   "metadata": {
    "scrolled": true
   },
   "outputs": [
    {
     "data": {
      "text/html": [
       "<div>\n",
       "<style scoped>\n",
       "    .dataframe tbody tr th:only-of-type {\n",
       "        vertical-align: middle;\n",
       "    }\n",
       "\n",
       "    .dataframe tbody tr th {\n",
       "        vertical-align: top;\n",
       "    }\n",
       "\n",
       "    .dataframe thead th {\n",
       "        text-align: right;\n",
       "    }\n",
       "</style>\n",
       "<table border=\"1\" class=\"dataframe\">\n",
       "  <thead>\n",
       "    <tr style=\"text-align: right;\">\n",
       "      <th></th>\n",
       "      <th>world_rank</th>\n",
       "      <th>institution</th>\n",
       "      <th>country</th>\n",
       "      <th>national_rank</th>\n",
       "      <th>quality_of_education</th>\n",
       "      <th>alumni_employment</th>\n",
       "      <th>quality_of_faculty</th>\n",
       "      <th>publications</th>\n",
       "      <th>influence</th>\n",
       "      <th>citations</th>\n",
       "      <th>broad_impact</th>\n",
       "      <th>patents</th>\n",
       "      <th>score</th>\n",
       "      <th>year</th>\n",
       "    </tr>\n",
       "  </thead>\n",
       "  <tbody>\n",
       "    <tr>\n",
       "      <th>0</th>\n",
       "      <td>1</td>\n",
       "      <td>Harvard University</td>\n",
       "      <td>USA</td>\n",
       "      <td>1</td>\n",
       "      <td>7</td>\n",
       "      <td>9</td>\n",
       "      <td>1</td>\n",
       "      <td>1</td>\n",
       "      <td>1</td>\n",
       "      <td>1</td>\n",
       "      <td>NaN</td>\n",
       "      <td>5</td>\n",
       "      <td>100.00</td>\n",
       "      <td>2012</td>\n",
       "    </tr>\n",
       "    <tr>\n",
       "      <th>1</th>\n",
       "      <td>2</td>\n",
       "      <td>Massachusetts Institute of Technology</td>\n",
       "      <td>USA</td>\n",
       "      <td>2</td>\n",
       "      <td>9</td>\n",
       "      <td>17</td>\n",
       "      <td>3</td>\n",
       "      <td>12</td>\n",
       "      <td>4</td>\n",
       "      <td>4</td>\n",
       "      <td>NaN</td>\n",
       "      <td>1</td>\n",
       "      <td>91.67</td>\n",
       "      <td>2012</td>\n",
       "    </tr>\n",
       "    <tr>\n",
       "      <th>2</th>\n",
       "      <td>3</td>\n",
       "      <td>Stanford University</td>\n",
       "      <td>USA</td>\n",
       "      <td>3</td>\n",
       "      <td>17</td>\n",
       "      <td>11</td>\n",
       "      <td>5</td>\n",
       "      <td>4</td>\n",
       "      <td>2</td>\n",
       "      <td>2</td>\n",
       "      <td>NaN</td>\n",
       "      <td>15</td>\n",
       "      <td>89.50</td>\n",
       "      <td>2012</td>\n",
       "    </tr>\n",
       "    <tr>\n",
       "      <th>3</th>\n",
       "      <td>4</td>\n",
       "      <td>University of Cambridge</td>\n",
       "      <td>United Kingdom</td>\n",
       "      <td>1</td>\n",
       "      <td>10</td>\n",
       "      <td>24</td>\n",
       "      <td>4</td>\n",
       "      <td>16</td>\n",
       "      <td>16</td>\n",
       "      <td>11</td>\n",
       "      <td>NaN</td>\n",
       "      <td>50</td>\n",
       "      <td>86.17</td>\n",
       "      <td>2012</td>\n",
       "    </tr>\n",
       "    <tr>\n",
       "      <th>4</th>\n",
       "      <td>5</td>\n",
       "      <td>California Institute of Technology</td>\n",
       "      <td>USA</td>\n",
       "      <td>4</td>\n",
       "      <td>2</td>\n",
       "      <td>29</td>\n",
       "      <td>7</td>\n",
       "      <td>37</td>\n",
       "      <td>22</td>\n",
       "      <td>22</td>\n",
       "      <td>NaN</td>\n",
       "      <td>18</td>\n",
       "      <td>85.21</td>\n",
       "      <td>2012</td>\n",
       "    </tr>\n",
       "  </tbody>\n",
       "</table>\n",
       "</div>"
      ],
      "text/plain": [
       "   world_rank                            institution         country  \\\n",
       "0           1                     Harvard University             USA   \n",
       "1           2  Massachusetts Institute of Technology             USA   \n",
       "2           3                    Stanford University             USA   \n",
       "3           4                University of Cambridge  United Kingdom   \n",
       "4           5     California Institute of Technology             USA   \n",
       "\n",
       "   national_rank  quality_of_education  alumni_employment  quality_of_faculty  \\\n",
       "0              1                     7                  9                   1   \n",
       "1              2                     9                 17                   3   \n",
       "2              3                    17                 11                   5   \n",
       "3              1                    10                 24                   4   \n",
       "4              4                     2                 29                   7   \n",
       "\n",
       "   publications  influence  citations  broad_impact  patents   score  year  \n",
       "0             1          1          1           NaN        5  100.00  2012  \n",
       "1            12          4          4           NaN        1   91.67  2012  \n",
       "2             4          2          2           NaN       15   89.50  2012  \n",
       "3            16         16         11           NaN       50   86.17  2012  \n",
       "4            37         22         22           NaN       18   85.21  2012  "
      ]
     },
     "execution_count": 8,
     "metadata": {},
     "output_type": "execute_result"
    }
   ],
   "source": [
    "cwur.head()"
   ]
  },
  {
   "cell_type": "markdown",
   "metadata": {},
   "source": [
    "### 1. For each university, extract from the times dataset the most recent and the least recent data, obtaining two separate dataframes.\n"
   ]
  },
  {
   "cell_type": "markdown",
   "metadata": {},
   "source": [
    "L'obiettivo è ottenere due dataframe separati contenenti le informazioni più e meno recenti per ogni università contenuti nel dataframe `times`. <br/> Tale risultato può essere ottenuto sfruttando i metodi di Pandas `idxmax` e `idxmin`, a seguito di un raggruppamento rispetto al nome delle università. <br/>\n",
    "Questi metodi consentono di ottenere le posizioni dei record relativi rispettivamente al valore massimo e minimo. Una volta ottenuti questi indici è sufficiente sfruttare il metodo `loc` per estrarre l'informazione corrispondente. "
   ]
  },
  {
   "cell_type": "code",
   "execution_count": 9,
   "metadata": {
    "scrolled": true
   },
   "outputs": [
    {
     "data": {
      "text/html": [
       "<div>\n",
       "<style scoped>\n",
       "    .dataframe tbody tr th:only-of-type {\n",
       "        vertical-align: middle;\n",
       "    }\n",
       "\n",
       "    .dataframe tbody tr th {\n",
       "        vertical-align: top;\n",
       "    }\n",
       "\n",
       "    .dataframe thead th {\n",
       "        text-align: right;\n",
       "    }\n",
       "</style>\n",
       "<table border=\"1\" class=\"dataframe\">\n",
       "  <thead>\n",
       "    <tr style=\"text-align: right;\">\n",
       "      <th></th>\n",
       "      <th>world_rank</th>\n",
       "      <th>university_name</th>\n",
       "      <th>country</th>\n",
       "      <th>teaching</th>\n",
       "      <th>international</th>\n",
       "      <th>research</th>\n",
       "      <th>citations</th>\n",
       "      <th>income</th>\n",
       "      <th>total_score</th>\n",
       "      <th>num_students</th>\n",
       "      <th>student_staff_ratio</th>\n",
       "      <th>international_students</th>\n",
       "      <th>female_male_ratio</th>\n",
       "      <th>year</th>\n",
       "    </tr>\n",
       "  </thead>\n",
       "  <tbody>\n",
       "    <tr>\n",
       "      <th>2405</th>\n",
       "      <td>601-800</td>\n",
       "      <td>AGH University of Science and Technology</td>\n",
       "      <td>Poland</td>\n",
       "      <td>14.2</td>\n",
       "      <td>17.9</td>\n",
       "      <td>3.7</td>\n",
       "      <td>35.7</td>\n",
       "      <td>NaN</td>\n",
       "      <td>-</td>\n",
       "      <td>35569.0</td>\n",
       "      <td>17.0</td>\n",
       "      <td>1%</td>\n",
       "      <td>-</td>\n",
       "      <td>2016</td>\n",
       "    </tr>\n",
       "    <tr>\n",
       "      <th>2003</th>\n",
       "      <td>201-250</td>\n",
       "      <td>Aalborg University</td>\n",
       "      <td>Denmark</td>\n",
       "      <td>25.1</td>\n",
       "      <td>71.0</td>\n",
       "      <td>28.4</td>\n",
       "      <td>73.8</td>\n",
       "      <td>43.7</td>\n",
       "      <td>-</td>\n",
       "      <td>17422.0</td>\n",
       "      <td>15.9</td>\n",
       "      <td>15%</td>\n",
       "      <td>48 : 52</td>\n",
       "      <td>2016</td>\n",
       "    </tr>\n",
       "    <tr>\n",
       "      <th>2056</th>\n",
       "      <td>251-300</td>\n",
       "      <td>Aalto University</td>\n",
       "      <td>Finland</td>\n",
       "      <td>31.1</td>\n",
       "      <td>65.4</td>\n",
       "      <td>32.8</td>\n",
       "      <td>62.1</td>\n",
       "      <td>61.6</td>\n",
       "      <td>-</td>\n",
       "      <td>16099.0</td>\n",
       "      <td>24.2</td>\n",
       "      <td>17%</td>\n",
       "      <td>32 : 68</td>\n",
       "      <td>2016</td>\n",
       "    </tr>\n",
       "    <tr>\n",
       "      <th>1908</th>\n",
       "      <td>=106</td>\n",
       "      <td>Aarhus University</td>\n",
       "      <td>Denmark</td>\n",
       "      <td>36.9</td>\n",
       "      <td>76.8</td>\n",
       "      <td>50.7</td>\n",
       "      <td>79.8</td>\n",
       "      <td>68.3</td>\n",
       "      <td>57.7</td>\n",
       "      <td>23895.0</td>\n",
       "      <td>13.6</td>\n",
       "      <td>14%</td>\n",
       "      <td>54 : 46</td>\n",
       "      <td>2016</td>\n",
       "    </tr>\n",
       "    <tr>\n",
       "      <th>2105</th>\n",
       "      <td>301-350</td>\n",
       "      <td>Aberystwyth University</td>\n",
       "      <td>United Kingdom</td>\n",
       "      <td>21.6</td>\n",
       "      <td>72.2</td>\n",
       "      <td>18.9</td>\n",
       "      <td>67.2</td>\n",
       "      <td>31.3</td>\n",
       "      <td>-</td>\n",
       "      <td>9252.0</td>\n",
       "      <td>19.2</td>\n",
       "      <td>18%</td>\n",
       "      <td>48 : 52</td>\n",
       "      <td>2016</td>\n",
       "    </tr>\n",
       "  </tbody>\n",
       "</table>\n",
       "</div>"
      ],
      "text/plain": [
       "     world_rank                           university_name         country  \\\n",
       "2405    601-800  AGH University of Science and Technology          Poland   \n",
       "2003    201-250                        Aalborg University         Denmark   \n",
       "2056    251-300                          Aalto University         Finland   \n",
       "1908       =106                         Aarhus University         Denmark   \n",
       "2105    301-350                    Aberystwyth University  United Kingdom   \n",
       "\n",
       "      teaching international  research  citations  income total_score  \\\n",
       "2405      14.2          17.9       3.7       35.7     NaN           -   \n",
       "2003      25.1          71.0      28.4       73.8    43.7           -   \n",
       "2056      31.1          65.4      32.8       62.1    61.6           -   \n",
       "1908      36.9          76.8      50.7       79.8    68.3        57.7   \n",
       "2105      21.6          72.2      18.9       67.2    31.3           -   \n",
       "\n",
       "      num_students  student_staff_ratio international_students  \\\n",
       "2405       35569.0                 17.0                     1%   \n",
       "2003       17422.0                 15.9                    15%   \n",
       "2056       16099.0                 24.2                    17%   \n",
       "1908       23895.0                 13.6                    14%   \n",
       "2105        9252.0                 19.2                    18%   \n",
       "\n",
       "     female_male_ratio  year  \n",
       "2405                 -  2016  \n",
       "2003           48 : 52  2016  \n",
       "2056           32 : 68  2016  \n",
       "1908           54 : 46  2016  \n",
       "2105           48 : 52  2016  "
      ]
     },
     "execution_count": 9,
     "metadata": {},
     "output_type": "execute_result"
    }
   ],
   "source": [
    "new_times = times.loc[times.groupby('university_name').year.idxmax()]\n",
    "new_times.head()"
   ]
  },
  {
   "cell_type": "code",
   "execution_count": 10,
   "metadata": {},
   "outputs": [
    {
     "data": {
      "text/html": [
       "<div>\n",
       "<style scoped>\n",
       "    .dataframe tbody tr th:only-of-type {\n",
       "        vertical-align: middle;\n",
       "    }\n",
       "\n",
       "    .dataframe tbody tr th {\n",
       "        vertical-align: top;\n",
       "    }\n",
       "\n",
       "    .dataframe thead th {\n",
       "        text-align: right;\n",
       "    }\n",
       "</style>\n",
       "<table border=\"1\" class=\"dataframe\">\n",
       "  <thead>\n",
       "    <tr style=\"text-align: right;\">\n",
       "      <th></th>\n",
       "      <th>world_rank</th>\n",
       "      <th>university_name</th>\n",
       "      <th>country</th>\n",
       "      <th>teaching</th>\n",
       "      <th>international</th>\n",
       "      <th>research</th>\n",
       "      <th>citations</th>\n",
       "      <th>income</th>\n",
       "      <th>total_score</th>\n",
       "      <th>num_students</th>\n",
       "      <th>student_staff_ratio</th>\n",
       "      <th>international_students</th>\n",
       "      <th>female_male_ratio</th>\n",
       "      <th>year</th>\n",
       "    </tr>\n",
       "  </thead>\n",
       "  <tbody>\n",
       "    <tr>\n",
       "      <th>2405</th>\n",
       "      <td>601-800</td>\n",
       "      <td>AGH University of Science and Technology</td>\n",
       "      <td>Poland</td>\n",
       "      <td>14.2</td>\n",
       "      <td>17.9</td>\n",
       "      <td>3.7</td>\n",
       "      <td>35.7</td>\n",
       "      <td>NaN</td>\n",
       "      <td>-</td>\n",
       "      <td>35569.0</td>\n",
       "      <td>17.0</td>\n",
       "      <td>1%</td>\n",
       "      <td>-</td>\n",
       "      <td>2016</td>\n",
       "    </tr>\n",
       "    <tr>\n",
       "      <th>501</th>\n",
       "      <td>301-350</td>\n",
       "      <td>Aalborg University</td>\n",
       "      <td>Denmark</td>\n",
       "      <td>19.0</td>\n",
       "      <td>75.3</td>\n",
       "      <td>20.0</td>\n",
       "      <td>27.1</td>\n",
       "      <td>36.4</td>\n",
       "      <td>-</td>\n",
       "      <td>17422.0</td>\n",
       "      <td>15.9</td>\n",
       "      <td>15%</td>\n",
       "      <td>48 : 52</td>\n",
       "      <td>2012</td>\n",
       "    </tr>\n",
       "    <tr>\n",
       "      <th>502</th>\n",
       "      <td>301-350</td>\n",
       "      <td>Aalto University</td>\n",
       "      <td>Finland</td>\n",
       "      <td>26.2</td>\n",
       "      <td>49.0</td>\n",
       "      <td>22.2</td>\n",
       "      <td>37.5</td>\n",
       "      <td>61.9</td>\n",
       "      <td>-</td>\n",
       "      <td>16099.0</td>\n",
       "      <td>24.2</td>\n",
       "      <td>17%</td>\n",
       "      <td>32 : 68</td>\n",
       "      <td>2012</td>\n",
       "    </tr>\n",
       "    <tr>\n",
       "      <th>166</th>\n",
       "      <td>167</td>\n",
       "      <td>Aarhus University</td>\n",
       "      <td>Denmark</td>\n",
       "      <td>38.1</td>\n",
       "      <td>33.4</td>\n",
       "      <td>55.6</td>\n",
       "      <td>57.3</td>\n",
       "      <td>61.5</td>\n",
       "      <td>49.9</td>\n",
       "      <td>23895.0</td>\n",
       "      <td>13.6</td>\n",
       "      <td>14%</td>\n",
       "      <td>54 : 46</td>\n",
       "      <td>2011</td>\n",
       "    </tr>\n",
       "    <tr>\n",
       "      <th>476</th>\n",
       "      <td>276-300</td>\n",
       "      <td>Aberystwyth University</td>\n",
       "      <td>United Kingdom</td>\n",
       "      <td>19.8</td>\n",
       "      <td>63.8</td>\n",
       "      <td>15.5</td>\n",
       "      <td>56.6</td>\n",
       "      <td>35.5</td>\n",
       "      <td>-</td>\n",
       "      <td>9252.0</td>\n",
       "      <td>19.2</td>\n",
       "      <td>18%</td>\n",
       "      <td>48 : 52</td>\n",
       "      <td>2012</td>\n",
       "    </tr>\n",
       "  </tbody>\n",
       "</table>\n",
       "</div>"
      ],
      "text/plain": [
       "     world_rank                           university_name         country  \\\n",
       "2405    601-800  AGH University of Science and Technology          Poland   \n",
       "501     301-350                        Aalborg University         Denmark   \n",
       "502     301-350                          Aalto University         Finland   \n",
       "166         167                         Aarhus University         Denmark   \n",
       "476     276-300                    Aberystwyth University  United Kingdom   \n",
       "\n",
       "      teaching international  research  citations  income total_score  \\\n",
       "2405      14.2          17.9       3.7       35.7     NaN           -   \n",
       "501       19.0          75.3      20.0       27.1    36.4           -   \n",
       "502       26.2          49.0      22.2       37.5    61.9           -   \n",
       "166       38.1          33.4      55.6       57.3    61.5        49.9   \n",
       "476       19.8          63.8      15.5       56.6    35.5           -   \n",
       "\n",
       "      num_students  student_staff_ratio international_students  \\\n",
       "2405       35569.0                 17.0                     1%   \n",
       "501        17422.0                 15.9                    15%   \n",
       "502        16099.0                 24.2                    17%   \n",
       "166        23895.0                 13.6                    14%   \n",
       "476         9252.0                 19.2                    18%   \n",
       "\n",
       "     female_male_ratio  year  \n",
       "2405                 -  2016  \n",
       "501            48 : 52  2012  \n",
       "502            32 : 68  2012  \n",
       "166            54 : 46  2011  \n",
       "476            48 : 52  2012  "
      ]
     },
     "execution_count": 10,
     "metadata": {},
     "output_type": "execute_result"
    }
   ],
   "source": [
    "old_times = times.loc[times.groupby('university_name').year.idxmin()]\n",
    "old_times.head()"
   ]
  },
  {
   "cell_type": "markdown",
   "metadata": {},
   "source": [
    "### 2. For each university, compute the improvement in income between the least recent and the most recent data points.\n"
   ]
  },
  {
   "cell_type": "markdown",
   "metadata": {},
   "source": [
    "L'idea è di performare una join dei dataset costruiti nel punto precedente sul nome dell'università e di valutare da questa unione l'eventuale differenza nei livelli di reddito. "
   ]
  },
  {
   "cell_type": "code",
   "execution_count": 11,
   "metadata": {},
   "outputs": [
    {
     "data": {
      "text/html": [
       "<div>\n",
       "<style scoped>\n",
       "    .dataframe tbody tr th:only-of-type {\n",
       "        vertical-align: middle;\n",
       "    }\n",
       "\n",
       "    .dataframe tbody tr th {\n",
       "        vertical-align: top;\n",
       "    }\n",
       "\n",
       "    .dataframe thead th {\n",
       "        text-align: right;\n",
       "    }\n",
       "</style>\n",
       "<table border=\"1\" class=\"dataframe\">\n",
       "  <thead>\n",
       "    <tr style=\"text-align: right;\">\n",
       "      <th></th>\n",
       "      <th>world_rank_new</th>\n",
       "      <th>university_name</th>\n",
       "      <th>country_new</th>\n",
       "      <th>teaching_new</th>\n",
       "      <th>international_new</th>\n",
       "      <th>research_new</th>\n",
       "      <th>citations_new</th>\n",
       "      <th>income_new</th>\n",
       "      <th>total_score_new</th>\n",
       "      <th>num_students_new</th>\n",
       "      <th>...</th>\n",
       "      <th>international_old</th>\n",
       "      <th>research_old</th>\n",
       "      <th>citations_old</th>\n",
       "      <th>income_old</th>\n",
       "      <th>total_score_old</th>\n",
       "      <th>num_students_old</th>\n",
       "      <th>student_staff_ratio_old</th>\n",
       "      <th>international_students_old</th>\n",
       "      <th>female_male_ratio_old</th>\n",
       "      <th>year_old</th>\n",
       "    </tr>\n",
       "  </thead>\n",
       "  <tbody>\n",
       "    <tr>\n",
       "      <th>0</th>\n",
       "      <td>601-800</td>\n",
       "      <td>AGH University of Science and Technology</td>\n",
       "      <td>Poland</td>\n",
       "      <td>14.2</td>\n",
       "      <td>17.9</td>\n",
       "      <td>3.7</td>\n",
       "      <td>35.7</td>\n",
       "      <td>NaN</td>\n",
       "      <td>-</td>\n",
       "      <td>35569.0</td>\n",
       "      <td>...</td>\n",
       "      <td>17.9</td>\n",
       "      <td>3.7</td>\n",
       "      <td>35.7</td>\n",
       "      <td>NaN</td>\n",
       "      <td>-</td>\n",
       "      <td>35569.0</td>\n",
       "      <td>17.0</td>\n",
       "      <td>1%</td>\n",
       "      <td>-</td>\n",
       "      <td>2016</td>\n",
       "    </tr>\n",
       "    <tr>\n",
       "      <th>1</th>\n",
       "      <td>201-250</td>\n",
       "      <td>Aalborg University</td>\n",
       "      <td>Denmark</td>\n",
       "      <td>25.1</td>\n",
       "      <td>71.0</td>\n",
       "      <td>28.4</td>\n",
       "      <td>73.8</td>\n",
       "      <td>43.7</td>\n",
       "      <td>-</td>\n",
       "      <td>17422.0</td>\n",
       "      <td>...</td>\n",
       "      <td>75.3</td>\n",
       "      <td>20.0</td>\n",
       "      <td>27.1</td>\n",
       "      <td>36.4</td>\n",
       "      <td>-</td>\n",
       "      <td>17422.0</td>\n",
       "      <td>15.9</td>\n",
       "      <td>15%</td>\n",
       "      <td>48 : 52</td>\n",
       "      <td>2012</td>\n",
       "    </tr>\n",
       "    <tr>\n",
       "      <th>2</th>\n",
       "      <td>251-300</td>\n",
       "      <td>Aalto University</td>\n",
       "      <td>Finland</td>\n",
       "      <td>31.1</td>\n",
       "      <td>65.4</td>\n",
       "      <td>32.8</td>\n",
       "      <td>62.1</td>\n",
       "      <td>61.6</td>\n",
       "      <td>-</td>\n",
       "      <td>16099.0</td>\n",
       "      <td>...</td>\n",
       "      <td>49.0</td>\n",
       "      <td>22.2</td>\n",
       "      <td>37.5</td>\n",
       "      <td>61.9</td>\n",
       "      <td>-</td>\n",
       "      <td>16099.0</td>\n",
       "      <td>24.2</td>\n",
       "      <td>17%</td>\n",
       "      <td>32 : 68</td>\n",
       "      <td>2012</td>\n",
       "    </tr>\n",
       "    <tr>\n",
       "      <th>3</th>\n",
       "      <td>=106</td>\n",
       "      <td>Aarhus University</td>\n",
       "      <td>Denmark</td>\n",
       "      <td>36.9</td>\n",
       "      <td>76.8</td>\n",
       "      <td>50.7</td>\n",
       "      <td>79.8</td>\n",
       "      <td>68.3</td>\n",
       "      <td>57.7</td>\n",
       "      <td>23895.0</td>\n",
       "      <td>...</td>\n",
       "      <td>33.4</td>\n",
       "      <td>55.6</td>\n",
       "      <td>57.3</td>\n",
       "      <td>61.5</td>\n",
       "      <td>49.9</td>\n",
       "      <td>23895.0</td>\n",
       "      <td>13.6</td>\n",
       "      <td>14%</td>\n",
       "      <td>54 : 46</td>\n",
       "      <td>2011</td>\n",
       "    </tr>\n",
       "    <tr>\n",
       "      <th>4</th>\n",
       "      <td>301-350</td>\n",
       "      <td>Aberystwyth University</td>\n",
       "      <td>United Kingdom</td>\n",
       "      <td>21.6</td>\n",
       "      <td>72.2</td>\n",
       "      <td>18.9</td>\n",
       "      <td>67.2</td>\n",
       "      <td>31.3</td>\n",
       "      <td>-</td>\n",
       "      <td>9252.0</td>\n",
       "      <td>...</td>\n",
       "      <td>63.8</td>\n",
       "      <td>15.5</td>\n",
       "      <td>56.6</td>\n",
       "      <td>35.5</td>\n",
       "      <td>-</td>\n",
       "      <td>9252.0</td>\n",
       "      <td>19.2</td>\n",
       "      <td>18%</td>\n",
       "      <td>48 : 52</td>\n",
       "      <td>2012</td>\n",
       "    </tr>\n",
       "  </tbody>\n",
       "</table>\n",
       "<p>5 rows × 27 columns</p>\n",
       "</div>"
      ],
      "text/plain": [
       "  world_rank_new                           university_name     country_new  \\\n",
       "0        601-800  AGH University of Science and Technology          Poland   \n",
       "1        201-250                        Aalborg University         Denmark   \n",
       "2        251-300                          Aalto University         Finland   \n",
       "3           =106                         Aarhus University         Denmark   \n",
       "4        301-350                    Aberystwyth University  United Kingdom   \n",
       "\n",
       "   teaching_new international_new  research_new  citations_new  income_new  \\\n",
       "0          14.2              17.9           3.7           35.7         NaN   \n",
       "1          25.1              71.0          28.4           73.8        43.7   \n",
       "2          31.1              65.4          32.8           62.1        61.6   \n",
       "3          36.9              76.8          50.7           79.8        68.3   \n",
       "4          21.6              72.2          18.9           67.2        31.3   \n",
       "\n",
       "  total_score_new  num_students_new  ...  international_old research_old  \\\n",
       "0               -           35569.0  ...               17.9          3.7   \n",
       "1               -           17422.0  ...               75.3         20.0   \n",
       "2               -           16099.0  ...               49.0         22.2   \n",
       "3            57.7           23895.0  ...               33.4         55.6   \n",
       "4               -            9252.0  ...               63.8         15.5   \n",
       "\n",
       "  citations_old  income_old total_score_old num_students_old  \\\n",
       "0          35.7         NaN               -          35569.0   \n",
       "1          27.1        36.4               -          17422.0   \n",
       "2          37.5        61.9               -          16099.0   \n",
       "3          57.3        61.5            49.9          23895.0   \n",
       "4          56.6        35.5               -           9252.0   \n",
       "\n",
       "   student_staff_ratio_old international_students_old  female_male_ratio_old  \\\n",
       "0                     17.0                         1%                      -   \n",
       "1                     15.9                        15%                48 : 52   \n",
       "2                     24.2                        17%                32 : 68   \n",
       "3                     13.6                        14%                54 : 46   \n",
       "4                     19.2                        18%                48 : 52   \n",
       "\n",
       "   year_old  \n",
       "0      2016  \n",
       "1      2012  \n",
       "2      2012  \n",
       "3      2011  \n",
       "4      2012  \n",
       "\n",
       "[5 rows x 27 columns]"
      ]
     },
     "execution_count": 11,
     "metadata": {},
     "output_type": "execute_result"
    }
   ],
   "source": [
    "merged = pd.merge(new_times, old_times, on = 'university_name', suffixes = ('_new', '_old'))\n",
    "merged.head()"
   ]
  },
  {
   "cell_type": "markdown",
   "metadata": {},
   "source": [
    "E' importante individuare eventuali valori mancanti nei campi di interesse prima di effettuare il calcolo della variazione del reddito. Questa operazione si può effettuare aggiungendo il comando `all` al metodo `notna()`, il quale restituisce `False` se anche un solo valore della serie è nullo."
   ]
  },
  {
   "cell_type": "code",
   "execution_count": 12,
   "metadata": {},
   "outputs": [
    {
     "data": {
      "text/plain": [
       "False"
      ]
     },
     "execution_count": 12,
     "metadata": {},
     "output_type": "execute_result"
    }
   ],
   "source": [
    "merged.income_new.notna().all()"
   ]
  },
  {
   "cell_type": "code",
   "execution_count": 13,
   "metadata": {},
   "outputs": [
    {
     "data": {
      "text/plain": [
       "False"
      ]
     },
     "execution_count": 13,
     "metadata": {},
     "output_type": "execute_result"
    }
   ],
   "source": [
    "merged.income_old.notna().all()"
   ]
  },
  {
   "cell_type": "markdown",
   "metadata": {},
   "source": [
    "In entrambi i dataframe sono presenti record con valori nulli alla voce `income`. Al fine di risolvere questa problematica si è optato per la rimozione dei record con valori mancanti."
   ]
  },
  {
   "cell_type": "code",
   "execution_count": 14,
   "metadata": {},
   "outputs": [],
   "source": [
    "merged.dropna(subset = ['income_new', 'income_old'], inplace = True)"
   ]
  },
  {
   "cell_type": "code",
   "execution_count": 15,
   "metadata": {},
   "outputs": [],
   "source": [
    "merged['improvement'] = merged.income_new - merged.income_old "
   ]
  },
  {
   "cell_type": "code",
   "execution_count": 16,
   "metadata": {},
   "outputs": [
    {
     "data": {
      "text/html": [
       "<div>\n",
       "<style scoped>\n",
       "    .dataframe tbody tr th:only-of-type {\n",
       "        vertical-align: middle;\n",
       "    }\n",
       "\n",
       "    .dataframe tbody tr th {\n",
       "        vertical-align: top;\n",
       "    }\n",
       "\n",
       "    .dataframe thead th {\n",
       "        text-align: right;\n",
       "    }\n",
       "</style>\n",
       "<table border=\"1\" class=\"dataframe\">\n",
       "  <thead>\n",
       "    <tr style=\"text-align: right;\">\n",
       "      <th></th>\n",
       "      <th>university_name</th>\n",
       "      <th>improvement</th>\n",
       "    </tr>\n",
       "  </thead>\n",
       "  <tbody>\n",
       "    <tr>\n",
       "      <th>1</th>\n",
       "      <td>Aalborg University</td>\n",
       "      <td>7.3</td>\n",
       "    </tr>\n",
       "    <tr>\n",
       "      <th>2</th>\n",
       "      <td>Aalto University</td>\n",
       "      <td>-0.3</td>\n",
       "    </tr>\n",
       "    <tr>\n",
       "      <th>3</th>\n",
       "      <td>Aarhus University</td>\n",
       "      <td>6.8</td>\n",
       "    </tr>\n",
       "    <tr>\n",
       "      <th>4</th>\n",
       "      <td>Aberystwyth University</td>\n",
       "      <td>-4.2</td>\n",
       "    </tr>\n",
       "    <tr>\n",
       "      <th>5</th>\n",
       "      <td>Adam Mickiewicz University</td>\n",
       "      <td>0.0</td>\n",
       "    </tr>\n",
       "  </tbody>\n",
       "</table>\n",
       "</div>"
      ],
      "text/plain": [
       "              university_name  improvement\n",
       "1          Aalborg University          7.3\n",
       "2            Aalto University         -0.3\n",
       "3           Aarhus University          6.8\n",
       "4      Aberystwyth University         -4.2\n",
       "5  Adam Mickiewicz University          0.0"
      ]
     },
     "execution_count": 16,
     "metadata": {},
     "output_type": "execute_result"
    }
   ],
   "source": [
    "merged[['university_name', 'improvement']].head()"
   ]
  },
  {
   "cell_type": "markdown",
   "metadata": {},
   "source": [
    "### 3. Find the university with the largest increase computed in the previous point.\n"
   ]
  },
  {
   "cell_type": "markdown",
   "metadata": {},
   "source": [
    "Per individuare l'università con la maggiore crescita si può sfruttare nuovamente il metodo `idxmax` con riferimento alla colonna `improvement`. <br/> E' doveroso però effettuare un controllo per avere evidenza di università che presentino il medesimo miglioramento. Per questa operazione si effettua un ordinamento in base al miglioramento e si controllano eventuali valori massimi ripetuti."
   ]
  },
  {
   "cell_type": "code",
   "execution_count": 17,
   "metadata": {
    "scrolled": true
   },
   "outputs": [
    {
     "data": {
      "text/plain": [
       "428    67.8\n",
       "278    59.9\n",
       "230    59.6\n",
       "205    59.5\n",
       "276    58.3\n",
       "Name: improvement, dtype: float64"
      ]
     },
     "execution_count": 17,
     "metadata": {},
     "output_type": "execute_result"
    }
   ],
   "source": [
    "merged.improvement.sort_values(ascending = False).head()"
   ]
  },
  {
   "cell_type": "markdown",
   "metadata": {},
   "source": [
    "L'università *TU Dresden* risulta essere quella che ha registrato un maggiore incremento nel livello di reddito nel periodo di analisi (pari a 67.8)."
   ]
  },
  {
   "cell_type": "code",
   "execution_count": 18,
   "metadata": {
    "scrolled": true
   },
   "outputs": [
    {
     "data": {
      "text/plain": [
       "world_rank_new                      =158\n",
       "university_name               TU Dresden\n",
       "country_new                      Germany\n",
       "teaching_new                        41.4\n",
       "international_new                   47.7\n",
       "research_new                        45.8\n",
       "citations_new                       66.1\n",
       "income_new                          99.7\n",
       "total_score_new                     52.1\n",
       "num_students_new                   35487\n",
       "student_staff_ratio_new             37.4\n",
       "international_students_new           12%\n",
       "female_male_ratio_new            42 : 58\n",
       "year_new                            2016\n",
       "world_rank_old                   251-275\n",
       "country_old                      Germany\n",
       "teaching_old                        27.3\n",
       "international_old                   49.2\n",
       "research_old                        13.8\n",
       "citations_old                       57.4\n",
       "income_old                          31.9\n",
       "total_score_old                        -\n",
       "num_students_old                   35487\n",
       "student_staff_ratio_old             37.4\n",
       "international_students_old           12%\n",
       "female_male_ratio_old            42 : 58\n",
       "year_old                            2012\n",
       "improvement                         67.8\n",
       "Name: 428, dtype: object"
      ]
     },
     "execution_count": 18,
     "metadata": {},
     "output_type": "execute_result"
    }
   ],
   "source": [
    "merged.loc[merged['improvement'].idxmax()]"
   ]
  },
  {
   "cell_type": "markdown",
   "metadata": {},
   "source": [
    "### 4. For each ranking, consider only the most recent data point. For each university, compute the maximum difference between the rankings (e.g. for Aarhus University the value is 122-73=49). Notice that some rankings are expressed as a range."
   ]
  },
  {
   "cell_type": "markdown",
   "metadata": {},
   "source": [
    "Nei ranking sono presenti alcuni problemi di eterogeneità relativi al nome delle università. Ad esempio, nel ranking `shangai` l'università *Massachusetts Institute of Technology* viene indentificata anche con la nota sigla *MIT* racchiusa tra parentesi. Per questo motivo, è necessario normalizzare preventivamente i nomi delle università nei diversi ranking. <br/>\n",
    "Le operazioni di seguito hanno quindi l'obiettivo di rendere tutte le stringhe minuscole e ad eliminare eventuali parentesi.\n",
    "\n",
    "Infine, nel dataframe `times`, alcuni record hanno un valore della posizione preceduta da un segno `=` che va necessariamente eliminato per poter trattare tutte le posizioni come valori numerici.\n",
    "\n",
    "Per svolgere queste operazioni sfrutteremo sia le espressioni regolari fornite dalla libreria `re`, sia i metodi associati alle stringhe."
   ]
  },
  {
   "cell_type": "code",
   "execution_count": 19,
   "metadata": {},
   "outputs": [
    {
     "data": {
      "text/plain": [
       "2598    601-800\n",
       "2599    601-800\n",
       "2600    601-800\n",
       "2601    601-800\n",
       "2602    601-800\n",
       "Name: world_rank, dtype: object"
      ]
     },
     "execution_count": 19,
     "metadata": {},
     "output_type": "execute_result"
    }
   ],
   "source": [
    "times.world_rank.tail()"
   ]
  },
  {
   "cell_type": "markdown",
   "metadata": {},
   "source": [
    "Per prima cosa si procedere alla compilazione dell'espressione regolare che verrà usata per gestire gli intervalli di valori."
   ]
  },
  {
   "cell_type": "code",
   "execution_count": 20,
   "metadata": {},
   "outputs": [],
   "source": [
    "src = re.compile('(?P<first>\\d+)\\s*-*\\s*(?P<second>\\d*)')"
   ]
  },
  {
   "cell_type": "markdown",
   "metadata": {},
   "source": [
    "###### `times`"
   ]
  },
  {
   "cell_type": "code",
   "execution_count": 21,
   "metadata": {},
   "outputs": [
    {
     "data": {
      "text/plain": [
       "0                       harvard university\n",
       "1       california institute of technology\n",
       "2    massachusetts institute of technology\n",
       "3                      stanford university\n",
       "4                     princeton university\n",
       "Name: university_name, dtype: object"
      ]
     },
     "execution_count": 21,
     "metadata": {},
     "output_type": "execute_result"
    }
   ],
   "source": [
    "times.university_name = times.university_name.str.lower()\n",
    "times.university_name.head()"
   ]
  },
  {
   "cell_type": "code",
   "execution_count": 22,
   "metadata": {},
   "outputs": [
    {
     "data": {
      "text/plain": [
       "0                       harvard university\n",
       "1       california institute of technology\n",
       "2    massachusetts institute of technology\n",
       "3                      stanford university\n",
       "4                     princeton university\n",
       "Name: university_name, dtype: object"
      ]
     },
     "execution_count": 22,
     "metadata": {},
     "output_type": "execute_result"
    }
   ],
   "source": [
    "times.university_name = times.university_name.str.replace('\\(\\w+\\)$', '', regex = True)\n",
    "times.university_name.head()"
   ]
  },
  {
   "cell_type": "code",
   "execution_count": 23,
   "metadata": {
    "scrolled": true
   },
   "outputs": [],
   "source": [
    "times.world_rank = times.world_rank.str.strip('=')"
   ]
  },
  {
   "cell_type": "markdown",
   "metadata": {},
   "source": [
    "###### `shangai`"
   ]
  },
  {
   "cell_type": "code",
   "execution_count": 24,
   "metadata": {},
   "outputs": [
    {
     "data": {
      "text/plain": [
       "0                             harvard university\n",
       "1                        university of cambridge\n",
       "2                            stanford university\n",
       "3             university of california, berkeley\n",
       "4    massachusetts institute of technology (mit)\n",
       "Name: university_name, dtype: object"
      ]
     },
     "execution_count": 24,
     "metadata": {},
     "output_type": "execute_result"
    }
   ],
   "source": [
    "shangai.university_name = shangai.university_name.str.lower()\n",
    "shangai.university_name.head()"
   ]
  },
  {
   "cell_type": "code",
   "execution_count": 25,
   "metadata": {},
   "outputs": [
    {
     "data": {
      "text/plain": [
       "0                        harvard university\n",
       "1                   university of cambridge\n",
       "2                       stanford university\n",
       "3        university of california, berkeley\n",
       "4    massachusetts institute of technology \n",
       "Name: university_name, dtype: object"
      ]
     },
     "execution_count": 25,
     "metadata": {},
     "output_type": "execute_result"
    }
   ],
   "source": [
    "shangai.university_name = shangai.university_name.str.replace('\\(\\w+\\)$', '', regex = True)\n",
    "shangai.university_name.head()"
   ]
  },
  {
   "cell_type": "markdown",
   "metadata": {},
   "source": [
    "###### `cwur`"
   ]
  },
  {
   "cell_type": "code",
   "execution_count": 26,
   "metadata": {},
   "outputs": [
    {
     "data": {
      "text/plain": [
       "0                       harvard university\n",
       "1    massachusetts institute of technology\n",
       "2                      stanford university\n",
       "3                  university of cambridge\n",
       "4       california institute of technology\n",
       "Name: institution, dtype: object"
      ]
     },
     "execution_count": 26,
     "metadata": {},
     "output_type": "execute_result"
    }
   ],
   "source": [
    "cwur.institution = cwur.institution.str.lower()\n",
    "cwur.institution.head()"
   ]
  },
  {
   "cell_type": "code",
   "execution_count": 27,
   "metadata": {},
   "outputs": [
    {
     "data": {
      "text/plain": [
       "0                       harvard university\n",
       "1    massachusetts institute of technology\n",
       "2                      stanford university\n",
       "3                  university of cambridge\n",
       "4       california institute of technology\n",
       "Name: institution, dtype: object"
      ]
     },
     "execution_count": 27,
     "metadata": {},
     "output_type": "execute_result"
    }
   ],
   "source": [
    "cwur.institution = cwur.institution.str.replace('\\(\\w+\\)$', '', regex = True)\n",
    "cwur.institution.head()"
   ]
  },
  {
   "cell_type": "markdown",
   "metadata": {},
   "source": [
    "A questo punto è possibile proseguire nelle operazioni di analisi. Per prima cosa individuiamo l'anno più recente contenuto nei diversi ranking ed andiamo ad integrarlo ai precedenti dataset considerando come chiave il nome dell'università."
   ]
  },
  {
   "cell_type": "code",
   "execution_count": 28,
   "metadata": {},
   "outputs": [
    {
     "data": {
      "text/plain": [
       "{2011, 2012, 2013, 2014, 2015, 2016}"
      ]
     },
     "execution_count": 28,
     "metadata": {},
     "output_type": "execute_result"
    }
   ],
   "source": [
    "times_years = set(times.year)\n",
    "times_years"
   ]
  },
  {
   "cell_type": "code",
   "execution_count": 29,
   "metadata": {},
   "outputs": [
    {
     "data": {
      "text/plain": [
       "{2005, 2006, 2007, 2008, 2009, 2010, 2011, 2012, 2013, 2014, 2015}"
      ]
     },
     "execution_count": 29,
     "metadata": {},
     "output_type": "execute_result"
    }
   ],
   "source": [
    "shangai_years = set(shangai.year)\n",
    "shangai_years"
   ]
  },
  {
   "cell_type": "code",
   "execution_count": 30,
   "metadata": {},
   "outputs": [
    {
     "data": {
      "text/plain": [
       "{2012, 2013, 2014, 2015}"
      ]
     },
     "execution_count": 30,
     "metadata": {},
     "output_type": "execute_result"
    }
   ],
   "source": [
    "cwur_years = set(cwur.year)\n",
    "cwur_years"
   ]
  },
  {
   "cell_type": "code",
   "execution_count": 31,
   "metadata": {},
   "outputs": [],
   "source": [
    "rank = pd.merge(times[times.year == max(times_years)].add_suffix('_times'), shangai[shangai.year == max(shangai_years)].add_suffix('_shangai'), left_on = 'university_name_times', right_on = 'university_name_shangai')\n",
    "rank = rank.merge(cwur[cwur.year == max(cwur_years)].add_suffix('_cwur'), right_on = 'institution_cwur', left_on = 'university_name_times')\n",
    "rank.rename({'university_name_times':'university_name'}, axis = 'columns', inplace = True)"
   ]
  },
  {
   "cell_type": "markdown",
   "metadata": {},
   "source": [
    "E' bene osservare che nei dataset `shangai` e `times` il ranking è espresso non soltanto con valori puntuali ma anche per mezzo di intervalli. Quest'ultimi verranno quindi elaborati in modo tale da ottenere il valore centrale degli stessi, così da poter verificare infine la massima differenza tra le varie posizioni."
   ]
  },
  {
   "cell_type": "code",
   "execution_count": 32,
   "metadata": {},
   "outputs": [],
   "source": [
    "for i in range(len(rank)):\n",
    "    fnd = src.search(rank.loc[i,'world_rank_shangai'])\n",
    "    if fnd.group('second'): \n",
    "        rank.loc[i, 'world_rank_shangai_2'] = (int(fnd.group('first')) + int(fnd.group('second')))/2\n",
    "    else:\n",
    "         rank.loc[i, 'world_rank_shangai_2'] = int(fnd.group('first'))"
   ]
  },
  {
   "cell_type": "code",
   "execution_count": 33,
   "metadata": {},
   "outputs": [],
   "source": [
    "for i in range(len(rank)):\n",
    "    fnd = src.search(rank.loc[i,'world_rank_times'])\n",
    "    if fnd.group('second'): \n",
    "        rank.loc[i, 'world_rank_times_2'] = (int(fnd.group('first')) + int(fnd.group('second')))/2\n",
    "    else:\n",
    "         rank.loc[i, 'world_rank_times_2'] = int(fnd.group('first'))"
   ]
  },
  {
   "cell_type": "code",
   "execution_count": 34,
   "metadata": {
    "scrolled": false
   },
   "outputs": [
    {
     "data": {
      "text/plain": [
       "Index(['world_rank_times', 'university_name', 'country_times',\n",
       "       'teaching_times', 'international_times', 'research_times',\n",
       "       'citations_times', 'income_times', 'total_score_times',\n",
       "       'num_students_times', 'student_staff_ratio_times',\n",
       "       'international_students_times', 'female_male_ratio_times', 'year_times',\n",
       "       'world_rank_shangai', 'university_name_shangai',\n",
       "       'national_rank_shangai', 'total_score_shangai', 'alumni_shangai',\n",
       "       'award_shangai', 'hici_shangai', 'ns_shangai', 'pub_shangai',\n",
       "       'pcp_shangai', 'year_shangai', 'world_rank_cwur', 'institution_cwur',\n",
       "       'country_cwur', 'national_rank_cwur', 'quality_of_education_cwur',\n",
       "       'alumni_employment_cwur', 'quality_of_faculty_cwur',\n",
       "       'publications_cwur', 'influence_cwur', 'citations_cwur',\n",
       "       'broad_impact_cwur', 'patents_cwur', 'score_cwur', 'year_cwur',\n",
       "       'world_rank_shangai_2', 'world_rank_times_2'],\n",
       "      dtype='object')"
      ]
     },
     "execution_count": 34,
     "metadata": {},
     "output_type": "execute_result"
    }
   ],
   "source": [
    "rank.columns"
   ]
  },
  {
   "cell_type": "markdown",
   "metadata": {},
   "source": [
    "Il dataframe così costruito presenta un'ampia complessità dovuta alla grande mole di colonne. Ma solo tre di queste sono di nostro interesse: `world_rank_times_2`,`world_rank_shangai_2`, `world_rank_cwur`. <br/> Si noti che per distinguere il posizionamento espresso come intervallo da quello puntuale, per i primi due ranking è stato aggiunto il suffisso `_2`."
   ]
  },
  {
   "cell_type": "code",
   "execution_count": 35,
   "metadata": {
    "scrolled": true
   },
   "outputs": [
    {
     "data": {
      "text/html": [
       "<div>\n",
       "<style scoped>\n",
       "    .dataframe tbody tr th:only-of-type {\n",
       "        vertical-align: middle;\n",
       "    }\n",
       "\n",
       "    .dataframe tbody tr th {\n",
       "        vertical-align: top;\n",
       "    }\n",
       "\n",
       "    .dataframe thead th {\n",
       "        text-align: right;\n",
       "    }\n",
       "</style>\n",
       "<table border=\"1\" class=\"dataframe\">\n",
       "  <thead>\n",
       "    <tr style=\"text-align: right;\">\n",
       "      <th></th>\n",
       "      <th>world_rank_times_2</th>\n",
       "      <th>world_rank_shangai_2</th>\n",
       "      <th>world_rank_cwur</th>\n",
       "    </tr>\n",
       "  </thead>\n",
       "  <tbody>\n",
       "    <tr>\n",
       "      <th>0</th>\n",
       "      <td>1.0</td>\n",
       "      <td>7.0</td>\n",
       "      <td>12</td>\n",
       "    </tr>\n",
       "    <tr>\n",
       "      <th>1</th>\n",
       "      <td>2.0</td>\n",
       "      <td>10.0</td>\n",
       "      <td>5</td>\n",
       "    </tr>\n",
       "    <tr>\n",
       "      <th>2</th>\n",
       "      <td>3.0</td>\n",
       "      <td>2.0</td>\n",
       "      <td>2</td>\n",
       "    </tr>\n",
       "    <tr>\n",
       "      <th>3</th>\n",
       "      <td>4.0</td>\n",
       "      <td>5.0</td>\n",
       "      <td>4</td>\n",
       "    </tr>\n",
       "    <tr>\n",
       "      <th>4</th>\n",
       "      <td>6.0</td>\n",
       "      <td>1.0</td>\n",
       "      <td>1</td>\n",
       "    </tr>\n",
       "  </tbody>\n",
       "</table>\n",
       "</div>"
      ],
      "text/plain": [
       "   world_rank_times_2  world_rank_shangai_2  world_rank_cwur\n",
       "0                 1.0                   7.0               12\n",
       "1                 2.0                  10.0                5\n",
       "2                 3.0                   2.0                2\n",
       "3                 4.0                   5.0                4\n",
       "4                 6.0                   1.0                1"
      ]
     },
     "execution_count": 35,
     "metadata": {},
     "output_type": "execute_result"
    }
   ],
   "source": [
    "rank[['world_rank_times_2','world_rank_shangai_2', 'world_rank_cwur']].head()"
   ]
  },
  {
   "cell_type": "markdown",
   "metadata": {},
   "source": [
    "Con le informazioni contenute del dataframe precedente è possibile calcolare le differenze di classifica e selezionare così quella massima tra i diversi ranking."
   ]
  },
  {
   "cell_type": "code",
   "execution_count": 36,
   "metadata": {},
   "outputs": [],
   "source": [
    "for i in range(len(rank)):\n",
    "    rank.loc[i,'max_diff'] = max(abs(rank.loc[i,'world_rank_times_2'] - rank.loc[i,'world_rank_shangai_2']), abs(rank.loc[i,'world_rank_times_2'] - rank.loc[i,'world_rank_cwur']), abs(rank.loc[i,'world_rank_shangai_2'] - rank.loc[i,'world_rank_cwur']))"
   ]
  },
  {
   "cell_type": "code",
   "execution_count": 37,
   "metadata": {
    "scrolled": true
   },
   "outputs": [
    {
     "data": {
      "text/html": [
       "<div>\n",
       "<style scoped>\n",
       "    .dataframe tbody tr th:only-of-type {\n",
       "        vertical-align: middle;\n",
       "    }\n",
       "\n",
       "    .dataframe tbody tr th {\n",
       "        vertical-align: top;\n",
       "    }\n",
       "\n",
       "    .dataframe thead th {\n",
       "        text-align: right;\n",
       "    }\n",
       "</style>\n",
       "<table border=\"1\" class=\"dataframe\">\n",
       "  <thead>\n",
       "    <tr style=\"text-align: right;\">\n",
       "      <th></th>\n",
       "      <th>university_name</th>\n",
       "      <th>world_rank_times_2</th>\n",
       "      <th>world_rank_shangai_2</th>\n",
       "      <th>world_rank_cwur</th>\n",
       "      <th>max_diff</th>\n",
       "    </tr>\n",
       "  </thead>\n",
       "  <tbody>\n",
       "    <tr>\n",
       "      <th>162</th>\n",
       "      <td>king abdulaziz university</td>\n",
       "      <td>275.5</td>\n",
       "      <td>175.5</td>\n",
       "      <td>995</td>\n",
       "      <td>819.5</td>\n",
       "    </tr>\n",
       "    <tr>\n",
       "      <th>297</th>\n",
       "      <td>university of tehran</td>\n",
       "      <td>700.5</td>\n",
       "      <td>250.5</td>\n",
       "      <td>768</td>\n",
       "      <td>517.5</td>\n",
       "    </tr>\n",
       "    <tr>\n",
       "      <th>265</th>\n",
       "      <td>keio university</td>\n",
       "      <td>550.5</td>\n",
       "      <td>350.5</td>\n",
       "      <td>34</td>\n",
       "      <td>516.5</td>\n",
       "    </tr>\n",
       "    <tr>\n",
       "      <th>293</th>\n",
       "      <td>okayama university</td>\n",
       "      <td>700.5</td>\n",
       "      <td>450.5</td>\n",
       "      <td>245</td>\n",
       "      <td>455.5</td>\n",
       "    </tr>\n",
       "    <tr>\n",
       "      <th>289</th>\n",
       "      <td>jilin university</td>\n",
       "      <td>700.5</td>\n",
       "      <td>250.5</td>\n",
       "      <td>391</td>\n",
       "      <td>450.0</td>\n",
       "    </tr>\n",
       "  </tbody>\n",
       "</table>\n",
       "</div>"
      ],
      "text/plain": [
       "               university_name  world_rank_times_2  world_rank_shangai_2  \\\n",
       "162  king abdulaziz university               275.5                 175.5   \n",
       "297       university of tehran               700.5                 250.5   \n",
       "265            keio university               550.5                 350.5   \n",
       "293         okayama university               700.5                 450.5   \n",
       "289           jilin university               700.5                 250.5   \n",
       "\n",
       "     world_rank_cwur  max_diff  \n",
       "162              995     819.5  \n",
       "297              768     517.5  \n",
       "265               34     516.5  \n",
       "293              245     455.5  \n",
       "289              391     450.0  "
      ]
     },
     "execution_count": 37,
     "metadata": {},
     "output_type": "execute_result"
    }
   ],
   "source": [
    "rank.sort_values('max_diff', ascending = False)[['university_name','world_rank_times_2', 'world_rank_shangai_2','world_rank_cwur', 'max_diff']].head()"
   ]
  },
  {
   "cell_type": "markdown",
   "metadata": {},
   "source": [
    "Per validare il risultato dell'operazione effettuiamo un confronto col valore dell'università `Aarhus university` (max_diff = **49**)."
   ]
  },
  {
   "cell_type": "code",
   "execution_count": 38,
   "metadata": {},
   "outputs": [
    {
     "data": {
      "text/plain": [
       "65    49.0\n",
       "Name: max_diff, dtype: float64"
      ]
     },
     "execution_count": 38,
     "metadata": {},
     "output_type": "execute_result"
    }
   ],
   "source": [
    "rank[rank.university_name == 'aarhus university'].max_diff"
   ]
  },
  {
   "cell_type": "markdown",
   "metadata": {},
   "source": [
    "### 5. Consider only the most recent data point of the times dataset. Compute the number of male and female students for each country.\n"
   ]
  },
  {
   "cell_type": "markdown",
   "metadata": {},
   "source": [
    "Per prima cosa estraiamo i dati più recenti dal dataframe `times`. Si effettua quindi una copia del dataframe in modo da operare in maggiore libertà sul subset. In questo caso non è un problema dato che la dimensione del dataframe originale non è tale da rendere la copia svantaggiosa."
   ]
  },
  {
   "cell_type": "code",
   "execution_count": 39,
   "metadata": {
    "scrolled": true
   },
   "outputs": [],
   "source": [
    "recent_times = times[times.year == max(times_years)].copy()"
   ]
  },
  {
   "cell_type": "code",
   "execution_count": 40,
   "metadata": {
    "scrolled": true
   },
   "outputs": [
    {
     "data": {
      "text/plain": [
       "True"
      ]
     },
     "execution_count": 40,
     "metadata": {},
     "output_type": "execute_result"
    }
   ],
   "source": [
    "recent_times.female_male_ratio.isnull().any()"
   ]
  },
  {
   "cell_type": "markdown",
   "metadata": {},
   "source": [
    "Essendo presente un valore nullo si opta anche in questo caso per una rimozione di tale valore. Si effettua anche un controllo sui rapporti definiti come stringhe per verificare siano tutti validi."
   ]
  },
  {
   "cell_type": "code",
   "execution_count": 41,
   "metadata": {},
   "outputs": [],
   "source": [
    "recent_times.dropna(subset = ['female_male_ratio'], inplace = True)"
   ]
  },
  {
   "cell_type": "code",
   "execution_count": 42,
   "metadata": {},
   "outputs": [],
   "source": [
    "recent_times = recent_times[recent_times['female_male_ratio'].str.contains('\\d+\\s*:\\s*\\d+')]"
   ]
  },
  {
   "cell_type": "code",
   "execution_count": 43,
   "metadata": {},
   "outputs": [
    {
     "data": {
      "text/html": [
       "<div>\n",
       "<style scoped>\n",
       "    .dataframe tbody tr th:only-of-type {\n",
       "        vertical-align: middle;\n",
       "    }\n",
       "\n",
       "    .dataframe tbody tr th {\n",
       "        vertical-align: top;\n",
       "    }\n",
       "\n",
       "    .dataframe thead th {\n",
       "        text-align: right;\n",
       "    }\n",
       "</style>\n",
       "<table border=\"1\" class=\"dataframe\">\n",
       "  <thead>\n",
       "    <tr style=\"text-align: right;\">\n",
       "      <th></th>\n",
       "      <th>world_rank</th>\n",
       "      <th>university_name</th>\n",
       "      <th>country</th>\n",
       "      <th>teaching</th>\n",
       "      <th>international</th>\n",
       "      <th>research</th>\n",
       "      <th>citations</th>\n",
       "      <th>income</th>\n",
       "      <th>total_score</th>\n",
       "      <th>num_students</th>\n",
       "      <th>student_staff_ratio</th>\n",
       "      <th>international_students</th>\n",
       "      <th>female_male_ratio</th>\n",
       "      <th>year</th>\n",
       "    </tr>\n",
       "  </thead>\n",
       "  <tbody>\n",
       "    <tr>\n",
       "      <th>1803</th>\n",
       "      <td>1</td>\n",
       "      <td>california institute of technology</td>\n",
       "      <td>United States of America</td>\n",
       "      <td>95.6</td>\n",
       "      <td>64.0</td>\n",
       "      <td>97.6</td>\n",
       "      <td>99.8</td>\n",
       "      <td>97.8</td>\n",
       "      <td>95.2</td>\n",
       "      <td>2243.0</td>\n",
       "      <td>6.9</td>\n",
       "      <td>27%</td>\n",
       "      <td>33 : 67</td>\n",
       "      <td>2016</td>\n",
       "    </tr>\n",
       "    <tr>\n",
       "      <th>1804</th>\n",
       "      <td>2</td>\n",
       "      <td>university of oxford</td>\n",
       "      <td>United Kingdom</td>\n",
       "      <td>86.5</td>\n",
       "      <td>94.4</td>\n",
       "      <td>98.9</td>\n",
       "      <td>98.8</td>\n",
       "      <td>73.1</td>\n",
       "      <td>94.2</td>\n",
       "      <td>19919.0</td>\n",
       "      <td>11.6</td>\n",
       "      <td>34%</td>\n",
       "      <td>46 : 54</td>\n",
       "      <td>2016</td>\n",
       "    </tr>\n",
       "    <tr>\n",
       "      <th>1805</th>\n",
       "      <td>3</td>\n",
       "      <td>stanford university</td>\n",
       "      <td>United States of America</td>\n",
       "      <td>92.5</td>\n",
       "      <td>76.3</td>\n",
       "      <td>96.2</td>\n",
       "      <td>99.9</td>\n",
       "      <td>63.3</td>\n",
       "      <td>93.9</td>\n",
       "      <td>15596.0</td>\n",
       "      <td>7.8</td>\n",
       "      <td>22%</td>\n",
       "      <td>42 : 58</td>\n",
       "      <td>2016</td>\n",
       "    </tr>\n",
       "    <tr>\n",
       "      <th>1806</th>\n",
       "      <td>4</td>\n",
       "      <td>university of cambridge</td>\n",
       "      <td>United Kingdom</td>\n",
       "      <td>88.2</td>\n",
       "      <td>91.5</td>\n",
       "      <td>96.7</td>\n",
       "      <td>97.0</td>\n",
       "      <td>55.0</td>\n",
       "      <td>92.8</td>\n",
       "      <td>18812.0</td>\n",
       "      <td>11.8</td>\n",
       "      <td>34%</td>\n",
       "      <td>46 : 54</td>\n",
       "      <td>2016</td>\n",
       "    </tr>\n",
       "    <tr>\n",
       "      <th>1807</th>\n",
       "      <td>5</td>\n",
       "      <td>massachusetts institute of technology</td>\n",
       "      <td>United States of America</td>\n",
       "      <td>89.4</td>\n",
       "      <td>84.0</td>\n",
       "      <td>88.6</td>\n",
       "      <td>99.7</td>\n",
       "      <td>95.4</td>\n",
       "      <td>92.0</td>\n",
       "      <td>11074.0</td>\n",
       "      <td>9.0</td>\n",
       "      <td>33%</td>\n",
       "      <td>37 : 63</td>\n",
       "      <td>2016</td>\n",
       "    </tr>\n",
       "  </tbody>\n",
       "</table>\n",
       "</div>"
      ],
      "text/plain": [
       "     world_rank                        university_name  \\\n",
       "1803          1     california institute of technology   \n",
       "1804          2                   university of oxford   \n",
       "1805          3                    stanford university   \n",
       "1806          4                university of cambridge   \n",
       "1807          5  massachusetts institute of technology   \n",
       "\n",
       "                       country  teaching international  research  citations  \\\n",
       "1803  United States of America      95.6          64.0      97.6       99.8   \n",
       "1804            United Kingdom      86.5          94.4      98.9       98.8   \n",
       "1805  United States of America      92.5          76.3      96.2       99.9   \n",
       "1806            United Kingdom      88.2          91.5      96.7       97.0   \n",
       "1807  United States of America      89.4          84.0      88.6       99.7   \n",
       "\n",
       "      income total_score  num_students  student_staff_ratio  \\\n",
       "1803    97.8        95.2        2243.0                  6.9   \n",
       "1804    73.1        94.2       19919.0                 11.6   \n",
       "1805    63.3        93.9       15596.0                  7.8   \n",
       "1806    55.0        92.8       18812.0                 11.8   \n",
       "1807    95.4        92.0       11074.0                  9.0   \n",
       "\n",
       "     international_students female_male_ratio  year  \n",
       "1803                    27%           33 : 67  2016  \n",
       "1804                    34%           46 : 54  2016  \n",
       "1805                    22%           42 : 58  2016  \n",
       "1806                    34%           46 : 54  2016  \n",
       "1807                    33%           37 : 63  2016  "
      ]
     },
     "execution_count": 43,
     "metadata": {},
     "output_type": "execute_result"
    }
   ],
   "source": [
    "recent_times.head()"
   ]
  },
  {
   "cell_type": "code",
   "execution_count": 44,
   "metadata": {
    "scrolled": true
   },
   "outputs": [
    {
     "data": {
      "text/plain": [
       "dtype('float64')"
      ]
     },
     "execution_count": 44,
     "metadata": {},
     "output_type": "execute_result"
    }
   ],
   "source": [
    "recent_times['num_students'].dtype"
   ]
  },
  {
   "cell_type": "markdown",
   "metadata": {},
   "source": [
    "Si effettua ora una conversione numerica del rapporto $\\frac{femmina}{maschio}$ a partire dalla colonna di stringhe e successivamente si calcolano il numero di maschi e femmine sfruttando il numero di studenti totale."
   ]
  },
  {
   "cell_type": "code",
   "execution_count": 45,
   "metadata": {},
   "outputs": [],
   "source": [
    "recent_times[['female', 'male']] = round((recent_times['female_male_ratio'].str.split(' : ', expand = True).astype('int')/100).mul(recent_times['num_students'], axis = 0))"
   ]
  },
  {
   "cell_type": "code",
   "execution_count": 46,
   "metadata": {
    "scrolled": true
   },
   "outputs": [
    {
     "data": {
      "text/html": [
       "<div>\n",
       "<style scoped>\n",
       "    .dataframe tbody tr th:only-of-type {\n",
       "        vertical-align: middle;\n",
       "    }\n",
       "\n",
       "    .dataframe tbody tr th {\n",
       "        vertical-align: top;\n",
       "    }\n",
       "\n",
       "    .dataframe thead th {\n",
       "        text-align: right;\n",
       "    }\n",
       "</style>\n",
       "<table border=\"1\" class=\"dataframe\">\n",
       "  <thead>\n",
       "    <tr style=\"text-align: right;\">\n",
       "      <th></th>\n",
       "      <th>female</th>\n",
       "      <th>male</th>\n",
       "    </tr>\n",
       "  </thead>\n",
       "  <tbody>\n",
       "    <tr>\n",
       "      <th>2227</th>\n",
       "      <td>17625.0</td>\n",
       "      <td>0.0</td>\n",
       "    </tr>\n",
       "    <tr>\n",
       "      <th>1915</th>\n",
       "      <td>129.0</td>\n",
       "      <td>333.0</td>\n",
       "    </tr>\n",
       "    <tr>\n",
       "      <th>2036</th>\n",
       "      <td>1401.0</td>\n",
       "      <td>418.0</td>\n",
       "    </tr>\n",
       "    <tr>\n",
       "      <th>1983</th>\n",
       "      <td>269.0</td>\n",
       "      <td>500.0</td>\n",
       "    </tr>\n",
       "    <tr>\n",
       "      <th>2037</th>\n",
       "      <td>1317.0</td>\n",
       "      <td>538.0</td>\n",
       "    </tr>\n",
       "  </tbody>\n",
       "</table>\n",
       "</div>"
      ],
      "text/plain": [
       "       female   male\n",
       "2227  17625.0    0.0\n",
       "1915    129.0  333.0\n",
       "2036   1401.0  418.0\n",
       "1983    269.0  500.0\n",
       "2037   1317.0  538.0"
      ]
     },
     "execution_count": 46,
     "metadata": {},
     "output_type": "execute_result"
    }
   ],
   "source": [
    "recent_times[['female', 'male']].sort_values('male').head()"
   ]
  },
  {
   "cell_type": "markdown",
   "metadata": {},
   "source": [
    "A questo punto è sufficiente raggruppare in base alla nazione di appartenenza e sommare il numero di studenti maschili e femminili per ognuna di queste, ottenendo quindi il risultato di interesse."
   ]
  },
  {
   "cell_type": "code",
   "execution_count": 47,
   "metadata": {
    "scrolled": true
   },
   "outputs": [
    {
     "data": {
      "text/html": [
       "<div>\n",
       "<style scoped>\n",
       "    .dataframe tbody tr th:only-of-type {\n",
       "        vertical-align: middle;\n",
       "    }\n",
       "\n",
       "    .dataframe tbody tr th {\n",
       "        vertical-align: top;\n",
       "    }\n",
       "\n",
       "    .dataframe thead th {\n",
       "        text-align: right;\n",
       "    }\n",
       "</style>\n",
       "<table border=\"1\" class=\"dataframe\">\n",
       "  <thead>\n",
       "    <tr style=\"text-align: right;\">\n",
       "      <th></th>\n",
       "      <th>female</th>\n",
       "      <th>male</th>\n",
       "    </tr>\n",
       "    <tr>\n",
       "      <th>country</th>\n",
       "      <th></th>\n",
       "      <th></th>\n",
       "    </tr>\n",
       "  </thead>\n",
       "  <tbody>\n",
       "    <tr>\n",
       "      <th>Argentina</th>\n",
       "      <td>67191.0</td>\n",
       "      <td>41182.0</td>\n",
       "    </tr>\n",
       "    <tr>\n",
       "      <th>Australia</th>\n",
       "      <td>391736.0</td>\n",
       "      <td>321640.0</td>\n",
       "    </tr>\n",
       "    <tr>\n",
       "      <th>Austria</th>\n",
       "      <td>68364.0</td>\n",
       "      <td>66113.0</td>\n",
       "    </tr>\n",
       "    <tr>\n",
       "      <th>Bangladesh</th>\n",
       "      <td>21323.0</td>\n",
       "      <td>41393.0</td>\n",
       "    </tr>\n",
       "    <tr>\n",
       "      <th>Belarus</th>\n",
       "      <td>20219.0</td>\n",
       "      <td>9084.0</td>\n",
       "    </tr>\n",
       "  </tbody>\n",
       "</table>\n",
       "</div>"
      ],
      "text/plain": [
       "              female      male\n",
       "country                       \n",
       "Argentina    67191.0   41182.0\n",
       "Australia   391736.0  321640.0\n",
       "Austria      68364.0   66113.0\n",
       "Bangladesh   21323.0   41393.0\n",
       "Belarus      20219.0    9084.0"
      ]
     },
     "execution_count": 47,
     "metadata": {},
     "output_type": "execute_result"
    }
   ],
   "source": [
    "recent_times[['country','female', 'male']].groupby('country').sum().head()"
   ]
  },
  {
   "cell_type": "markdown",
   "metadata": {},
   "source": [
    "### 6. Find the universities where the ratio between female and male is below the average ratio (computed over all universities)."
   ]
  },
  {
   "cell_type": "code",
   "execution_count": 48,
   "metadata": {},
   "outputs": [
    {
     "data": {
      "text/html": [
       "<div>\n",
       "<style scoped>\n",
       "    .dataframe tbody tr th:only-of-type {\n",
       "        vertical-align: middle;\n",
       "    }\n",
       "\n",
       "    .dataframe tbody tr th {\n",
       "        vertical-align: top;\n",
       "    }\n",
       "\n",
       "    .dataframe thead th {\n",
       "        text-align: right;\n",
       "    }\n",
       "</style>\n",
       "<table border=\"1\" class=\"dataframe\">\n",
       "  <thead>\n",
       "    <tr style=\"text-align: right;\">\n",
       "      <th></th>\n",
       "      <th>world_rank</th>\n",
       "      <th>university_name</th>\n",
       "      <th>country</th>\n",
       "      <th>teaching</th>\n",
       "      <th>international</th>\n",
       "      <th>research</th>\n",
       "      <th>citations</th>\n",
       "      <th>income</th>\n",
       "      <th>total_score</th>\n",
       "      <th>num_students</th>\n",
       "      <th>student_staff_ratio</th>\n",
       "      <th>international_students</th>\n",
       "      <th>female_male_ratio</th>\n",
       "      <th>year</th>\n",
       "      <th>female</th>\n",
       "      <th>male</th>\n",
       "    </tr>\n",
       "  </thead>\n",
       "  <tbody>\n",
       "    <tr>\n",
       "      <th>2227</th>\n",
       "      <td>401-500</td>\n",
       "      <td>ewha womans university</td>\n",
       "      <td>South Korea</td>\n",
       "      <td>23.9</td>\n",
       "      <td>34.3</td>\n",
       "      <td>18.3</td>\n",
       "      <td>50.4</td>\n",
       "      <td>57.6</td>\n",
       "      <td>-</td>\n",
       "      <td>17625.0</td>\n",
       "      <td>14.4</td>\n",
       "      <td>6%</td>\n",
       "      <td>100 : 0</td>\n",
       "      <td>2016</td>\n",
       "      <td>17625.0</td>\n",
       "      <td>0.0</td>\n",
       "    </tr>\n",
       "  </tbody>\n",
       "</table>\n",
       "</div>"
      ],
      "text/plain": [
       "     world_rank         university_name      country  teaching international  \\\n",
       "2227    401-500  ewha womans university  South Korea      23.9          34.3   \n",
       "\n",
       "      research  citations  income total_score  num_students  \\\n",
       "2227      18.3       50.4    57.6           -       17625.0   \n",
       "\n",
       "      student_staff_ratio international_students female_male_ratio  year  \\\n",
       "2227                 14.4                     6%           100 : 0  2016   \n",
       "\n",
       "       female  male  \n",
       "2227  17625.0   0.0  "
      ]
     },
     "execution_count": 48,
     "metadata": {},
     "output_type": "execute_result"
    }
   ],
   "source": [
    "recent_times[recent_times.male == 0]"
   ]
  },
  {
   "cell_type": "code",
   "execution_count": 49,
   "metadata": {},
   "outputs": [
    {
     "data": {
      "text/html": [
       "<div>\n",
       "<style scoped>\n",
       "    .dataframe tbody tr th:only-of-type {\n",
       "        vertical-align: middle;\n",
       "    }\n",
       "\n",
       "    .dataframe tbody tr th {\n",
       "        vertical-align: top;\n",
       "    }\n",
       "\n",
       "    .dataframe thead th {\n",
       "        text-align: right;\n",
       "    }\n",
       "</style>\n",
       "<table border=\"1\" class=\"dataframe\">\n",
       "  <thead>\n",
       "    <tr style=\"text-align: right;\">\n",
       "      <th></th>\n",
       "      <th>world_rank</th>\n",
       "      <th>university_name</th>\n",
       "      <th>country</th>\n",
       "      <th>teaching</th>\n",
       "      <th>international</th>\n",
       "      <th>research</th>\n",
       "      <th>citations</th>\n",
       "      <th>income</th>\n",
       "      <th>total_score</th>\n",
       "      <th>num_students</th>\n",
       "      <th>student_staff_ratio</th>\n",
       "      <th>international_students</th>\n",
       "      <th>female_male_ratio</th>\n",
       "      <th>year</th>\n",
       "      <th>female</th>\n",
       "      <th>male</th>\n",
       "    </tr>\n",
       "  </thead>\n",
       "  <tbody>\n",
       "  </tbody>\n",
       "</table>\n",
       "</div>"
      ],
      "text/plain": [
       "Empty DataFrame\n",
       "Columns: [world_rank, university_name, country, teaching, international, research, citations, income, total_score, num_students, student_staff_ratio, international_students, female_male_ratio, year, female, male]\n",
       "Index: []"
      ]
     },
     "execution_count": 49,
     "metadata": {},
     "output_type": "execute_result"
    }
   ],
   "source": [
    "recent_times[recent_times['female_male_ratio'].isna()]"
   ]
  },
  {
   "cell_type": "markdown",
   "metadata": {},
   "source": [
    "Da una prima analisi, non risultano essere presenti valori nulli per il rapporto che si vuole analizzare. Tuttavia c'è un problema legato all'università femminile `ewha womans university`, la quale fornisce un rapporto $\\frac{female}{male}$ pari a $\\infty$. Di conseguenza, considerare questa università nel calcolo della media porterebbe questa a divergere. <br/>\n",
    "Per questo motivo la `ewha womans university` viene esclusa e considerata a priori superiore alla media."
   ]
  },
  {
   "cell_type": "code",
   "execution_count": 50,
   "metadata": {},
   "outputs": [],
   "source": [
    "recent_times_under = recent_times[recent_times['male'] != 0].copy()"
   ]
  },
  {
   "cell_type": "code",
   "execution_count": 51,
   "metadata": {
    "scrolled": false
   },
   "outputs": [],
   "source": [
    "recent_times_under['proper_ratio'] = recent_times['female'] / recent_times['male']\n",
    "average_ratio = recent_times_under['proper_ratio'].mean() \n",
    "recent_times_under = recent_times_under[recent_times_under['proper_ratio'] < average_ratio]"
   ]
  },
  {
   "cell_type": "code",
   "execution_count": 52,
   "metadata": {},
   "outputs": [
    {
     "data": {
      "text/plain": [
       "1.0825701851588103"
      ]
     },
     "execution_count": 52,
     "metadata": {},
     "output_type": "execute_result"
    }
   ],
   "source": [
    "average_ratio"
   ]
  },
  {
   "cell_type": "code",
   "execution_count": 53,
   "metadata": {
    "scrolled": true
   },
   "outputs": [
    {
     "data": {
      "text/html": [
       "<div>\n",
       "<style scoped>\n",
       "    .dataframe tbody tr th:only-of-type {\n",
       "        vertical-align: middle;\n",
       "    }\n",
       "\n",
       "    .dataframe tbody tr th {\n",
       "        vertical-align: top;\n",
       "    }\n",
       "\n",
       "    .dataframe thead th {\n",
       "        text-align: right;\n",
       "    }\n",
       "</style>\n",
       "<table border=\"1\" class=\"dataframe\">\n",
       "  <thead>\n",
       "    <tr style=\"text-align: right;\">\n",
       "      <th></th>\n",
       "      <th>world_rank</th>\n",
       "      <th>university_name</th>\n",
       "      <th>proper_ratio</th>\n",
       "    </tr>\n",
       "  </thead>\n",
       "  <tbody>\n",
       "    <tr>\n",
       "      <th>1803</th>\n",
       "      <td>1</td>\n",
       "      <td>california institute of technology</td>\n",
       "      <td>0.492349</td>\n",
       "    </tr>\n",
       "    <tr>\n",
       "      <th>1804</th>\n",
       "      <td>2</td>\n",
       "      <td>university of oxford</td>\n",
       "      <td>0.851897</td>\n",
       "    </tr>\n",
       "    <tr>\n",
       "      <th>1805</th>\n",
       "      <td>3</td>\n",
       "      <td>stanford university</td>\n",
       "      <td>0.724077</td>\n",
       "    </tr>\n",
       "    <tr>\n",
       "      <th>1806</th>\n",
       "      <td>4</td>\n",
       "      <td>university of cambridge</td>\n",
       "      <td>0.851939</td>\n",
       "    </tr>\n",
       "    <tr>\n",
       "      <th>1807</th>\n",
       "      <td>5</td>\n",
       "      <td>massachusetts institute of technology</td>\n",
       "      <td>0.587215</td>\n",
       "    </tr>\n",
       "  </tbody>\n",
       "</table>\n",
       "</div>"
      ],
      "text/plain": [
       "     world_rank                        university_name  proper_ratio\n",
       "1803          1     california institute of technology      0.492349\n",
       "1804          2                   university of oxford      0.851897\n",
       "1805          3                    stanford university      0.724077\n",
       "1806          4                university of cambridge      0.851939\n",
       "1807          5  massachusetts institute of technology      0.587215"
      ]
     },
     "execution_count": 53,
     "metadata": {},
     "output_type": "execute_result"
    }
   ],
   "source": [
    "recent_times_under[['world_rank', 'university_name', 'proper_ratio']].head()"
   ]
  },
  {
   "cell_type": "markdown",
   "metadata": {},
   "source": [
    "### 7. For each country compute the fraction of students that are in one of the universities computed in the previous point (that is, the denominator of the ratio is the total number of students over all universities in the country)."
   ]
  },
  {
   "cell_type": "markdown",
   "metadata": {},
   "source": [
    "Per rispondere al quesito vengono create due serie: una contenente il numero di studenti per nazione ed una per università. Si uniscono le due sulla base della nazione in modo da poter calcolare infine i rapporti, facendo leva sulle funzionalità di Pandas."
   ]
  },
  {
   "cell_type": "code",
   "execution_count": 54,
   "metadata": {
    "scrolled": true
   },
   "outputs": [
    {
     "data": {
      "text/plain": [
       "university_name         country       \n",
       "aalborg university      Denmark            17422.0\n",
       "aalto university        Finland            16099.0\n",
       "aberystwyth university  United Kingdom      9252.0\n",
       "ajou university         South Korea        12706.0\n",
       "alexandria university   Egypt             127431.0\n",
       "Name: num_students, dtype: float64"
      ]
     },
     "execution_count": 54,
     "metadata": {},
     "output_type": "execute_result"
    }
   ],
   "source": [
    "student_university = recent_times_under.groupby(['university_name', 'country'])['num_students'].sum()\n",
    "student_university.head()"
   ]
  },
  {
   "cell_type": "code",
   "execution_count": 55,
   "metadata": {},
   "outputs": [],
   "source": [
    "student_country = recent_times.groupby('country')['num_students'].sum()"
   ]
  },
  {
   "cell_type": "code",
   "execution_count": 56,
   "metadata": {
    "scrolled": true
   },
   "outputs": [
    {
     "data": {
      "text/html": [
       "<div>\n",
       "<style scoped>\n",
       "    .dataframe tbody tr th:only-of-type {\n",
       "        vertical-align: middle;\n",
       "    }\n",
       "\n",
       "    .dataframe tbody tr th {\n",
       "        vertical-align: top;\n",
       "    }\n",
       "\n",
       "    .dataframe thead th {\n",
       "        text-align: right;\n",
       "    }\n",
       "</style>\n",
       "<table border=\"1\" class=\"dataframe\">\n",
       "  <thead>\n",
       "    <tr style=\"text-align: right;\">\n",
       "      <th></th>\n",
       "      <th>university_name</th>\n",
       "      <th>country</th>\n",
       "      <th>num_students_country</th>\n",
       "      <th>num_students_university</th>\n",
       "    </tr>\n",
       "  </thead>\n",
       "  <tbody>\n",
       "    <tr>\n",
       "      <th>0</th>\n",
       "      <td>rmit university</td>\n",
       "      <td>Australia</td>\n",
       "      <td>713376.0</td>\n",
       "      <td>29501.0</td>\n",
       "    </tr>\n",
       "    <tr>\n",
       "      <th>1</th>\n",
       "      <td>swinburne university of technology</td>\n",
       "      <td>Australia</td>\n",
       "      <td>713376.0</td>\n",
       "      <td>20314.0</td>\n",
       "    </tr>\n",
       "    <tr>\n",
       "      <th>2</th>\n",
       "      <td>university of adelaide</td>\n",
       "      <td>Australia</td>\n",
       "      <td>713376.0</td>\n",
       "      <td>20771.0</td>\n",
       "    </tr>\n",
       "    <tr>\n",
       "      <th>3</th>\n",
       "      <td>university of new south wales</td>\n",
       "      <td>Australia</td>\n",
       "      <td>713376.0</td>\n",
       "      <td>38309.0</td>\n",
       "    </tr>\n",
       "    <tr>\n",
       "      <th>4</th>\n",
       "      <td>university of western australia</td>\n",
       "      <td>Australia</td>\n",
       "      <td>713376.0</td>\n",
       "      <td>20851.0</td>\n",
       "    </tr>\n",
       "  </tbody>\n",
       "</table>\n",
       "</div>"
      ],
      "text/plain": [
       "                      university_name    country  num_students_country  \\\n",
       "0                     rmit university  Australia              713376.0   \n",
       "1  swinburne university of technology  Australia              713376.0   \n",
       "2              university of adelaide  Australia              713376.0   \n",
       "3       university of new south wales  Australia              713376.0   \n",
       "4     university of western australia  Australia              713376.0   \n",
       "\n",
       "   num_students_university  \n",
       "0                  29501.0  \n",
       "1                  20314.0  \n",
       "2                  20771.0  \n",
       "3                  38309.0  \n",
       "4                  20851.0  "
      ]
     },
     "execution_count": 56,
     "metadata": {},
     "output_type": "execute_result"
    }
   ],
   "source": [
    "student_merged = pd.merge(student_country, student_university, right_on = 'country', left_index = True, suffixes = ('_country', '_university') )\n",
    "student_merged.reset_index(inplace = True)\n",
    "student_merged.head()"
   ]
  },
  {
   "cell_type": "code",
   "execution_count": 57,
   "metadata": {
    "scrolled": true
   },
   "outputs": [
    {
     "data": {
      "text/html": [
       "<div>\n",
       "<style scoped>\n",
       "    .dataframe tbody tr th:only-of-type {\n",
       "        vertical-align: middle;\n",
       "    }\n",
       "\n",
       "    .dataframe tbody tr th {\n",
       "        vertical-align: top;\n",
       "    }\n",
       "\n",
       "    .dataframe thead th {\n",
       "        text-align: right;\n",
       "    }\n",
       "</style>\n",
       "<table border=\"1\" class=\"dataframe\">\n",
       "  <thead>\n",
       "    <tr style=\"text-align: right;\">\n",
       "      <th></th>\n",
       "      <th>university_name</th>\n",
       "      <th>country</th>\n",
       "      <th>num_students_country</th>\n",
       "      <th>num_students_university</th>\n",
       "      <th>ratio</th>\n",
       "    </tr>\n",
       "  </thead>\n",
       "  <tbody>\n",
       "    <tr>\n",
       "      <th>0</th>\n",
       "      <td>rmit university</td>\n",
       "      <td>Australia</td>\n",
       "      <td>713376.0</td>\n",
       "      <td>29501.0</td>\n",
       "      <td>0.041354</td>\n",
       "    </tr>\n",
       "    <tr>\n",
       "      <th>1</th>\n",
       "      <td>swinburne university of technology</td>\n",
       "      <td>Australia</td>\n",
       "      <td>713376.0</td>\n",
       "      <td>20314.0</td>\n",
       "      <td>0.028476</td>\n",
       "    </tr>\n",
       "    <tr>\n",
       "      <th>2</th>\n",
       "      <td>university of adelaide</td>\n",
       "      <td>Australia</td>\n",
       "      <td>713376.0</td>\n",
       "      <td>20771.0</td>\n",
       "      <td>0.029116</td>\n",
       "    </tr>\n",
       "    <tr>\n",
       "      <th>3</th>\n",
       "      <td>university of new south wales</td>\n",
       "      <td>Australia</td>\n",
       "      <td>713376.0</td>\n",
       "      <td>38309.0</td>\n",
       "      <td>0.053701</td>\n",
       "    </tr>\n",
       "    <tr>\n",
       "      <th>4</th>\n",
       "      <td>university of western australia</td>\n",
       "      <td>Australia</td>\n",
       "      <td>713376.0</td>\n",
       "      <td>20851.0</td>\n",
       "      <td>0.029229</td>\n",
       "    </tr>\n",
       "  </tbody>\n",
       "</table>\n",
       "</div>"
      ],
      "text/plain": [
       "                      university_name    country  num_students_country  \\\n",
       "0                     rmit university  Australia              713376.0   \n",
       "1  swinburne university of technology  Australia              713376.0   \n",
       "2              university of adelaide  Australia              713376.0   \n",
       "3       university of new south wales  Australia              713376.0   \n",
       "4     university of western australia  Australia              713376.0   \n",
       "\n",
       "   num_students_university     ratio  \n",
       "0                  29501.0  0.041354  \n",
       "1                  20314.0  0.028476  \n",
       "2                  20771.0  0.029116  \n",
       "3                  38309.0  0.053701  \n",
       "4                  20851.0  0.029229  "
      ]
     },
     "execution_count": 57,
     "metadata": {},
     "output_type": "execute_result"
    }
   ],
   "source": [
    "student_merged['ratio'] = student_merged['num_students_university']/student_merged['num_students_country']\n",
    "student_merged.head()"
   ]
  },
  {
   "cell_type": "markdown",
   "metadata": {},
   "source": [
    "### 8. Read the file educational_attainment_supplementary_data.csv, discarding any row without country_name or series_name."
   ]
  },
  {
   "cell_type": "markdown",
   "metadata": {},
   "source": [
    "Per rispondere al quesito, è stato utilizzato il metodo `dropna` con flag `subset` per eliminare le righe con `null` nelle due colonne indicate. Si è verificata quindi la riduzione nel numero di righe con il metodo `shape`."
   ]
  },
  {
   "cell_type": "code",
   "execution_count": 58,
   "metadata": {},
   "outputs": [],
   "source": [
    "edu_att_supp_data = pd.read_csv('https://github.com/DanieleRizz0/CSProject/blob/main/educational_attainment_supplementary_data.csv?raw=true')"
   ]
  },
  {
   "cell_type": "code",
   "execution_count": 59,
   "metadata": {},
   "outputs": [
    {
     "data": {
      "text/plain": [
       "(79055, 29)"
      ]
     },
     "execution_count": 59,
     "metadata": {},
     "output_type": "execute_result"
    }
   ],
   "source": [
    "edu_att_supp_data.shape"
   ]
  },
  {
   "cell_type": "code",
   "execution_count": 60,
   "metadata": {
    "scrolled": true
   },
   "outputs": [
    {
     "data": {
      "text/html": [
       "<div>\n",
       "<style scoped>\n",
       "    .dataframe tbody tr th:only-of-type {\n",
       "        vertical-align: middle;\n",
       "    }\n",
       "\n",
       "    .dataframe tbody tr th {\n",
       "        vertical-align: top;\n",
       "    }\n",
       "\n",
       "    .dataframe thead th {\n",
       "        text-align: right;\n",
       "    }\n",
       "</style>\n",
       "<table border=\"1\" class=\"dataframe\">\n",
       "  <thead>\n",
       "    <tr style=\"text-align: right;\">\n",
       "      <th></th>\n",
       "      <th>country_name</th>\n",
       "      <th>series_name</th>\n",
       "      <th>1985</th>\n",
       "      <th>1986</th>\n",
       "      <th>1987</th>\n",
       "      <th>1990</th>\n",
       "      <th>1991</th>\n",
       "      <th>1992</th>\n",
       "      <th>1993</th>\n",
       "      <th>1995</th>\n",
       "      <th>...</th>\n",
       "      <th>2005</th>\n",
       "      <th>2006</th>\n",
       "      <th>2007</th>\n",
       "      <th>2008</th>\n",
       "      <th>2009</th>\n",
       "      <th>2010</th>\n",
       "      <th>2011</th>\n",
       "      <th>2012</th>\n",
       "      <th>2013</th>\n",
       "      <th>2015</th>\n",
       "    </tr>\n",
       "  </thead>\n",
       "  <tbody>\n",
       "    <tr>\n",
       "      <th>0</th>\n",
       "      <td>Afghanistan</td>\n",
       "      <td>Barro-Lee: Average years of primary schooling,...</td>\n",
       "      <td>0.33</td>\n",
       "      <td>NaN</td>\n",
       "      <td>NaN</td>\n",
       "      <td>0.44</td>\n",
       "      <td>NaN</td>\n",
       "      <td>NaN</td>\n",
       "      <td>NaN</td>\n",
       "      <td>0.57</td>\n",
       "      <td>...</td>\n",
       "      <td>0.86</td>\n",
       "      <td>NaN</td>\n",
       "      <td>NaN</td>\n",
       "      <td>NaN</td>\n",
       "      <td>NaN</td>\n",
       "      <td>1.27</td>\n",
       "      <td>NaN</td>\n",
       "      <td>NaN</td>\n",
       "      <td>NaN</td>\n",
       "      <td>NaN</td>\n",
       "    </tr>\n",
       "    <tr>\n",
       "      <th>1</th>\n",
       "      <td>Afghanistan</td>\n",
       "      <td>Barro-Lee: Average years of primary schooling,...</td>\n",
       "      <td>1.03</td>\n",
       "      <td>NaN</td>\n",
       "      <td>NaN</td>\n",
       "      <td>1.26</td>\n",
       "      <td>NaN</td>\n",
       "      <td>NaN</td>\n",
       "      <td>NaN</td>\n",
       "      <td>1.54</td>\n",
       "      <td>...</td>\n",
       "      <td>2.18</td>\n",
       "      <td>NaN</td>\n",
       "      <td>NaN</td>\n",
       "      <td>NaN</td>\n",
       "      <td>NaN</td>\n",
       "      <td>2.64</td>\n",
       "      <td>NaN</td>\n",
       "      <td>NaN</td>\n",
       "      <td>NaN</td>\n",
       "      <td>NaN</td>\n",
       "    </tr>\n",
       "    <tr>\n",
       "      <th>2</th>\n",
       "      <td>Afghanistan</td>\n",
       "      <td>Barro-Lee: Average years of primary schooling,...</td>\n",
       "      <td>0.83</td>\n",
       "      <td>NaN</td>\n",
       "      <td>NaN</td>\n",
       "      <td>0.95</td>\n",
       "      <td>NaN</td>\n",
       "      <td>NaN</td>\n",
       "      <td>NaN</td>\n",
       "      <td>1.26</td>\n",
       "      <td>...</td>\n",
       "      <td>1.01</td>\n",
       "      <td>NaN</td>\n",
       "      <td>NaN</td>\n",
       "      <td>NaN</td>\n",
       "      <td>NaN</td>\n",
       "      <td>2.45</td>\n",
       "      <td>NaN</td>\n",
       "      <td>NaN</td>\n",
       "      <td>NaN</td>\n",
       "      <td>NaN</td>\n",
       "    </tr>\n",
       "    <tr>\n",
       "      <th>3</th>\n",
       "      <td>Afghanistan</td>\n",
       "      <td>Barro-Lee: Average years of primary schooling,...</td>\n",
       "      <td>2.34</td>\n",
       "      <td>NaN</td>\n",
       "      <td>NaN</td>\n",
       "      <td>2.22</td>\n",
       "      <td>NaN</td>\n",
       "      <td>NaN</td>\n",
       "      <td>NaN</td>\n",
       "      <td>2.37</td>\n",
       "      <td>...</td>\n",
       "      <td>2.26</td>\n",
       "      <td>NaN</td>\n",
       "      <td>NaN</td>\n",
       "      <td>NaN</td>\n",
       "      <td>NaN</td>\n",
       "      <td>3.55</td>\n",
       "      <td>NaN</td>\n",
       "      <td>NaN</td>\n",
       "      <td>NaN</td>\n",
       "      <td>NaN</td>\n",
       "    </tr>\n",
       "    <tr>\n",
       "      <th>4</th>\n",
       "      <td>Afghanistan</td>\n",
       "      <td>Barro-Lee: Average years of primary schooling,...</td>\n",
       "      <td>0.54</td>\n",
       "      <td>NaN</td>\n",
       "      <td>NaN</td>\n",
       "      <td>0.92</td>\n",
       "      <td>NaN</td>\n",
       "      <td>NaN</td>\n",
       "      <td>NaN</td>\n",
       "      <td>0.94</td>\n",
       "      <td>...</td>\n",
       "      <td>2.00</td>\n",
       "      <td>NaN</td>\n",
       "      <td>NaN</td>\n",
       "      <td>NaN</td>\n",
       "      <td>NaN</td>\n",
       "      <td>1.29</td>\n",
       "      <td>NaN</td>\n",
       "      <td>NaN</td>\n",
       "      <td>NaN</td>\n",
       "      <td>NaN</td>\n",
       "    </tr>\n",
       "  </tbody>\n",
       "</table>\n",
       "<p>5 rows × 29 columns</p>\n",
       "</div>"
      ],
      "text/plain": [
       "  country_name                                        series_name  1985  1986  \\\n",
       "0  Afghanistan  Barro-Lee: Average years of primary schooling,...  0.33   NaN   \n",
       "1  Afghanistan  Barro-Lee: Average years of primary schooling,...  1.03   NaN   \n",
       "2  Afghanistan  Barro-Lee: Average years of primary schooling,...  0.83   NaN   \n",
       "3  Afghanistan  Barro-Lee: Average years of primary schooling,...  2.34   NaN   \n",
       "4  Afghanistan  Barro-Lee: Average years of primary schooling,...  0.54   NaN   \n",
       "\n",
       "   1987  1990  1991  1992  1993  1995  ...  2005  2006  2007  2008  2009  \\\n",
       "0   NaN  0.44   NaN   NaN   NaN  0.57  ...  0.86   NaN   NaN   NaN   NaN   \n",
       "1   NaN  1.26   NaN   NaN   NaN  1.54  ...  2.18   NaN   NaN   NaN   NaN   \n",
       "2   NaN  0.95   NaN   NaN   NaN  1.26  ...  1.01   NaN   NaN   NaN   NaN   \n",
       "3   NaN  2.22   NaN   NaN   NaN  2.37  ...  2.26   NaN   NaN   NaN   NaN   \n",
       "4   NaN  0.92   NaN   NaN   NaN  0.94  ...  2.00   NaN   NaN   NaN   NaN   \n",
       "\n",
       "   2010  2011  2012  2013  2015  \n",
       "0  1.27   NaN   NaN   NaN   NaN  \n",
       "1  2.64   NaN   NaN   NaN   NaN  \n",
       "2  2.45   NaN   NaN   NaN   NaN  \n",
       "3  3.55   NaN   NaN   NaN   NaN  \n",
       "4  1.29   NaN   NaN   NaN   NaN  \n",
       "\n",
       "[5 rows x 29 columns]"
      ]
     },
     "execution_count": 60,
     "metadata": {},
     "output_type": "execute_result"
    }
   ],
   "source": [
    "edu_att_supp_data.dropna(subset = ['country_name', 'series_name'], inplace = True)\n",
    "edu_att_supp_data.head()"
   ]
  },
  {
   "cell_type": "code",
   "execution_count": 61,
   "metadata": {},
   "outputs": [
    {
     "data": {
      "text/plain": [
       "(79050, 29)"
      ]
     },
     "execution_count": 61,
     "metadata": {},
     "output_type": "execute_result"
    }
   ],
   "source": [
    "edu_att_supp_data.shape"
   ]
  },
  {
   "cell_type": "markdown",
   "metadata": {},
   "source": [
    "### 9. From attainment build a dataframe with the same data, but with 4 columns: country_name, series_name, year, value."
   ]
  },
  {
   "cell_type": "markdown",
   "metadata": {},
   "source": [
    "Per svolgere quanto richiesto, è stato utilizzato il metodo di Pandas `stack`, che consente di trasporre le colonne del dataframe rappresentative degli anni, passando così da un dataset di tipo key figure-based ad uno account-based. Per non perdere i valori nulli nel calcolo, viene inoltre settato il flag `dropna` del metodo su `False`."
   ]
  },
  {
   "cell_type": "code",
   "execution_count": 62,
   "metadata": {
    "scrolled": true
   },
   "outputs": [
    {
     "data": {
      "text/html": [
       "<div>\n",
       "<style scoped>\n",
       "    .dataframe tbody tr th:only-of-type {\n",
       "        vertical-align: middle;\n",
       "    }\n",
       "\n",
       "    .dataframe tbody tr th {\n",
       "        vertical-align: top;\n",
       "    }\n",
       "\n",
       "    .dataframe thead th {\n",
       "        text-align: right;\n",
       "    }\n",
       "</style>\n",
       "<table border=\"1\" class=\"dataframe\">\n",
       "  <thead>\n",
       "    <tr style=\"text-align: right;\">\n",
       "      <th></th>\n",
       "      <th>country_name</th>\n",
       "      <th>series_name</th>\n",
       "      <th>1985</th>\n",
       "      <th>1986</th>\n",
       "      <th>1987</th>\n",
       "      <th>1990</th>\n",
       "      <th>1991</th>\n",
       "      <th>1992</th>\n",
       "      <th>1993</th>\n",
       "      <th>1995</th>\n",
       "      <th>...</th>\n",
       "      <th>2005</th>\n",
       "      <th>2006</th>\n",
       "      <th>2007</th>\n",
       "      <th>2008</th>\n",
       "      <th>2009</th>\n",
       "      <th>2010</th>\n",
       "      <th>2011</th>\n",
       "      <th>2012</th>\n",
       "      <th>2013</th>\n",
       "      <th>2015</th>\n",
       "    </tr>\n",
       "  </thead>\n",
       "  <tbody>\n",
       "    <tr>\n",
       "      <th>0</th>\n",
       "      <td>Afghanistan</td>\n",
       "      <td>Barro-Lee: Average years of primary schooling,...</td>\n",
       "      <td>0.33</td>\n",
       "      <td>NaN</td>\n",
       "      <td>NaN</td>\n",
       "      <td>0.44</td>\n",
       "      <td>NaN</td>\n",
       "      <td>NaN</td>\n",
       "      <td>NaN</td>\n",
       "      <td>0.57</td>\n",
       "      <td>...</td>\n",
       "      <td>0.86</td>\n",
       "      <td>NaN</td>\n",
       "      <td>NaN</td>\n",
       "      <td>NaN</td>\n",
       "      <td>NaN</td>\n",
       "      <td>1.27</td>\n",
       "      <td>NaN</td>\n",
       "      <td>NaN</td>\n",
       "      <td>NaN</td>\n",
       "      <td>NaN</td>\n",
       "    </tr>\n",
       "    <tr>\n",
       "      <th>1</th>\n",
       "      <td>Afghanistan</td>\n",
       "      <td>Barro-Lee: Average years of primary schooling,...</td>\n",
       "      <td>1.03</td>\n",
       "      <td>NaN</td>\n",
       "      <td>NaN</td>\n",
       "      <td>1.26</td>\n",
       "      <td>NaN</td>\n",
       "      <td>NaN</td>\n",
       "      <td>NaN</td>\n",
       "      <td>1.54</td>\n",
       "      <td>...</td>\n",
       "      <td>2.18</td>\n",
       "      <td>NaN</td>\n",
       "      <td>NaN</td>\n",
       "      <td>NaN</td>\n",
       "      <td>NaN</td>\n",
       "      <td>2.64</td>\n",
       "      <td>NaN</td>\n",
       "      <td>NaN</td>\n",
       "      <td>NaN</td>\n",
       "      <td>NaN</td>\n",
       "    </tr>\n",
       "    <tr>\n",
       "      <th>2</th>\n",
       "      <td>Afghanistan</td>\n",
       "      <td>Barro-Lee: Average years of primary schooling,...</td>\n",
       "      <td>0.83</td>\n",
       "      <td>NaN</td>\n",
       "      <td>NaN</td>\n",
       "      <td>0.95</td>\n",
       "      <td>NaN</td>\n",
       "      <td>NaN</td>\n",
       "      <td>NaN</td>\n",
       "      <td>1.26</td>\n",
       "      <td>...</td>\n",
       "      <td>1.01</td>\n",
       "      <td>NaN</td>\n",
       "      <td>NaN</td>\n",
       "      <td>NaN</td>\n",
       "      <td>NaN</td>\n",
       "      <td>2.45</td>\n",
       "      <td>NaN</td>\n",
       "      <td>NaN</td>\n",
       "      <td>NaN</td>\n",
       "      <td>NaN</td>\n",
       "    </tr>\n",
       "    <tr>\n",
       "      <th>3</th>\n",
       "      <td>Afghanistan</td>\n",
       "      <td>Barro-Lee: Average years of primary schooling,...</td>\n",
       "      <td>2.34</td>\n",
       "      <td>NaN</td>\n",
       "      <td>NaN</td>\n",
       "      <td>2.22</td>\n",
       "      <td>NaN</td>\n",
       "      <td>NaN</td>\n",
       "      <td>NaN</td>\n",
       "      <td>2.37</td>\n",
       "      <td>...</td>\n",
       "      <td>2.26</td>\n",
       "      <td>NaN</td>\n",
       "      <td>NaN</td>\n",
       "      <td>NaN</td>\n",
       "      <td>NaN</td>\n",
       "      <td>3.55</td>\n",
       "      <td>NaN</td>\n",
       "      <td>NaN</td>\n",
       "      <td>NaN</td>\n",
       "      <td>NaN</td>\n",
       "    </tr>\n",
       "    <tr>\n",
       "      <th>4</th>\n",
       "      <td>Afghanistan</td>\n",
       "      <td>Barro-Lee: Average years of primary schooling,...</td>\n",
       "      <td>0.54</td>\n",
       "      <td>NaN</td>\n",
       "      <td>NaN</td>\n",
       "      <td>0.92</td>\n",
       "      <td>NaN</td>\n",
       "      <td>NaN</td>\n",
       "      <td>NaN</td>\n",
       "      <td>0.94</td>\n",
       "      <td>...</td>\n",
       "      <td>2.00</td>\n",
       "      <td>NaN</td>\n",
       "      <td>NaN</td>\n",
       "      <td>NaN</td>\n",
       "      <td>NaN</td>\n",
       "      <td>1.29</td>\n",
       "      <td>NaN</td>\n",
       "      <td>NaN</td>\n",
       "      <td>NaN</td>\n",
       "      <td>NaN</td>\n",
       "    </tr>\n",
       "  </tbody>\n",
       "</table>\n",
       "<p>5 rows × 29 columns</p>\n",
       "</div>"
      ],
      "text/plain": [
       "  country_name                                        series_name  1985  1986  \\\n",
       "0  Afghanistan  Barro-Lee: Average years of primary schooling,...  0.33   NaN   \n",
       "1  Afghanistan  Barro-Lee: Average years of primary schooling,...  1.03   NaN   \n",
       "2  Afghanistan  Barro-Lee: Average years of primary schooling,...  0.83   NaN   \n",
       "3  Afghanistan  Barro-Lee: Average years of primary schooling,...  2.34   NaN   \n",
       "4  Afghanistan  Barro-Lee: Average years of primary schooling,...  0.54   NaN   \n",
       "\n",
       "   1987  1990  1991  1992  1993  1995  ...  2005  2006  2007  2008  2009  \\\n",
       "0   NaN  0.44   NaN   NaN   NaN  0.57  ...  0.86   NaN   NaN   NaN   NaN   \n",
       "1   NaN  1.26   NaN   NaN   NaN  1.54  ...  2.18   NaN   NaN   NaN   NaN   \n",
       "2   NaN  0.95   NaN   NaN   NaN  1.26  ...  1.01   NaN   NaN   NaN   NaN   \n",
       "3   NaN  2.22   NaN   NaN   NaN  2.37  ...  2.26   NaN   NaN   NaN   NaN   \n",
       "4   NaN  0.92   NaN   NaN   NaN  0.94  ...  2.00   NaN   NaN   NaN   NaN   \n",
       "\n",
       "   2010  2011  2012  2013  2015  \n",
       "0  1.27   NaN   NaN   NaN   NaN  \n",
       "1  2.64   NaN   NaN   NaN   NaN  \n",
       "2  2.45   NaN   NaN   NaN   NaN  \n",
       "3  3.55   NaN   NaN   NaN   NaN  \n",
       "4  1.29   NaN   NaN   NaN   NaN  \n",
       "\n",
       "[5 rows x 29 columns]"
      ]
     },
     "execution_count": 62,
     "metadata": {},
     "output_type": "execute_result"
    }
   ],
   "source": [
    "edu_att_supp_data.head()"
   ]
  },
  {
   "cell_type": "code",
   "execution_count": 63,
   "metadata": {
    "scrolled": true
   },
   "outputs": [
    {
     "data": {
      "text/html": [
       "<div>\n",
       "<style scoped>\n",
       "    .dataframe tbody tr th:only-of-type {\n",
       "        vertical-align: middle;\n",
       "    }\n",
       "\n",
       "    .dataframe tbody tr th {\n",
       "        vertical-align: top;\n",
       "    }\n",
       "\n",
       "    .dataframe thead th {\n",
       "        text-align: right;\n",
       "    }\n",
       "</style>\n",
       "<table border=\"1\" class=\"dataframe\">\n",
       "  <thead>\n",
       "    <tr style=\"text-align: right;\">\n",
       "      <th></th>\n",
       "      <th>country_name</th>\n",
       "      <th>series_name</th>\n",
       "      <th>year</th>\n",
       "      <th>value</th>\n",
       "    </tr>\n",
       "  </thead>\n",
       "  <tbody>\n",
       "    <tr>\n",
       "      <th>0</th>\n",
       "      <td>Afghanistan</td>\n",
       "      <td>Barro-Lee: Average years of primary schooling,...</td>\n",
       "      <td>1985</td>\n",
       "      <td>0.33</td>\n",
       "    </tr>\n",
       "    <tr>\n",
       "      <th>1</th>\n",
       "      <td>Afghanistan</td>\n",
       "      <td>Barro-Lee: Average years of primary schooling,...</td>\n",
       "      <td>1986</td>\n",
       "      <td>NaN</td>\n",
       "    </tr>\n",
       "    <tr>\n",
       "      <th>2</th>\n",
       "      <td>Afghanistan</td>\n",
       "      <td>Barro-Lee: Average years of primary schooling,...</td>\n",
       "      <td>1987</td>\n",
       "      <td>NaN</td>\n",
       "    </tr>\n",
       "    <tr>\n",
       "      <th>3</th>\n",
       "      <td>Afghanistan</td>\n",
       "      <td>Barro-Lee: Average years of primary schooling,...</td>\n",
       "      <td>1990</td>\n",
       "      <td>0.44</td>\n",
       "    </tr>\n",
       "    <tr>\n",
       "      <th>4</th>\n",
       "      <td>Afghanistan</td>\n",
       "      <td>Barro-Lee: Average years of primary schooling,...</td>\n",
       "      <td>1991</td>\n",
       "      <td>NaN</td>\n",
       "    </tr>\n",
       "  </tbody>\n",
       "</table>\n",
       "</div>"
      ],
      "text/plain": [
       "  country_name                                        series_name  year  value\n",
       "0  Afghanistan  Barro-Lee: Average years of primary schooling,...  1985   0.33\n",
       "1  Afghanistan  Barro-Lee: Average years of primary schooling,...  1986    NaN\n",
       "2  Afghanistan  Barro-Lee: Average years of primary schooling,...  1987    NaN\n",
       "3  Afghanistan  Barro-Lee: Average years of primary schooling,...  1990   0.44\n",
       "4  Afghanistan  Barro-Lee: Average years of primary schooling,...  1991    NaN"
      ]
     },
     "execution_count": 63,
     "metadata": {},
     "output_type": "execute_result"
    }
   ],
   "source": [
    "four_columns_att = edu_att_supp_data.set_index(['country_name', 'series_name'])\n",
    "four_columns_att = four_columns_att.stack(dropna = False).reset_index()\n",
    "four_columns_att.rename(columns = {'level_2': 'year', 0: 'value'}, inplace = True)\n",
    "four_columns_att.head()"
   ]
  },
  {
   "cell_type": "markdown",
   "metadata": {},
   "source": [
    "### 10. For each university, find the number of rankings in which they appear (it suffices to appear in one year for each ranking)."
   ]
  },
  {
   "cell_type": "markdown",
   "metadata": {},
   "source": [
    "Per questa rispondere al quesito si è scelto di sfruttare le operazioni insiemistiche. Sono state quindi inserite le università presenti nei diversi ranking in altrettanti set. E' stato effettuato quindi un conteggio dopo avere unito i suddetti set, al fine di ottenere il numero di volte in cui un'università si trova all'interno dell'insieme complessivo."
   ]
  },
  {
   "cell_type": "code",
   "execution_count": 64,
   "metadata": {},
   "outputs": [],
   "source": [
    "uni_times = set(times['university_name'])\n",
    "uni_shangai = set(shangai['university_name'])\n",
    "uni_cwur = set(cwur['institution'])"
   ]
  },
  {
   "cell_type": "code",
   "execution_count": 65,
   "metadata": {},
   "outputs": [],
   "source": [
    "universities = pd.DataFrame(list(uni_times) + list(uni_shangai) + list(uni_cwur), columns = ['university'])"
   ]
  },
  {
   "cell_type": "code",
   "execution_count": 66,
   "metadata": {
    "scrolled": true
   },
   "outputs": [
    {
     "data": {
      "text/plain": [
       "university\n",
       "aalborg university            3\n",
       "aalto university              3\n",
       "aarhus university             3\n",
       "aberystwyth university        2\n",
       "adam mickiewicz university    1\n",
       "dtype: int64"
      ]
     },
     "execution_count": 66,
     "metadata": {},
     "output_type": "execute_result"
    }
   ],
   "source": [
    "universities.groupby('university').size().head()"
   ]
  },
  {
   "cell_type": "markdown",
   "metadata": {},
   "source": [
    "### 11. In the times ranking, compute the number of times each university appears."
   ]
  },
  {
   "cell_type": "markdown",
   "metadata": {},
   "source": [
    "Per questo punto si raggruppa il dataframe in base all'università utilizzando la funzione `groupby` di Pandas e si effettua un conteggio."
   ]
  },
  {
   "cell_type": "code",
   "execution_count": 67,
   "metadata": {
    "scrolled": true
   },
   "outputs": [
    {
     "data": {
      "text/plain": [
       "university_name\n",
       "aalborg university            5\n",
       "aalto university              5\n",
       "aarhus university             6\n",
       "aberystwyth university        5\n",
       "adam mickiewicz university    1\n",
       "dtype: int64"
      ]
     },
     "execution_count": 67,
     "metadata": {},
     "output_type": "execute_result"
    }
   ],
   "source": [
    "times.groupby('university_name').size().head()"
   ]
  },
  {
   "cell_type": "markdown",
   "metadata": {},
   "source": [
    "### 12. Find the universities that appear at most twice in the times ranking.\n"
   ]
  },
  {
   "cell_type": "markdown",
   "metadata": {},
   "source": [
    "Si definisce una maschera booleana tale da ritornare `True` se le università sono presenti al più due volte nel ranking `times`.\n",
    "Infine, la maschera viene sfruttata per estrarre le università corrispondenti."
   ]
  },
  {
   "cell_type": "code",
   "execution_count": 68,
   "metadata": {
    "scrolled": true
   },
   "outputs": [
    {
     "data": {
      "text/plain": [
       "university_name\n",
       "aalborg university            False\n",
       "aalto university              False\n",
       "aarhus university             False\n",
       "aberystwyth university        False\n",
       "adam mickiewicz university     True\n",
       "dtype: bool"
      ]
     },
     "execution_count": 68,
     "metadata": {},
     "output_type": "execute_result"
    }
   ],
   "source": [
    "tf = times.groupby('university_name').size() <= 2\n",
    "tf.head()"
   ]
  },
  {
   "cell_type": "code",
   "execution_count": 69,
   "metadata": {},
   "outputs": [
    {
     "data": {
      "text/plain": [
       "['university of parma',\n",
       " 'xiamen university',\n",
       " 'yeungnam university',\n",
       " 'university of nantes',\n",
       " 'american university',\n",
       " 'adam mickiewicz university',\n",
       " 'university of st gallen',\n",
       " 'medical college of wisconsin',\n",
       " 'university of genoa',\n",
       " 'university of rovira i virgili']"
      ]
     },
     "execution_count": 69,
     "metadata": {},
     "output_type": "execute_result"
    }
   ],
   "source": [
    "list(set(tf[tf == True].index))[:10]"
   ]
  },
  {
   "cell_type": "markdown",
   "metadata": {},
   "source": [
    "### 13. The universities that, in any year, have the same position in all three rankings (they must have the same position in a year)."
   ]
  },
  {
   "cell_type": "markdown",
   "metadata": {},
   "source": [
    "E' stato costruito un dataframe, denominato `full_rank`, operando una join dei dataset `times`, `shangai` e `cwur`, considerando come predicato non solo il nome dell'università ma anche l'anno di riferimento del ranking. \n",
    "Fatto ciò, viene cercata l'osservazione che ha fatto registrare la stessa posizione nei diversi ranking e, per costruzione del dataframe `full_rank`, anche nello stesso anno."
   ]
  },
  {
   "cell_type": "code",
   "execution_count": 70,
   "metadata": {},
   "outputs": [
    {
     "data": {
      "text/html": [
       "<div>\n",
       "<style scoped>\n",
       "    .dataframe tbody tr th:only-of-type {\n",
       "        vertical-align: middle;\n",
       "    }\n",
       "\n",
       "    .dataframe tbody tr th {\n",
       "        vertical-align: top;\n",
       "    }\n",
       "\n",
       "    .dataframe thead th {\n",
       "        text-align: right;\n",
       "    }\n",
       "</style>\n",
       "<table border=\"1\" class=\"dataframe\">\n",
       "  <thead>\n",
       "    <tr style=\"text-align: right;\">\n",
       "      <th></th>\n",
       "      <th>world_rank</th>\n",
       "      <th>university_name</th>\n",
       "      <th>country</th>\n",
       "      <th>national_rank</th>\n",
       "      <th>quality_of_education</th>\n",
       "      <th>alumni_employment</th>\n",
       "      <th>quality_of_faculty</th>\n",
       "      <th>publications</th>\n",
       "      <th>influence</th>\n",
       "      <th>citations</th>\n",
       "      <th>broad_impact</th>\n",
       "      <th>patents</th>\n",
       "      <th>score</th>\n",
       "      <th>year</th>\n",
       "    </tr>\n",
       "  </thead>\n",
       "  <tbody>\n",
       "    <tr>\n",
       "      <th>0</th>\n",
       "      <td>1</td>\n",
       "      <td>harvard university</td>\n",
       "      <td>USA</td>\n",
       "      <td>1</td>\n",
       "      <td>7</td>\n",
       "      <td>9</td>\n",
       "      <td>1</td>\n",
       "      <td>1</td>\n",
       "      <td>1</td>\n",
       "      <td>1</td>\n",
       "      <td>NaN</td>\n",
       "      <td>5</td>\n",
       "      <td>100.00</td>\n",
       "      <td>2012</td>\n",
       "    </tr>\n",
       "    <tr>\n",
       "      <th>1</th>\n",
       "      <td>2</td>\n",
       "      <td>massachusetts institute of technology</td>\n",
       "      <td>USA</td>\n",
       "      <td>2</td>\n",
       "      <td>9</td>\n",
       "      <td>17</td>\n",
       "      <td>3</td>\n",
       "      <td>12</td>\n",
       "      <td>4</td>\n",
       "      <td>4</td>\n",
       "      <td>NaN</td>\n",
       "      <td>1</td>\n",
       "      <td>91.67</td>\n",
       "      <td>2012</td>\n",
       "    </tr>\n",
       "    <tr>\n",
       "      <th>2</th>\n",
       "      <td>3</td>\n",
       "      <td>stanford university</td>\n",
       "      <td>USA</td>\n",
       "      <td>3</td>\n",
       "      <td>17</td>\n",
       "      <td>11</td>\n",
       "      <td>5</td>\n",
       "      <td>4</td>\n",
       "      <td>2</td>\n",
       "      <td>2</td>\n",
       "      <td>NaN</td>\n",
       "      <td>15</td>\n",
       "      <td>89.50</td>\n",
       "      <td>2012</td>\n",
       "    </tr>\n",
       "    <tr>\n",
       "      <th>3</th>\n",
       "      <td>4</td>\n",
       "      <td>university of cambridge</td>\n",
       "      <td>United Kingdom</td>\n",
       "      <td>1</td>\n",
       "      <td>10</td>\n",
       "      <td>24</td>\n",
       "      <td>4</td>\n",
       "      <td>16</td>\n",
       "      <td>16</td>\n",
       "      <td>11</td>\n",
       "      <td>NaN</td>\n",
       "      <td>50</td>\n",
       "      <td>86.17</td>\n",
       "      <td>2012</td>\n",
       "    </tr>\n",
       "    <tr>\n",
       "      <th>4</th>\n",
       "      <td>5</td>\n",
       "      <td>california institute of technology</td>\n",
       "      <td>USA</td>\n",
       "      <td>4</td>\n",
       "      <td>2</td>\n",
       "      <td>29</td>\n",
       "      <td>7</td>\n",
       "      <td>37</td>\n",
       "      <td>22</td>\n",
       "      <td>22</td>\n",
       "      <td>NaN</td>\n",
       "      <td>18</td>\n",
       "      <td>85.21</td>\n",
       "      <td>2012</td>\n",
       "    </tr>\n",
       "  </tbody>\n",
       "</table>\n",
       "</div>"
      ],
      "text/plain": [
       "   world_rank                        university_name         country  \\\n",
       "0           1                     harvard university             USA   \n",
       "1           2  massachusetts institute of technology             USA   \n",
       "2           3                    stanford university             USA   \n",
       "3           4                university of cambridge  United Kingdom   \n",
       "4           5     california institute of technology             USA   \n",
       "\n",
       "   national_rank  quality_of_education  alumni_employment  quality_of_faculty  \\\n",
       "0              1                     7                  9                   1   \n",
       "1              2                     9                 17                   3   \n",
       "2              3                    17                 11                   5   \n",
       "3              1                    10                 24                   4   \n",
       "4              4                     2                 29                   7   \n",
       "\n",
       "   publications  influence  citations  broad_impact  patents   score  year  \n",
       "0             1          1          1           NaN        5  100.00  2012  \n",
       "1            12          4          4           NaN        1   91.67  2012  \n",
       "2             4          2          2           NaN       15   89.50  2012  \n",
       "3            16         16         11           NaN       50   86.17  2012  \n",
       "4            37         22         22           NaN       18   85.21  2012  "
      ]
     },
     "execution_count": 70,
     "metadata": {},
     "output_type": "execute_result"
    }
   ],
   "source": [
    "cwur.rename(columns = {'institution' : 'university_name'}, inplace = True)\n",
    "cwur.head()"
   ]
  },
  {
   "cell_type": "code",
   "execution_count": 71,
   "metadata": {
    "scrolled": true
   },
   "outputs": [],
   "source": [
    "full_rank = times.merge(cwur, on = ['university_name', 'year'], how = 'inner' )\n",
    "full_rank = full_rank.merge(shangai, on = ['university_name', 'year'], how = 'inner' )\n",
    "full_rank.rename(columns = {'world_rank_x':'times_rank', 'world_rank_y':'cwur_rank', 'world_rank':'shangai_rank'}, inplace=True )"
   ]
  },
  {
   "cell_type": "code",
   "execution_count": 72,
   "metadata": {},
   "outputs": [],
   "source": [
    "full_rank['cwur_rank'] = full_rank['cwur_rank'].astype(str)"
   ]
  },
  {
   "cell_type": "code",
   "execution_count": 73,
   "metadata": {},
   "outputs": [],
   "source": [
    "tmp_merged = full_rank[(full_rank['times_rank'] == full_rank['cwur_rank']) & (full_rank['cwur_rank'] == full_rank['shangai_rank'])]"
   ]
  },
  {
   "cell_type": "code",
   "execution_count": 74,
   "metadata": {},
   "outputs": [
    {
     "data": {
      "text/html": [
       "<div>\n",
       "<style scoped>\n",
       "    .dataframe tbody tr th:only-of-type {\n",
       "        vertical-align: middle;\n",
       "    }\n",
       "\n",
       "    .dataframe tbody tr th {\n",
       "        vertical-align: top;\n",
       "    }\n",
       "\n",
       "    .dataframe thead th {\n",
       "        text-align: right;\n",
       "    }\n",
       "</style>\n",
       "<table border=\"1\" class=\"dataframe\">\n",
       "  <thead>\n",
       "    <tr style=\"text-align: right;\">\n",
       "      <th></th>\n",
       "      <th>university_name</th>\n",
       "      <th>year</th>\n",
       "      <th>times_rank</th>\n",
       "      <th>cwur_rank</th>\n",
       "      <th>shangai_rank</th>\n",
       "    </tr>\n",
       "  </thead>\n",
       "  <tbody>\n",
       "    <tr>\n",
       "      <th>60</th>\n",
       "      <td>stanford university</td>\n",
       "      <td>2013</td>\n",
       "      <td>2</td>\n",
       "      <td>2</td>\n",
       "      <td>2</td>\n",
       "    </tr>\n",
       "  </tbody>\n",
       "</table>\n",
       "</div>"
      ],
      "text/plain": [
       "        university_name  year times_rank cwur_rank shangai_rank\n",
       "60  stanford university  2013          2         2            2"
      ]
     },
     "execution_count": 74,
     "metadata": {},
     "output_type": "execute_result"
    }
   ],
   "source": [
    "tmp_merged[['university_name','year','times_rank','cwur_rank','shangai_rank']]"
   ]
  },
  {
   "cell_type": "code",
   "execution_count": 75,
   "metadata": {},
   "outputs": [
    {
     "name": "stdout",
     "output_type": "stream",
     "text": [
      "Il processo complessivo è stato ultimato in 19 secondi.\n"
     ]
    }
   ],
   "source": [
    "end = time.time()\n",
    "\n",
    "print(\"Il processo complessivo è stato ultimato in {} secondi.\".format(int((end-start))))"
   ]
  }
 ],
 "metadata": {
  "kernelspec": {
   "display_name": "Python 3",
   "language": "python",
   "name": "python3"
  },
  "language_info": {
   "codemirror_mode": {
    "name": "ipython",
    "version": 3
   },
   "file_extension": ".py",
   "mimetype": "text/x-python",
   "name": "python",
   "nbconvert_exporter": "python",
   "pygments_lexer": "ipython3",
   "version": "3.7.3"
  }
 },
 "nbformat": 4,
 "nbformat_minor": 4
}
