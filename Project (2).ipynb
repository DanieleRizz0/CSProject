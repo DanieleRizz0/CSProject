{
 "cells": [
  {
   "cell_type": "markdown",
   "metadata": {},
   "source": [
    "# University dataset - project 2020/21"
   ]
  },
  {
   "cell_type": "markdown",
   "metadata": {},
   "source": [
    "Gruppo 35: Rizzo Daniele, Salaorni Carlo e Tarli Matteo\n"
   ]
  },
  {
   "cell_type": "markdown",
   "metadata": {},
   "source": [
    "Import of modules and reading of dataframe."
   ]
  },
  {
   "cell_type": "code",
   "execution_count": 1,
   "metadata": {},
   "outputs": [],
   "source": [
    "import pandas as pd \n",
    "import re\n",
    "import numpy as np"
   ]
  },
  {
   "cell_type": "code",
   "execution_count": 2,
   "metadata": {},
   "outputs": [],
   "source": [
    "times = pd.read_csv('timesData.csv', thousands=',')\n",
    "shangai = pd.read_csv('shanghaiData.csv')\n",
    "cwur = pd.read_csv('cwurData.csv')"
   ]
  },
  {
   "cell_type": "code",
   "execution_count": 3,
   "metadata": {},
   "outputs": [
    {
     "data": {
      "text/html": [
       "<div>\n",
       "<style scoped>\n",
       "    .dataframe tbody tr th:only-of-type {\n",
       "        vertical-align: middle;\n",
       "    }\n",
       "\n",
       "    .dataframe tbody tr th {\n",
       "        vertical-align: top;\n",
       "    }\n",
       "\n",
       "    .dataframe thead th {\n",
       "        text-align: right;\n",
       "    }\n",
       "</style>\n",
       "<table border=\"1\" class=\"dataframe\">\n",
       "  <thead>\n",
       "    <tr style=\"text-align: right;\">\n",
       "      <th></th>\n",
       "      <th>world_rank</th>\n",
       "      <th>university_name</th>\n",
       "      <th>country</th>\n",
       "      <th>teaching</th>\n",
       "      <th>international</th>\n",
       "      <th>research</th>\n",
       "      <th>citations</th>\n",
       "      <th>income</th>\n",
       "      <th>total_score</th>\n",
       "      <th>num_students</th>\n",
       "      <th>student_staff_ratio</th>\n",
       "      <th>international_students</th>\n",
       "      <th>female_male_ratio</th>\n",
       "      <th>year</th>\n",
       "    </tr>\n",
       "  </thead>\n",
       "  <tbody>\n",
       "    <tr>\n",
       "      <th>0</th>\n",
       "      <td>1</td>\n",
       "      <td>Harvard University</td>\n",
       "      <td>United States of America</td>\n",
       "      <td>99.7</td>\n",
       "      <td>72.4</td>\n",
       "      <td>98.7</td>\n",
       "      <td>98.8</td>\n",
       "      <td>34.5</td>\n",
       "      <td>96.1</td>\n",
       "      <td>20152.0</td>\n",
       "      <td>8.9</td>\n",
       "      <td>25%</td>\n",
       "      <td>NaN</td>\n",
       "      <td>2011</td>\n",
       "    </tr>\n",
       "  </tbody>\n",
       "</table>\n",
       "</div>"
      ],
      "text/plain": [
       "  world_rank     university_name                   country  teaching  \\\n",
       "0          1  Harvard University  United States of America      99.7   \n",
       "\n",
       "  international  research  citations income total_score  num_students  \\\n",
       "0          72.4      98.7       98.8   34.5        96.1       20152.0   \n",
       "\n",
       "   student_staff_ratio international_students female_male_ratio  year  \n",
       "0                  8.9                    25%               NaN  2011  "
      ]
     },
     "execution_count": 3,
     "metadata": {},
     "output_type": "execute_result"
    }
   ],
   "source": [
    "times.head(1)"
   ]
  },
  {
   "cell_type": "code",
   "execution_count": 4,
   "metadata": {},
   "outputs": [
    {
     "data": {
      "text/html": [
       "<div>\n",
       "<style scoped>\n",
       "    .dataframe tbody tr th:only-of-type {\n",
       "        vertical-align: middle;\n",
       "    }\n",
       "\n",
       "    .dataframe tbody tr th {\n",
       "        vertical-align: top;\n",
       "    }\n",
       "\n",
       "    .dataframe thead th {\n",
       "        text-align: right;\n",
       "    }\n",
       "</style>\n",
       "<table border=\"1\" class=\"dataframe\">\n",
       "  <thead>\n",
       "    <tr style=\"text-align: right;\">\n",
       "      <th></th>\n",
       "      <th>world_rank</th>\n",
       "      <th>university_name</th>\n",
       "      <th>national_rank</th>\n",
       "      <th>total_score</th>\n",
       "      <th>alumni</th>\n",
       "      <th>award</th>\n",
       "      <th>hici</th>\n",
       "      <th>ns</th>\n",
       "      <th>pub</th>\n",
       "      <th>pcp</th>\n",
       "      <th>year</th>\n",
       "    </tr>\n",
       "  </thead>\n",
       "  <tbody>\n",
       "    <tr>\n",
       "      <th>0</th>\n",
       "      <td>1</td>\n",
       "      <td>Harvard University</td>\n",
       "      <td>1</td>\n",
       "      <td>100.0</td>\n",
       "      <td>100.0</td>\n",
       "      <td>100.0</td>\n",
       "      <td>100.0</td>\n",
       "      <td>100.0</td>\n",
       "      <td>100.0</td>\n",
       "      <td>72.4</td>\n",
       "      <td>2005</td>\n",
       "    </tr>\n",
       "  </tbody>\n",
       "</table>\n",
       "</div>"
      ],
      "text/plain": [
       "  world_rank     university_name national_rank  total_score  alumni  award  \\\n",
       "0          1  Harvard University             1        100.0   100.0  100.0   \n",
       "\n",
       "    hici     ns    pub   pcp  year  \n",
       "0  100.0  100.0  100.0  72.4  2005  "
      ]
     },
     "execution_count": 4,
     "metadata": {},
     "output_type": "execute_result"
    }
   ],
   "source": [
    "shangai.head(1)"
   ]
  },
  {
   "cell_type": "code",
   "execution_count": 5,
   "metadata": {
    "scrolled": true
   },
   "outputs": [
    {
     "data": {
      "text/html": [
       "<div>\n",
       "<style scoped>\n",
       "    .dataframe tbody tr th:only-of-type {\n",
       "        vertical-align: middle;\n",
       "    }\n",
       "\n",
       "    .dataframe tbody tr th {\n",
       "        vertical-align: top;\n",
       "    }\n",
       "\n",
       "    .dataframe thead th {\n",
       "        text-align: right;\n",
       "    }\n",
       "</style>\n",
       "<table border=\"1\" class=\"dataframe\">\n",
       "  <thead>\n",
       "    <tr style=\"text-align: right;\">\n",
       "      <th></th>\n",
       "      <th>world_rank</th>\n",
       "      <th>institution</th>\n",
       "      <th>country</th>\n",
       "      <th>national_rank</th>\n",
       "      <th>quality_of_education</th>\n",
       "      <th>alumni_employment</th>\n",
       "      <th>quality_of_faculty</th>\n",
       "      <th>publications</th>\n",
       "      <th>influence</th>\n",
       "      <th>citations</th>\n",
       "      <th>broad_impact</th>\n",
       "      <th>patents</th>\n",
       "      <th>score</th>\n",
       "      <th>year</th>\n",
       "    </tr>\n",
       "  </thead>\n",
       "  <tbody>\n",
       "    <tr>\n",
       "      <th>0</th>\n",
       "      <td>1</td>\n",
       "      <td>Harvard University</td>\n",
       "      <td>USA</td>\n",
       "      <td>1</td>\n",
       "      <td>7</td>\n",
       "      <td>9</td>\n",
       "      <td>1</td>\n",
       "      <td>1</td>\n",
       "      <td>1</td>\n",
       "      <td>1</td>\n",
       "      <td>NaN</td>\n",
       "      <td>5</td>\n",
       "      <td>100.0</td>\n",
       "      <td>2012</td>\n",
       "    </tr>\n",
       "  </tbody>\n",
       "</table>\n",
       "</div>"
      ],
      "text/plain": [
       "   world_rank         institution country  national_rank  \\\n",
       "0           1  Harvard University     USA              1   \n",
       "\n",
       "   quality_of_education  alumni_employment  quality_of_faculty  publications  \\\n",
       "0                     7                  9                   1             1   \n",
       "\n",
       "   influence  citations  broad_impact  patents  score  year  \n",
       "0          1          1           NaN        5  100.0  2012  "
      ]
     },
     "execution_count": 5,
     "metadata": {},
     "output_type": "execute_result"
    }
   ],
   "source": [
    "cwur.head(1)"
   ]
  },
  {
   "cell_type": "markdown",
   "metadata": {},
   "source": [
    "### 1. For each university, extract from the times dataset the most recent and the least recent data, obtaining two separate dataframes.\n"
   ]
  },
  {
   "cell_type": "markdown",
   "metadata": {},
   "source": [
    "Check of the years "
   ]
  },
  {
   "cell_type": "code",
   "execution_count": 6,
   "metadata": {},
   "outputs": [
    {
     "data": {
      "text/html": [
       "<div>\n",
       "<style scoped>\n",
       "    .dataframe tbody tr th:only-of-type {\n",
       "        vertical-align: middle;\n",
       "    }\n",
       "\n",
       "    .dataframe tbody tr th {\n",
       "        vertical-align: top;\n",
       "    }\n",
       "\n",
       "    .dataframe thead th {\n",
       "        text-align: right;\n",
       "    }\n",
       "</style>\n",
       "<table border=\"1\" class=\"dataframe\">\n",
       "  <thead>\n",
       "    <tr style=\"text-align: right;\">\n",
       "      <th></th>\n",
       "      <th>world_rank</th>\n",
       "      <th>university_name</th>\n",
       "      <th>country</th>\n",
       "      <th>teaching</th>\n",
       "      <th>international</th>\n",
       "      <th>research</th>\n",
       "      <th>citations</th>\n",
       "      <th>income</th>\n",
       "      <th>total_score</th>\n",
       "      <th>num_students</th>\n",
       "      <th>student_staff_ratio</th>\n",
       "      <th>international_students</th>\n",
       "      <th>female_male_ratio</th>\n",
       "      <th>year</th>\n",
       "    </tr>\n",
       "  </thead>\n",
       "  <tbody>\n",
       "    <tr>\n",
       "      <th>2405</th>\n",
       "      <td>601-800</td>\n",
       "      <td>AGH University of Science and Technology</td>\n",
       "      <td>Poland</td>\n",
       "      <td>14.2</td>\n",
       "      <td>17.9</td>\n",
       "      <td>3.7</td>\n",
       "      <td>35.7</td>\n",
       "      <td>-</td>\n",
       "      <td>-</td>\n",
       "      <td>35569.0</td>\n",
       "      <td>17.0</td>\n",
       "      <td>1%</td>\n",
       "      <td>-</td>\n",
       "      <td>2016</td>\n",
       "    </tr>\n",
       "    <tr>\n",
       "      <th>2003</th>\n",
       "      <td>201-250</td>\n",
       "      <td>Aalborg University</td>\n",
       "      <td>Denmark</td>\n",
       "      <td>25.1</td>\n",
       "      <td>71.0</td>\n",
       "      <td>28.4</td>\n",
       "      <td>73.8</td>\n",
       "      <td>43.7</td>\n",
       "      <td>-</td>\n",
       "      <td>17422.0</td>\n",
       "      <td>15.9</td>\n",
       "      <td>15%</td>\n",
       "      <td>48 : 52</td>\n",
       "      <td>2016</td>\n",
       "    </tr>\n",
       "    <tr>\n",
       "      <th>2056</th>\n",
       "      <td>251-300</td>\n",
       "      <td>Aalto University</td>\n",
       "      <td>Finland</td>\n",
       "      <td>31.1</td>\n",
       "      <td>65.4</td>\n",
       "      <td>32.8</td>\n",
       "      <td>62.1</td>\n",
       "      <td>61.6</td>\n",
       "      <td>-</td>\n",
       "      <td>16099.0</td>\n",
       "      <td>24.2</td>\n",
       "      <td>17%</td>\n",
       "      <td>32 : 68</td>\n",
       "      <td>2016</td>\n",
       "    </tr>\n",
       "    <tr>\n",
       "      <th>1908</th>\n",
       "      <td>=106</td>\n",
       "      <td>Aarhus University</td>\n",
       "      <td>Denmark</td>\n",
       "      <td>36.9</td>\n",
       "      <td>76.8</td>\n",
       "      <td>50.7</td>\n",
       "      <td>79.8</td>\n",
       "      <td>68.3</td>\n",
       "      <td>57.7</td>\n",
       "      <td>23895.0</td>\n",
       "      <td>13.6</td>\n",
       "      <td>14%</td>\n",
       "      <td>54 : 46</td>\n",
       "      <td>2016</td>\n",
       "    </tr>\n",
       "    <tr>\n",
       "      <th>2105</th>\n",
       "      <td>301-350</td>\n",
       "      <td>Aberystwyth University</td>\n",
       "      <td>United Kingdom</td>\n",
       "      <td>21.6</td>\n",
       "      <td>72.2</td>\n",
       "      <td>18.9</td>\n",
       "      <td>67.2</td>\n",
       "      <td>31.3</td>\n",
       "      <td>-</td>\n",
       "      <td>9252.0</td>\n",
       "      <td>19.2</td>\n",
       "      <td>18%</td>\n",
       "      <td>48 : 52</td>\n",
       "      <td>2016</td>\n",
       "    </tr>\n",
       "  </tbody>\n",
       "</table>\n",
       "</div>"
      ],
      "text/plain": [
       "     world_rank                           university_name         country  \\\n",
       "2405    601-800  AGH University of Science and Technology          Poland   \n",
       "2003    201-250                        Aalborg University         Denmark   \n",
       "2056    251-300                          Aalto University         Finland   \n",
       "1908       =106                         Aarhus University         Denmark   \n",
       "2105    301-350                    Aberystwyth University  United Kingdom   \n",
       "\n",
       "      teaching international  research  citations income total_score  \\\n",
       "2405      14.2          17.9       3.7       35.7      -           -   \n",
       "2003      25.1          71.0      28.4       73.8   43.7           -   \n",
       "2056      31.1          65.4      32.8       62.1   61.6           -   \n",
       "1908      36.9          76.8      50.7       79.8   68.3        57.7   \n",
       "2105      21.6          72.2      18.9       67.2   31.3           -   \n",
       "\n",
       "      num_students  student_staff_ratio international_students  \\\n",
       "2405       35569.0                 17.0                     1%   \n",
       "2003       17422.0                 15.9                    15%   \n",
       "2056       16099.0                 24.2                    17%   \n",
       "1908       23895.0                 13.6                    14%   \n",
       "2105        9252.0                 19.2                    18%   \n",
       "\n",
       "     female_male_ratio  year  \n",
       "2405                 -  2016  \n",
       "2003           48 : 52  2016  \n",
       "2056           32 : 68  2016  \n",
       "1908           54 : 46  2016  \n",
       "2105           48 : 52  2016  "
      ]
     },
     "execution_count": 6,
     "metadata": {},
     "output_type": "execute_result"
    }
   ],
   "source": [
    "newer_times = times.loc[times.groupby('university_name').year.idxmax()]\n",
    "newer_times.head()"
   ]
  },
  {
   "cell_type": "code",
   "execution_count": 7,
   "metadata": {},
   "outputs": [
    {
     "data": {
      "text/html": [
       "<div>\n",
       "<style scoped>\n",
       "    .dataframe tbody tr th:only-of-type {\n",
       "        vertical-align: middle;\n",
       "    }\n",
       "\n",
       "    .dataframe tbody tr th {\n",
       "        vertical-align: top;\n",
       "    }\n",
       "\n",
       "    .dataframe thead th {\n",
       "        text-align: right;\n",
       "    }\n",
       "</style>\n",
       "<table border=\"1\" class=\"dataframe\">\n",
       "  <thead>\n",
       "    <tr style=\"text-align: right;\">\n",
       "      <th></th>\n",
       "      <th>world_rank</th>\n",
       "      <th>university_name</th>\n",
       "      <th>country</th>\n",
       "      <th>teaching</th>\n",
       "      <th>international</th>\n",
       "      <th>research</th>\n",
       "      <th>citations</th>\n",
       "      <th>income</th>\n",
       "      <th>total_score</th>\n",
       "      <th>num_students</th>\n",
       "      <th>student_staff_ratio</th>\n",
       "      <th>international_students</th>\n",
       "      <th>female_male_ratio</th>\n",
       "      <th>year</th>\n",
       "    </tr>\n",
       "  </thead>\n",
       "  <tbody>\n",
       "    <tr>\n",
       "      <th>2405</th>\n",
       "      <td>601-800</td>\n",
       "      <td>AGH University of Science and Technology</td>\n",
       "      <td>Poland</td>\n",
       "      <td>14.2</td>\n",
       "      <td>17.9</td>\n",
       "      <td>3.7</td>\n",
       "      <td>35.7</td>\n",
       "      <td>-</td>\n",
       "      <td>-</td>\n",
       "      <td>35569.0</td>\n",
       "      <td>17.0</td>\n",
       "      <td>1%</td>\n",
       "      <td>-</td>\n",
       "      <td>2016</td>\n",
       "    </tr>\n",
       "    <tr>\n",
       "      <th>501</th>\n",
       "      <td>301-350</td>\n",
       "      <td>Aalborg University</td>\n",
       "      <td>Denmark</td>\n",
       "      <td>19.0</td>\n",
       "      <td>75.3</td>\n",
       "      <td>20.0</td>\n",
       "      <td>27.1</td>\n",
       "      <td>36.4</td>\n",
       "      <td>-</td>\n",
       "      <td>17422.0</td>\n",
       "      <td>15.9</td>\n",
       "      <td>15%</td>\n",
       "      <td>48 : 52</td>\n",
       "      <td>2012</td>\n",
       "    </tr>\n",
       "    <tr>\n",
       "      <th>502</th>\n",
       "      <td>301-350</td>\n",
       "      <td>Aalto University</td>\n",
       "      <td>Finland</td>\n",
       "      <td>26.2</td>\n",
       "      <td>49.0</td>\n",
       "      <td>22.2</td>\n",
       "      <td>37.5</td>\n",
       "      <td>61.9</td>\n",
       "      <td>-</td>\n",
       "      <td>16099.0</td>\n",
       "      <td>24.2</td>\n",
       "      <td>17%</td>\n",
       "      <td>32 : 68</td>\n",
       "      <td>2012</td>\n",
       "    </tr>\n",
       "    <tr>\n",
       "      <th>166</th>\n",
       "      <td>167</td>\n",
       "      <td>Aarhus University</td>\n",
       "      <td>Denmark</td>\n",
       "      <td>38.1</td>\n",
       "      <td>33.4</td>\n",
       "      <td>55.6</td>\n",
       "      <td>57.3</td>\n",
       "      <td>61.5</td>\n",
       "      <td>49.9</td>\n",
       "      <td>23895.0</td>\n",
       "      <td>13.6</td>\n",
       "      <td>14%</td>\n",
       "      <td>54 : 46</td>\n",
       "      <td>2011</td>\n",
       "    </tr>\n",
       "    <tr>\n",
       "      <th>476</th>\n",
       "      <td>276-300</td>\n",
       "      <td>Aberystwyth University</td>\n",
       "      <td>United Kingdom</td>\n",
       "      <td>19.8</td>\n",
       "      <td>63.8</td>\n",
       "      <td>15.5</td>\n",
       "      <td>56.6</td>\n",
       "      <td>35.5</td>\n",
       "      <td>-</td>\n",
       "      <td>9252.0</td>\n",
       "      <td>19.2</td>\n",
       "      <td>18%</td>\n",
       "      <td>48 : 52</td>\n",
       "      <td>2012</td>\n",
       "    </tr>\n",
       "  </tbody>\n",
       "</table>\n",
       "</div>"
      ],
      "text/plain": [
       "     world_rank                           university_name         country  \\\n",
       "2405    601-800  AGH University of Science and Technology          Poland   \n",
       "501     301-350                        Aalborg University         Denmark   \n",
       "502     301-350                          Aalto University         Finland   \n",
       "166         167                         Aarhus University         Denmark   \n",
       "476     276-300                    Aberystwyth University  United Kingdom   \n",
       "\n",
       "      teaching international  research  citations income total_score  \\\n",
       "2405      14.2          17.9       3.7       35.7      -           -   \n",
       "501       19.0          75.3      20.0       27.1   36.4           -   \n",
       "502       26.2          49.0      22.2       37.5   61.9           -   \n",
       "166       38.1          33.4      55.6       57.3   61.5        49.9   \n",
       "476       19.8          63.8      15.5       56.6   35.5           -   \n",
       "\n",
       "      num_students  student_staff_ratio international_students  \\\n",
       "2405       35569.0                 17.0                     1%   \n",
       "501        17422.0                 15.9                    15%   \n",
       "502        16099.0                 24.2                    17%   \n",
       "166        23895.0                 13.6                    14%   \n",
       "476         9252.0                 19.2                    18%   \n",
       "\n",
       "     female_male_ratio  year  \n",
       "2405                 -  2016  \n",
       "501            48 : 52  2012  \n",
       "502            32 : 68  2012  \n",
       "166            54 : 46  2011  \n",
       "476            48 : 52  2012  "
      ]
     },
     "execution_count": 7,
     "metadata": {},
     "output_type": "execute_result"
    }
   ],
   "source": [
    "older_times = times.loc[times.groupby('university_name').year.idxmin()]\n",
    "older_times.head()"
   ]
  },
  {
   "cell_type": "markdown",
   "metadata": {},
   "source": [
    "### 2. For each university, compute the improvement in income between the least recent and the most recent data points.\n"
   ]
  },
  {
   "cell_type": "code",
   "execution_count": 8,
   "metadata": {
    "scrolled": true
   },
   "outputs": [
    {
     "data": {
      "text/plain": [
       "year\n",
       "2011    200\n",
       "2012    402\n",
       "2013    400\n",
       "2014    400\n",
       "2015    401\n",
       "2016    800\n",
       "dtype: int64"
      ]
     },
     "execution_count": 8,
     "metadata": {},
     "output_type": "execute_result"
    }
   ],
   "source": [
    "times.groupby('year').size()"
   ]
  },
  {
   "cell_type": "markdown",
   "metadata": {},
   "source": [
    "We can compute the income difference only for up to 200 university. In particularly only for the 198 universities in the ranking both in 2011 and in 2016"
   ]
  },
  {
   "cell_type": "code",
   "execution_count": 9,
   "metadata": {
    "scrolled": true
   },
   "outputs": [
    {
     "data": {
      "text/plain": [
       "818"
      ]
     },
     "execution_count": 9,
     "metadata": {},
     "output_type": "execute_result"
    }
   ],
   "source": [
    "len(np.intersect1d(newer_times.university_name, older_times.university_name))"
   ]
  },
  {
   "cell_type": "code",
   "execution_count": 10,
   "metadata": {},
   "outputs": [
    {
     "data": {
      "text/html": [
       "<div>\n",
       "<style scoped>\n",
       "    .dataframe tbody tr th:only-of-type {\n",
       "        vertical-align: middle;\n",
       "    }\n",
       "\n",
       "    .dataframe tbody tr th {\n",
       "        vertical-align: top;\n",
       "    }\n",
       "\n",
       "    .dataframe thead th {\n",
       "        text-align: right;\n",
       "    }\n",
       "</style>\n",
       "<table border=\"1\" class=\"dataframe\">\n",
       "  <thead>\n",
       "    <tr style=\"text-align: right;\">\n",
       "      <th></th>\n",
       "      <th>world_rank_new</th>\n",
       "      <th>university_name</th>\n",
       "      <th>country_new</th>\n",
       "      <th>teaching_new</th>\n",
       "      <th>international_new</th>\n",
       "      <th>research_new</th>\n",
       "      <th>citations_new</th>\n",
       "      <th>income_new</th>\n",
       "      <th>total_score_new</th>\n",
       "      <th>num_students_new</th>\n",
       "      <th>...</th>\n",
       "      <th>international_old</th>\n",
       "      <th>research_old</th>\n",
       "      <th>citations_old</th>\n",
       "      <th>income_old</th>\n",
       "      <th>total_score_old</th>\n",
       "      <th>num_students_old</th>\n",
       "      <th>student_staff_ratio_old</th>\n",
       "      <th>international_students_old</th>\n",
       "      <th>female_male_ratio_old</th>\n",
       "      <th>year_old</th>\n",
       "    </tr>\n",
       "  </thead>\n",
       "  <tbody>\n",
       "    <tr>\n",
       "      <th>0</th>\n",
       "      <td>601-800</td>\n",
       "      <td>AGH University of Science and Technology</td>\n",
       "      <td>Poland</td>\n",
       "      <td>14.2</td>\n",
       "      <td>17.9</td>\n",
       "      <td>3.7</td>\n",
       "      <td>35.7</td>\n",
       "      <td>-</td>\n",
       "      <td>-</td>\n",
       "      <td>35569.0</td>\n",
       "      <td>...</td>\n",
       "      <td>17.9</td>\n",
       "      <td>3.7</td>\n",
       "      <td>35.7</td>\n",
       "      <td>-</td>\n",
       "      <td>-</td>\n",
       "      <td>35569.0</td>\n",
       "      <td>17.0</td>\n",
       "      <td>1%</td>\n",
       "      <td>-</td>\n",
       "      <td>2016</td>\n",
       "    </tr>\n",
       "    <tr>\n",
       "      <th>1</th>\n",
       "      <td>201-250</td>\n",
       "      <td>Aalborg University</td>\n",
       "      <td>Denmark</td>\n",
       "      <td>25.1</td>\n",
       "      <td>71.0</td>\n",
       "      <td>28.4</td>\n",
       "      <td>73.8</td>\n",
       "      <td>43.7</td>\n",
       "      <td>-</td>\n",
       "      <td>17422.0</td>\n",
       "      <td>...</td>\n",
       "      <td>75.3</td>\n",
       "      <td>20.0</td>\n",
       "      <td>27.1</td>\n",
       "      <td>36.4</td>\n",
       "      <td>-</td>\n",
       "      <td>17422.0</td>\n",
       "      <td>15.9</td>\n",
       "      <td>15%</td>\n",
       "      <td>48 : 52</td>\n",
       "      <td>2012</td>\n",
       "    </tr>\n",
       "    <tr>\n",
       "      <th>2</th>\n",
       "      <td>251-300</td>\n",
       "      <td>Aalto University</td>\n",
       "      <td>Finland</td>\n",
       "      <td>31.1</td>\n",
       "      <td>65.4</td>\n",
       "      <td>32.8</td>\n",
       "      <td>62.1</td>\n",
       "      <td>61.6</td>\n",
       "      <td>-</td>\n",
       "      <td>16099.0</td>\n",
       "      <td>...</td>\n",
       "      <td>49.0</td>\n",
       "      <td>22.2</td>\n",
       "      <td>37.5</td>\n",
       "      <td>61.9</td>\n",
       "      <td>-</td>\n",
       "      <td>16099.0</td>\n",
       "      <td>24.2</td>\n",
       "      <td>17%</td>\n",
       "      <td>32 : 68</td>\n",
       "      <td>2012</td>\n",
       "    </tr>\n",
       "    <tr>\n",
       "      <th>3</th>\n",
       "      <td>=106</td>\n",
       "      <td>Aarhus University</td>\n",
       "      <td>Denmark</td>\n",
       "      <td>36.9</td>\n",
       "      <td>76.8</td>\n",
       "      <td>50.7</td>\n",
       "      <td>79.8</td>\n",
       "      <td>68.3</td>\n",
       "      <td>57.7</td>\n",
       "      <td>23895.0</td>\n",
       "      <td>...</td>\n",
       "      <td>33.4</td>\n",
       "      <td>55.6</td>\n",
       "      <td>57.3</td>\n",
       "      <td>61.5</td>\n",
       "      <td>49.9</td>\n",
       "      <td>23895.0</td>\n",
       "      <td>13.6</td>\n",
       "      <td>14%</td>\n",
       "      <td>54 : 46</td>\n",
       "      <td>2011</td>\n",
       "    </tr>\n",
       "    <tr>\n",
       "      <th>4</th>\n",
       "      <td>301-350</td>\n",
       "      <td>Aberystwyth University</td>\n",
       "      <td>United Kingdom</td>\n",
       "      <td>21.6</td>\n",
       "      <td>72.2</td>\n",
       "      <td>18.9</td>\n",
       "      <td>67.2</td>\n",
       "      <td>31.3</td>\n",
       "      <td>-</td>\n",
       "      <td>9252.0</td>\n",
       "      <td>...</td>\n",
       "      <td>63.8</td>\n",
       "      <td>15.5</td>\n",
       "      <td>56.6</td>\n",
       "      <td>35.5</td>\n",
       "      <td>-</td>\n",
       "      <td>9252.0</td>\n",
       "      <td>19.2</td>\n",
       "      <td>18%</td>\n",
       "      <td>48 : 52</td>\n",
       "      <td>2012</td>\n",
       "    </tr>\n",
       "  </tbody>\n",
       "</table>\n",
       "<p>5 rows × 27 columns</p>\n",
       "</div>"
      ],
      "text/plain": [
       "  world_rank_new                           university_name     country_new  \\\n",
       "0        601-800  AGH University of Science and Technology          Poland   \n",
       "1        201-250                        Aalborg University         Denmark   \n",
       "2        251-300                          Aalto University         Finland   \n",
       "3           =106                         Aarhus University         Denmark   \n",
       "4        301-350                    Aberystwyth University  United Kingdom   \n",
       "\n",
       "   teaching_new international_new  research_new  citations_new income_new  \\\n",
       "0          14.2              17.9           3.7           35.7          -   \n",
       "1          25.1              71.0          28.4           73.8       43.7   \n",
       "2          31.1              65.4          32.8           62.1       61.6   \n",
       "3          36.9              76.8          50.7           79.8       68.3   \n",
       "4          21.6              72.2          18.9           67.2       31.3   \n",
       "\n",
       "  total_score_new  num_students_new  ...  international_old research_old  \\\n",
       "0               -           35569.0  ...               17.9          3.7   \n",
       "1               -           17422.0  ...               75.3         20.0   \n",
       "2               -           16099.0  ...               49.0         22.2   \n",
       "3            57.7           23895.0  ...               33.4         55.6   \n",
       "4               -            9252.0  ...               63.8         15.5   \n",
       "\n",
       "  citations_old  income_old total_score_old num_students_old  \\\n",
       "0          35.7           -               -          35569.0   \n",
       "1          27.1        36.4               -          17422.0   \n",
       "2          37.5        61.9               -          16099.0   \n",
       "3          57.3        61.5            49.9          23895.0   \n",
       "4          56.6        35.5               -           9252.0   \n",
       "\n",
       "   student_staff_ratio_old international_students_old  female_male_ratio_old  \\\n",
       "0                     17.0                         1%                      -   \n",
       "1                     15.9                        15%                48 : 52   \n",
       "2                     24.2                        17%                32 : 68   \n",
       "3                     13.6                        14%                54 : 46   \n",
       "4                     19.2                        18%                48 : 52   \n",
       "\n",
       "   year_old  \n",
       "0      2016  \n",
       "1      2012  \n",
       "2      2012  \n",
       "3      2011  \n",
       "4      2012  \n",
       "\n",
       "[5 rows x 27 columns]"
      ]
     },
     "execution_count": 10,
     "metadata": {},
     "output_type": "execute_result"
    }
   ],
   "source": [
    "merged = pd.merge(newer_times, older_times, on = 'university_name', suffixes = ('_new', '_old'))\n",
    "merged.head()"
   ]
  },
  {
   "cell_type": "markdown",
   "metadata": {},
   "source": [
    "What we do now is to check if all the rows have the income values "
   ]
  },
  {
   "cell_type": "code",
   "execution_count": 11,
   "metadata": {
    "scrolled": false
   },
   "outputs": [
    {
     "data": {
      "text/html": [
       "<div>\n",
       "<style scoped>\n",
       "    .dataframe tbody tr th:only-of-type {\n",
       "        vertical-align: middle;\n",
       "    }\n",
       "\n",
       "    .dataframe tbody tr th {\n",
       "        vertical-align: top;\n",
       "    }\n",
       "\n",
       "    .dataframe thead th {\n",
       "        text-align: right;\n",
       "    }\n",
       "</style>\n",
       "<table border=\"1\" class=\"dataframe\">\n",
       "  <thead>\n",
       "    <tr style=\"text-align: right;\">\n",
       "      <th></th>\n",
       "      <th>world_rank_new</th>\n",
       "      <th>university_name</th>\n",
       "      <th>country_new</th>\n",
       "      <th>teaching_new</th>\n",
       "      <th>international_new</th>\n",
       "      <th>research_new</th>\n",
       "      <th>citations_new</th>\n",
       "      <th>income_new</th>\n",
       "      <th>total_score_new</th>\n",
       "      <th>num_students_new</th>\n",
       "      <th>...</th>\n",
       "      <th>international_old</th>\n",
       "      <th>research_old</th>\n",
       "      <th>citations_old</th>\n",
       "      <th>income_old</th>\n",
       "      <th>total_score_old</th>\n",
       "      <th>num_students_old</th>\n",
       "      <th>student_staff_ratio_old</th>\n",
       "      <th>international_students_old</th>\n",
       "      <th>female_male_ratio_old</th>\n",
       "      <th>year_old</th>\n",
       "    </tr>\n",
       "  </thead>\n",
       "  <tbody>\n",
       "    <tr>\n",
       "      <th>1</th>\n",
       "      <td>201-250</td>\n",
       "      <td>Aalborg University</td>\n",
       "      <td>Denmark</td>\n",
       "      <td>25.1</td>\n",
       "      <td>71.0</td>\n",
       "      <td>28.4</td>\n",
       "      <td>73.8</td>\n",
       "      <td>43.7</td>\n",
       "      <td>-</td>\n",
       "      <td>17422.0</td>\n",
       "      <td>...</td>\n",
       "      <td>75.3</td>\n",
       "      <td>20.0</td>\n",
       "      <td>27.1</td>\n",
       "      <td>36.4</td>\n",
       "      <td>-</td>\n",
       "      <td>17422.0</td>\n",
       "      <td>15.9</td>\n",
       "      <td>15%</td>\n",
       "      <td>48 : 52</td>\n",
       "      <td>2012</td>\n",
       "    </tr>\n",
       "    <tr>\n",
       "      <th>2</th>\n",
       "      <td>251-300</td>\n",
       "      <td>Aalto University</td>\n",
       "      <td>Finland</td>\n",
       "      <td>31.1</td>\n",
       "      <td>65.4</td>\n",
       "      <td>32.8</td>\n",
       "      <td>62.1</td>\n",
       "      <td>61.6</td>\n",
       "      <td>-</td>\n",
       "      <td>16099.0</td>\n",
       "      <td>...</td>\n",
       "      <td>49.0</td>\n",
       "      <td>22.2</td>\n",
       "      <td>37.5</td>\n",
       "      <td>61.9</td>\n",
       "      <td>-</td>\n",
       "      <td>16099.0</td>\n",
       "      <td>24.2</td>\n",
       "      <td>17%</td>\n",
       "      <td>32 : 68</td>\n",
       "      <td>2012</td>\n",
       "    </tr>\n",
       "    <tr>\n",
       "      <th>3</th>\n",
       "      <td>=106</td>\n",
       "      <td>Aarhus University</td>\n",
       "      <td>Denmark</td>\n",
       "      <td>36.9</td>\n",
       "      <td>76.8</td>\n",
       "      <td>50.7</td>\n",
       "      <td>79.8</td>\n",
       "      <td>68.3</td>\n",
       "      <td>57.7</td>\n",
       "      <td>23895.0</td>\n",
       "      <td>...</td>\n",
       "      <td>33.4</td>\n",
       "      <td>55.6</td>\n",
       "      <td>57.3</td>\n",
       "      <td>61.5</td>\n",
       "      <td>49.9</td>\n",
       "      <td>23895.0</td>\n",
       "      <td>13.6</td>\n",
       "      <td>14%</td>\n",
       "      <td>54 : 46</td>\n",
       "      <td>2011</td>\n",
       "    </tr>\n",
       "    <tr>\n",
       "      <th>4</th>\n",
       "      <td>301-350</td>\n",
       "      <td>Aberystwyth University</td>\n",
       "      <td>United Kingdom</td>\n",
       "      <td>21.6</td>\n",
       "      <td>72.2</td>\n",
       "      <td>18.9</td>\n",
       "      <td>67.2</td>\n",
       "      <td>31.3</td>\n",
       "      <td>-</td>\n",
       "      <td>9252.0</td>\n",
       "      <td>...</td>\n",
       "      <td>63.8</td>\n",
       "      <td>15.5</td>\n",
       "      <td>56.6</td>\n",
       "      <td>35.5</td>\n",
       "      <td>-</td>\n",
       "      <td>9252.0</td>\n",
       "      <td>19.2</td>\n",
       "      <td>18%</td>\n",
       "      <td>48 : 52</td>\n",
       "      <td>2012</td>\n",
       "    </tr>\n",
       "    <tr>\n",
       "      <th>5</th>\n",
       "      <td>601-800</td>\n",
       "      <td>Adam Mickiewicz University</td>\n",
       "      <td>Poland</td>\n",
       "      <td>20.0</td>\n",
       "      <td>25.7</td>\n",
       "      <td>11.0</td>\n",
       "      <td>15.3</td>\n",
       "      <td>28.7</td>\n",
       "      <td>-</td>\n",
       "      <td>40633.0</td>\n",
       "      <td>...</td>\n",
       "      <td>25.7</td>\n",
       "      <td>11.0</td>\n",
       "      <td>15.3</td>\n",
       "      <td>28.7</td>\n",
       "      <td>-</td>\n",
       "      <td>40633.0</td>\n",
       "      <td>15.6</td>\n",
       "      <td>1%</td>\n",
       "      <td>71 : 29</td>\n",
       "      <td>2016</td>\n",
       "    </tr>\n",
       "  </tbody>\n",
       "</table>\n",
       "<p>5 rows × 27 columns</p>\n",
       "</div>"
      ],
      "text/plain": [
       "  world_rank_new             university_name     country_new  teaching_new  \\\n",
       "1        201-250          Aalborg University         Denmark          25.1   \n",
       "2        251-300            Aalto University         Finland          31.1   \n",
       "3           =106           Aarhus University         Denmark          36.9   \n",
       "4        301-350      Aberystwyth University  United Kingdom          21.6   \n",
       "5        601-800  Adam Mickiewicz University          Poland          20.0   \n",
       "\n",
       "  international_new  research_new  citations_new income_new total_score_new  \\\n",
       "1              71.0          28.4           73.8       43.7               -   \n",
       "2              65.4          32.8           62.1       61.6               -   \n",
       "3              76.8          50.7           79.8       68.3            57.7   \n",
       "4              72.2          18.9           67.2       31.3               -   \n",
       "5              25.7          11.0           15.3       28.7               -   \n",
       "\n",
       "   num_students_new  ...  international_old research_old citations_old  \\\n",
       "1           17422.0  ...               75.3         20.0          27.1   \n",
       "2           16099.0  ...               49.0         22.2          37.5   \n",
       "3           23895.0  ...               33.4         55.6          57.3   \n",
       "4            9252.0  ...               63.8         15.5          56.6   \n",
       "5           40633.0  ...               25.7         11.0          15.3   \n",
       "\n",
       "   income_old total_score_old num_students_old  student_staff_ratio_old  \\\n",
       "1        36.4               -          17422.0                     15.9   \n",
       "2        61.9               -          16099.0                     24.2   \n",
       "3        61.5            49.9          23895.0                     13.6   \n",
       "4        35.5               -           9252.0                     19.2   \n",
       "5        28.7               -          40633.0                     15.6   \n",
       "\n",
       "  international_students_old  female_male_ratio_old  year_old  \n",
       "1                        15%                48 : 52      2012  \n",
       "2                        17%                32 : 68      2012  \n",
       "3                        14%                54 : 46      2011  \n",
       "4                        18%                48 : 52      2012  \n",
       "5                         1%                71 : 29      2016  \n",
       "\n",
       "[5 rows x 27 columns]"
      ]
     },
     "execution_count": 11,
     "metadata": {},
     "output_type": "execute_result"
    }
   ],
   "source": [
    "clear_merged = (merged[(merged.income_new.str.contains('\\d+\\.\\d*')) & (merged.income_old.str.contains('\\d+\\.\\d*'))]).copy()\n",
    "clear_merged.head()"
   ]
  },
  {
   "cell_type": "markdown",
   "metadata": {},
   "source": [
    "Before to compute the difference between the income we must remember to conver the series in numerical variables"
   ]
  },
  {
   "cell_type": "code",
   "execution_count": 12,
   "metadata": {},
   "outputs": [
    {
     "data": {
      "text/html": [
       "<div>\n",
       "<style scoped>\n",
       "    .dataframe tbody tr th:only-of-type {\n",
       "        vertical-align: middle;\n",
       "    }\n",
       "\n",
       "    .dataframe tbody tr th {\n",
       "        vertical-align: top;\n",
       "    }\n",
       "\n",
       "    .dataframe thead th {\n",
       "        text-align: right;\n",
       "    }\n",
       "</style>\n",
       "<table border=\"1\" class=\"dataframe\">\n",
       "  <thead>\n",
       "    <tr style=\"text-align: right;\">\n",
       "      <th></th>\n",
       "      <th>world_rank_new</th>\n",
       "      <th>university_name</th>\n",
       "      <th>country_new</th>\n",
       "      <th>teaching_new</th>\n",
       "      <th>international_new</th>\n",
       "      <th>research_new</th>\n",
       "      <th>citations_new</th>\n",
       "      <th>income_new</th>\n",
       "      <th>total_score_new</th>\n",
       "      <th>num_students_new</th>\n",
       "      <th>...</th>\n",
       "      <th>research_old</th>\n",
       "      <th>citations_old</th>\n",
       "      <th>income_old</th>\n",
       "      <th>total_score_old</th>\n",
       "      <th>num_students_old</th>\n",
       "      <th>student_staff_ratio_old</th>\n",
       "      <th>international_students_old</th>\n",
       "      <th>female_male_ratio_old</th>\n",
       "      <th>year_old</th>\n",
       "      <th>income_difference</th>\n",
       "    </tr>\n",
       "  </thead>\n",
       "  <tbody>\n",
       "    <tr>\n",
       "      <th>1</th>\n",
       "      <td>201-250</td>\n",
       "      <td>Aalborg University</td>\n",
       "      <td>Denmark</td>\n",
       "      <td>25.1</td>\n",
       "      <td>71.0</td>\n",
       "      <td>28.4</td>\n",
       "      <td>73.8</td>\n",
       "      <td>43.7</td>\n",
       "      <td>-</td>\n",
       "      <td>17422.0</td>\n",
       "      <td>...</td>\n",
       "      <td>20.0</td>\n",
       "      <td>27.1</td>\n",
       "      <td>36.4</td>\n",
       "      <td>-</td>\n",
       "      <td>17422.0</td>\n",
       "      <td>15.9</td>\n",
       "      <td>15%</td>\n",
       "      <td>48 : 52</td>\n",
       "      <td>2012</td>\n",
       "      <td>7.3</td>\n",
       "    </tr>\n",
       "    <tr>\n",
       "      <th>2</th>\n",
       "      <td>251-300</td>\n",
       "      <td>Aalto University</td>\n",
       "      <td>Finland</td>\n",
       "      <td>31.1</td>\n",
       "      <td>65.4</td>\n",
       "      <td>32.8</td>\n",
       "      <td>62.1</td>\n",
       "      <td>61.6</td>\n",
       "      <td>-</td>\n",
       "      <td>16099.0</td>\n",
       "      <td>...</td>\n",
       "      <td>22.2</td>\n",
       "      <td>37.5</td>\n",
       "      <td>61.9</td>\n",
       "      <td>-</td>\n",
       "      <td>16099.0</td>\n",
       "      <td>24.2</td>\n",
       "      <td>17%</td>\n",
       "      <td>32 : 68</td>\n",
       "      <td>2012</td>\n",
       "      <td>-0.3</td>\n",
       "    </tr>\n",
       "    <tr>\n",
       "      <th>3</th>\n",
       "      <td>=106</td>\n",
       "      <td>Aarhus University</td>\n",
       "      <td>Denmark</td>\n",
       "      <td>36.9</td>\n",
       "      <td>76.8</td>\n",
       "      <td>50.7</td>\n",
       "      <td>79.8</td>\n",
       "      <td>68.3</td>\n",
       "      <td>57.7</td>\n",
       "      <td>23895.0</td>\n",
       "      <td>...</td>\n",
       "      <td>55.6</td>\n",
       "      <td>57.3</td>\n",
       "      <td>61.5</td>\n",
       "      <td>49.9</td>\n",
       "      <td>23895.0</td>\n",
       "      <td>13.6</td>\n",
       "      <td>14%</td>\n",
       "      <td>54 : 46</td>\n",
       "      <td>2011</td>\n",
       "      <td>6.8</td>\n",
       "    </tr>\n",
       "    <tr>\n",
       "      <th>4</th>\n",
       "      <td>301-350</td>\n",
       "      <td>Aberystwyth University</td>\n",
       "      <td>United Kingdom</td>\n",
       "      <td>21.6</td>\n",
       "      <td>72.2</td>\n",
       "      <td>18.9</td>\n",
       "      <td>67.2</td>\n",
       "      <td>31.3</td>\n",
       "      <td>-</td>\n",
       "      <td>9252.0</td>\n",
       "      <td>...</td>\n",
       "      <td>15.5</td>\n",
       "      <td>56.6</td>\n",
       "      <td>35.5</td>\n",
       "      <td>-</td>\n",
       "      <td>9252.0</td>\n",
       "      <td>19.2</td>\n",
       "      <td>18%</td>\n",
       "      <td>48 : 52</td>\n",
       "      <td>2012</td>\n",
       "      <td>-4.2</td>\n",
       "    </tr>\n",
       "    <tr>\n",
       "      <th>5</th>\n",
       "      <td>601-800</td>\n",
       "      <td>Adam Mickiewicz University</td>\n",
       "      <td>Poland</td>\n",
       "      <td>20.0</td>\n",
       "      <td>25.7</td>\n",
       "      <td>11.0</td>\n",
       "      <td>15.3</td>\n",
       "      <td>28.7</td>\n",
       "      <td>-</td>\n",
       "      <td>40633.0</td>\n",
       "      <td>...</td>\n",
       "      <td>11.0</td>\n",
       "      <td>15.3</td>\n",
       "      <td>28.7</td>\n",
       "      <td>-</td>\n",
       "      <td>40633.0</td>\n",
       "      <td>15.6</td>\n",
       "      <td>1%</td>\n",
       "      <td>71 : 29</td>\n",
       "      <td>2016</td>\n",
       "      <td>0.0</td>\n",
       "    </tr>\n",
       "  </tbody>\n",
       "</table>\n",
       "<p>5 rows × 28 columns</p>\n",
       "</div>"
      ],
      "text/plain": [
       "  world_rank_new             university_name     country_new  teaching_new  \\\n",
       "1        201-250          Aalborg University         Denmark          25.1   \n",
       "2        251-300            Aalto University         Finland          31.1   \n",
       "3           =106           Aarhus University         Denmark          36.9   \n",
       "4        301-350      Aberystwyth University  United Kingdom          21.6   \n",
       "5        601-800  Adam Mickiewicz University          Poland          20.0   \n",
       "\n",
       "  international_new  research_new  citations_new income_new total_score_new  \\\n",
       "1              71.0          28.4           73.8       43.7               -   \n",
       "2              65.4          32.8           62.1       61.6               -   \n",
       "3              76.8          50.7           79.8       68.3            57.7   \n",
       "4              72.2          18.9           67.2       31.3               -   \n",
       "5              25.7          11.0           15.3       28.7               -   \n",
       "\n",
       "   num_students_new  ...  research_old citations_old income_old  \\\n",
       "1           17422.0  ...          20.0          27.1       36.4   \n",
       "2           16099.0  ...          22.2          37.5       61.9   \n",
       "3           23895.0  ...          55.6          57.3       61.5   \n",
       "4            9252.0  ...          15.5          56.6       35.5   \n",
       "5           40633.0  ...          11.0          15.3       28.7   \n",
       "\n",
       "   total_score_old num_students_old student_staff_ratio_old  \\\n",
       "1                -          17422.0                    15.9   \n",
       "2                -          16099.0                    24.2   \n",
       "3             49.9          23895.0                    13.6   \n",
       "4                -           9252.0                    19.2   \n",
       "5                -          40633.0                    15.6   \n",
       "\n",
       "   international_students_old female_male_ratio_old  year_old  \\\n",
       "1                         15%               48 : 52      2012   \n",
       "2                         17%               32 : 68      2012   \n",
       "3                         14%               54 : 46      2011   \n",
       "4                         18%               48 : 52      2012   \n",
       "5                          1%               71 : 29      2016   \n",
       "\n",
       "   income_difference  \n",
       "1                7.3  \n",
       "2               -0.3  \n",
       "3                6.8  \n",
       "4               -4.2  \n",
       "5                0.0  \n",
       "\n",
       "[5 rows x 28 columns]"
      ]
     },
     "execution_count": 12,
     "metadata": {},
     "output_type": "execute_result"
    }
   ],
   "source": [
    "clear_merged['income_difference'] = clear_merged['income_new'].astype('float') - clear_merged['income_old'].astype('float')\n",
    "clear_merged.head()"
   ]
  },
  {
   "cell_type": "markdown",
   "metadata": {},
   "source": [
    "### 3. Find the university with the largest increase computed in the previous point.\n"
   ]
  },
  {
   "cell_type": "markdown",
   "metadata": {},
   "source": [
    "First of all let's check which universities has the best difference income"
   ]
  },
  {
   "cell_type": "code",
   "execution_count": 13,
   "metadata": {},
   "outputs": [
    {
     "data": {
      "text/plain": [
       "428    67.8\n",
       "278    59.9\n",
       "230    59.6\n",
       "205    59.5\n",
       "276    58.3\n",
       "Name: income_difference, dtype: float64"
      ]
     },
     "execution_count": 13,
     "metadata": {},
     "output_type": "execute_result"
    }
   ],
   "source": [
    "clear_merged.income_difference.sort_values(ascending = False).head()"
   ]
  },
  {
   "cell_type": "markdown",
   "metadata": {},
   "source": [
    "As we can see there is only one university with the mximum income difference, we can simply look for the row with that id then"
   ]
  },
  {
   "cell_type": "code",
   "execution_count": 14,
   "metadata": {},
   "outputs": [
    {
     "data": {
      "text/plain": [
       "world_rank_new                      =158\n",
       "university_name               TU Dresden\n",
       "country_new                      Germany\n",
       "teaching_new                        41.4\n",
       "international_new                   47.7\n",
       "research_new                        45.8\n",
       "citations_new                       66.1\n",
       "income_new                          99.7\n",
       "total_score_new                     52.1\n",
       "num_students_new                   35487\n",
       "student_staff_ratio_new             37.4\n",
       "international_students_new           12%\n",
       "female_male_ratio_new            42 : 58\n",
       "year_new                            2016\n",
       "world_rank_old                   251-275\n",
       "country_old                      Germany\n",
       "teaching_old                        27.3\n",
       "international_old                   49.2\n",
       "research_old                        13.8\n",
       "citations_old                       57.4\n",
       "income_old                          31.9\n",
       "total_score_old                        -\n",
       "num_students_old                   35487\n",
       "student_staff_ratio_old             37.4\n",
       "international_students_old           12%\n",
       "female_male_ratio_old            42 : 58\n",
       "year_old                            2012\n",
       "income_difference                   67.8\n",
       "Name: 428, dtype: object"
      ]
     },
     "execution_count": 14,
     "metadata": {},
     "output_type": "execute_result"
    }
   ],
   "source": [
    "clear_merged.loc[clear_merged['income_difference'].idxmax()]"
   ]
  },
  {
   "cell_type": "markdown",
   "metadata": {},
   "source": [
    "### 4. For each ranking, consider only the most recent data point. For each university, compute the maximum difference between the rankings (e.g. for Aarhus University the value is 122-73=49). Notice that some rankings are expressed as a range."
   ]
  },
  {
   "cell_type": "code",
   "execution_count": 15,
   "metadata": {},
   "outputs": [
    {
     "data": {
      "text/plain": [
       "{2011, 2012, 2013, 2014, 2015, 2016}"
      ]
     },
     "execution_count": 15,
     "metadata": {},
     "output_type": "execute_result"
    }
   ],
   "source": [
    "times_years = set(times.year)\n",
    "times_years"
   ]
  },
  {
   "cell_type": "code",
   "execution_count": 16,
   "metadata": {},
   "outputs": [
    {
     "data": {
      "text/plain": [
       "{2005, 2006, 2007, 2008, 2009, 2010, 2011, 2012, 2013, 2014, 2015}"
      ]
     },
     "execution_count": 16,
     "metadata": {},
     "output_type": "execute_result"
    }
   ],
   "source": [
    "shangai_years = set(shangai.year)\n",
    "shangai_years"
   ]
  },
  {
   "cell_type": "code",
   "execution_count": 17,
   "metadata": {},
   "outputs": [
    {
     "data": {
      "text/plain": [
       "{2012, 2013, 2014, 2015}"
      ]
     },
     "execution_count": 17,
     "metadata": {},
     "output_type": "execute_result"
    }
   ],
   "source": [
    "cwur_years = set(cwur.year)\n",
    "cwur_years"
   ]
  },
  {
   "cell_type": "code",
   "execution_count": 18,
   "metadata": {},
   "outputs": [],
   "source": [
    "rank = pd.merge(times[times.year == max(times_years)].add_suffix('_times'), shangai[shangai.year == max(shangai_years)].add_suffix('_shangai'), left_on = 'university_name_times', right_on = 'university_name_shangai')\n",
    "rank = rank.merge(cwur[cwur.year == max(cwur_years)].add_suffix('_cwur'), right_on = 'institution_cwur', left_on = 'university_name_times')\n",
    "rank.rename({'university_name_times':'university_name'}, axis = 'columns', inplace = True)"
   ]
  },
  {
   "cell_type": "code",
   "execution_count": 19,
   "metadata": {
    "scrolled": false
   },
   "outputs": [
    {
     "data": {
      "text/plain": [
       "Index(['world_rank_times', 'university_name', 'country_times',\n",
       "       'teaching_times', 'international_times', 'research_times',\n",
       "       'citations_times', 'income_times', 'total_score_times',\n",
       "       'num_students_times', 'student_staff_ratio_times',\n",
       "       'international_students_times', 'female_male_ratio_times', 'year_times',\n",
       "       'world_rank_shangai', 'university_name_shangai',\n",
       "       'national_rank_shangai', 'total_score_shangai', 'alumni_shangai',\n",
       "       'award_shangai', 'hici_shangai', 'ns_shangai', 'pub_shangai',\n",
       "       'pcp_shangai', 'year_shangai', 'world_rank_cwur', 'institution_cwur',\n",
       "       'country_cwur', 'national_rank_cwur', 'quality_of_education_cwur',\n",
       "       'alumni_employment_cwur', 'quality_of_faculty_cwur',\n",
       "       'publications_cwur', 'influence_cwur', 'citations_cwur',\n",
       "       'broad_impact_cwur', 'patents_cwur', 'score_cwur', 'year_cwur'],\n",
       "      dtype='object')"
      ]
     },
     "execution_count": 19,
     "metadata": {},
     "output_type": "execute_result"
    }
   ],
   "source": [
    "rank.columns"
   ]
  },
  {
   "cell_type": "code",
   "execution_count": 20,
   "metadata": {},
   "outputs": [
    {
     "data": {
      "text/plain": [
       "0             1\n",
       "1             2\n",
       "2             3\n",
       "3             4\n",
       "4             5\n",
       "         ...   \n",
       "2598    601-800\n",
       "2599    601-800\n",
       "2600    601-800\n",
       "2601    601-800\n",
       "2602    601-800\n",
       "Name: world_rank, Length: 2603, dtype: object"
      ]
     },
     "execution_count": 20,
     "metadata": {},
     "output_type": "execute_result"
    }
   ],
   "source": [
    "times.world_rank = times.world_rank.str.strip('=')\n",
    "times.world_rank"
   ]
  },
  {
   "cell_type": "markdown",
   "metadata": {},
   "source": [
    "Let's try to fix the problem with the ranking range with new columns containing the lower bound of the ranges"
   ]
  },
  {
   "cell_type": "code",
   "execution_count": 21,
   "metadata": {},
   "outputs": [],
   "source": [
    "src = re.compile('(?P<first>\\d+)\\s*-*\\s*(?P<second>\\d*)')"
   ]
  },
  {
   "cell_type": "code",
   "execution_count": 22,
   "metadata": {},
   "outputs": [],
   "source": [
    "for i in range(len(rank)):\n",
    "    fnd = src.search(rank.loc[i,'world_rank_shangai'])\n",
    "    if fnd.group('second'): \n",
    "        rank.loc[i, 'world_rank_shangai_2'] = (int(fnd.group('first')) + int(fnd.group('second')))/2\n",
    "    else:\n",
    "         rank.loc[i, 'world_rank_shangai_2'] = int(fnd.group('first'))"
   ]
  },
  {
   "cell_type": "code",
   "execution_count": 23,
   "metadata": {},
   "outputs": [],
   "source": [
    "for i in range(len(rank)):\n",
    "    fnd = src.search(rank.loc[i,'world_rank_times'])\n",
    "    if fnd.group('second'): \n",
    "        rank.loc[i, 'world_rank_times_2'] = (int(fnd.group('first')) + int(fnd.group('second')))/2\n",
    "    else:\n",
    "         rank.loc[i, 'world_rank_times_2'] = int(fnd.group('first'))"
   ]
  },
  {
   "cell_type": "markdown",
   "metadata": {},
   "source": [
    "The ranking of cwur is already integer, no need to fix then. Here it is the slice with numerical variables we are going to use"
   ]
  },
  {
   "cell_type": "code",
   "execution_count": 24,
   "metadata": {
    "scrolled": false
   },
   "outputs": [
    {
     "data": {
      "text/plain": [
       "dtype('int64')"
      ]
     },
     "execution_count": 24,
     "metadata": {},
     "output_type": "execute_result"
    }
   ],
   "source": [
    "rank['world_rank_cwur'].dtype"
   ]
  },
  {
   "cell_type": "code",
   "execution_count": 25,
   "metadata": {
    "scrolled": false
   },
   "outputs": [
    {
     "data": {
      "text/html": [
       "<div>\n",
       "<style scoped>\n",
       "    .dataframe tbody tr th:only-of-type {\n",
       "        vertical-align: middle;\n",
       "    }\n",
       "\n",
       "    .dataframe tbody tr th {\n",
       "        vertical-align: top;\n",
       "    }\n",
       "\n",
       "    .dataframe thead th {\n",
       "        text-align: right;\n",
       "    }\n",
       "</style>\n",
       "<table border=\"1\" class=\"dataframe\">\n",
       "  <thead>\n",
       "    <tr style=\"text-align: right;\">\n",
       "      <th></th>\n",
       "      <th>world_rank_times_2</th>\n",
       "      <th>world_rank_shangai_2</th>\n",
       "      <th>world_rank_cwur</th>\n",
       "    </tr>\n",
       "  </thead>\n",
       "  <tbody>\n",
       "    <tr>\n",
       "      <th>0</th>\n",
       "      <td>1.0</td>\n",
       "      <td>7.0</td>\n",
       "      <td>12</td>\n",
       "    </tr>\n",
       "    <tr>\n",
       "      <th>1</th>\n",
       "      <td>2.0</td>\n",
       "      <td>10.0</td>\n",
       "      <td>5</td>\n",
       "    </tr>\n",
       "    <tr>\n",
       "      <th>2</th>\n",
       "      <td>3.0</td>\n",
       "      <td>2.0</td>\n",
       "      <td>2</td>\n",
       "    </tr>\n",
       "    <tr>\n",
       "      <th>3</th>\n",
       "      <td>4.0</td>\n",
       "      <td>5.0</td>\n",
       "      <td>4</td>\n",
       "    </tr>\n",
       "    <tr>\n",
       "      <th>4</th>\n",
       "      <td>6.0</td>\n",
       "      <td>1.0</td>\n",
       "      <td>1</td>\n",
       "    </tr>\n",
       "    <tr>\n",
       "      <th>...</th>\n",
       "      <td>...</td>\n",
       "      <td>...</td>\n",
       "      <td>...</td>\n",
       "    </tr>\n",
       "    <tr>\n",
       "      <th>292</th>\n",
       "      <td>700.5</td>\n",
       "      <td>450.5</td>\n",
       "      <td>245</td>\n",
       "    </tr>\n",
       "    <tr>\n",
       "      <th>293</th>\n",
       "      <td>700.5</td>\n",
       "      <td>350.5</td>\n",
       "      <td>440</td>\n",
       "    </tr>\n",
       "    <tr>\n",
       "      <th>294</th>\n",
       "      <td>700.5</td>\n",
       "      <td>350.5</td>\n",
       "      <td>479</td>\n",
       "    </tr>\n",
       "    <tr>\n",
       "      <th>295</th>\n",
       "      <td>700.5</td>\n",
       "      <td>450.5</td>\n",
       "      <td>731</td>\n",
       "    </tr>\n",
       "    <tr>\n",
       "      <th>296</th>\n",
       "      <td>700.5</td>\n",
       "      <td>250.5</td>\n",
       "      <td>768</td>\n",
       "    </tr>\n",
       "  </tbody>\n",
       "</table>\n",
       "<p>297 rows × 3 columns</p>\n",
       "</div>"
      ],
      "text/plain": [
       "     world_rank_times_2  world_rank_shangai_2  world_rank_cwur\n",
       "0                   1.0                   7.0               12\n",
       "1                   2.0                  10.0                5\n",
       "2                   3.0                   2.0                2\n",
       "3                   4.0                   5.0                4\n",
       "4                   6.0                   1.0                1\n",
       "..                  ...                   ...              ...\n",
       "292               700.5                 450.5              245\n",
       "293               700.5                 350.5              440\n",
       "294               700.5                 350.5              479\n",
       "295               700.5                 450.5              731\n",
       "296               700.5                 250.5              768\n",
       "\n",
       "[297 rows x 3 columns]"
      ]
     },
     "execution_count": 25,
     "metadata": {},
     "output_type": "execute_result"
    }
   ],
   "source": [
    "rank[['world_rank_times_2','world_rank_shangai_2', 'world_rank_cwur']]"
   ]
  },
  {
   "cell_type": "markdown",
   "metadata": {},
   "source": [
    "Now we can compute the max difference in ranking"
   ]
  },
  {
   "cell_type": "code",
   "execution_count": 26,
   "metadata": {},
   "outputs": [],
   "source": [
    "for i in range(len(rank)):\n",
    "    rank.loc[i,'max_diff'] = max(abs(rank.loc[i,'world_rank_times_2'] - rank.loc[i,'world_rank_shangai_2']), abs(rank.loc[i,'world_rank_times_2'] - rank.loc[i,'world_rank_cwur']), abs(rank.loc[i,'world_rank_shangai_2'] - rank.loc[i,'world_rank_cwur']))"
   ]
  },
  {
   "cell_type": "code",
   "execution_count": 27,
   "metadata": {
    "scrolled": true
   },
   "outputs": [
    {
     "data": {
      "text/html": [
       "<div>\n",
       "<style scoped>\n",
       "    .dataframe tbody tr th:only-of-type {\n",
       "        vertical-align: middle;\n",
       "    }\n",
       "\n",
       "    .dataframe tbody tr th {\n",
       "        vertical-align: top;\n",
       "    }\n",
       "\n",
       "    .dataframe thead th {\n",
       "        text-align: right;\n",
       "    }\n",
       "</style>\n",
       "<table border=\"1\" class=\"dataframe\">\n",
       "  <thead>\n",
       "    <tr style=\"text-align: right;\">\n",
       "      <th></th>\n",
       "      <th>university_name</th>\n",
       "      <th>world_rank_times_2</th>\n",
       "      <th>world_rank_shangai_2</th>\n",
       "      <th>world_rank_cwur</th>\n",
       "      <th>max_diff</th>\n",
       "    </tr>\n",
       "  </thead>\n",
       "  <tbody>\n",
       "    <tr>\n",
       "      <th>162</th>\n",
       "      <td>King Abdulaziz University</td>\n",
       "      <td>275.5</td>\n",
       "      <td>175.5</td>\n",
       "      <td>995</td>\n",
       "      <td>819.5</td>\n",
       "    </tr>\n",
       "    <tr>\n",
       "      <th>296</th>\n",
       "      <td>University of Tehran</td>\n",
       "      <td>700.5</td>\n",
       "      <td>250.5</td>\n",
       "      <td>768</td>\n",
       "      <td>517.5</td>\n",
       "    </tr>\n",
       "    <tr>\n",
       "      <th>265</th>\n",
       "      <td>Keio University</td>\n",
       "      <td>550.5</td>\n",
       "      <td>350.5</td>\n",
       "      <td>34</td>\n",
       "      <td>516.5</td>\n",
       "    </tr>\n",
       "    <tr>\n",
       "      <th>292</th>\n",
       "      <td>Okayama University</td>\n",
       "      <td>700.5</td>\n",
       "      <td>450.5</td>\n",
       "      <td>245</td>\n",
       "      <td>455.5</td>\n",
       "    </tr>\n",
       "    <tr>\n",
       "      <th>288</th>\n",
       "      <td>Jilin University</td>\n",
       "      <td>700.5</td>\n",
       "      <td>250.5</td>\n",
       "      <td>391</td>\n",
       "      <td>450.0</td>\n",
       "    </tr>\n",
       "    <tr>\n",
       "      <th>...</th>\n",
       "      <td>...</td>\n",
       "      <td>...</td>\n",
       "      <td>...</td>\n",
       "      <td>...</td>\n",
       "      <td>...</td>\n",
       "    </tr>\n",
       "    <tr>\n",
       "      <th>13</th>\n",
       "      <td>University of Pennsylvania</td>\n",
       "      <td>17.0</td>\n",
       "      <td>17.0</td>\n",
       "      <td>14</td>\n",
       "      <td>3.0</td>\n",
       "    </tr>\n",
       "    <tr>\n",
       "      <th>6</th>\n",
       "      <td>University of Chicago</td>\n",
       "      <td>10.0</td>\n",
       "      <td>9.0</td>\n",
       "      <td>8</td>\n",
       "      <td>2.0</td>\n",
       "    </tr>\n",
       "    <tr>\n",
       "      <th>8</th>\n",
       "      <td>Yale University</td>\n",
       "      <td>12.0</td>\n",
       "      <td>11.0</td>\n",
       "      <td>11</td>\n",
       "      <td>1.0</td>\n",
       "    </tr>\n",
       "    <tr>\n",
       "      <th>3</th>\n",
       "      <td>University of Cambridge</td>\n",
       "      <td>4.0</td>\n",
       "      <td>5.0</td>\n",
       "      <td>4</td>\n",
       "      <td>1.0</td>\n",
       "    </tr>\n",
       "    <tr>\n",
       "      <th>2</th>\n",
       "      <td>Stanford University</td>\n",
       "      <td>3.0</td>\n",
       "      <td>2.0</td>\n",
       "      <td>2</td>\n",
       "      <td>1.0</td>\n",
       "    </tr>\n",
       "  </tbody>\n",
       "</table>\n",
       "<p>297 rows × 5 columns</p>\n",
       "</div>"
      ],
      "text/plain": [
       "                university_name  world_rank_times_2  world_rank_shangai_2  \\\n",
       "162   King Abdulaziz University               275.5                 175.5   \n",
       "296        University of Tehran               700.5                 250.5   \n",
       "265             Keio University               550.5                 350.5   \n",
       "292          Okayama University               700.5                 450.5   \n",
       "288            Jilin University               700.5                 250.5   \n",
       "..                          ...                 ...                   ...   \n",
       "13   University of Pennsylvania                17.0                  17.0   \n",
       "6         University of Chicago                10.0                   9.0   \n",
       "8               Yale University                12.0                  11.0   \n",
       "3       University of Cambridge                 4.0                   5.0   \n",
       "2           Stanford University                 3.0                   2.0   \n",
       "\n",
       "     world_rank_cwur  max_diff  \n",
       "162              995     819.5  \n",
       "296              768     517.5  \n",
       "265               34     516.5  \n",
       "292              245     455.5  \n",
       "288              391     450.0  \n",
       "..               ...       ...  \n",
       "13                14       3.0  \n",
       "6                  8       2.0  \n",
       "8                 11       1.0  \n",
       "3                  4       1.0  \n",
       "2                  2       1.0  \n",
       "\n",
       "[297 rows x 5 columns]"
      ]
     },
     "execution_count": 27,
     "metadata": {},
     "output_type": "execute_result"
    }
   ],
   "source": [
    "rank.sort_values('max_diff', ascending = False)[['university_name','world_rank_times_2', 'world_rank_shangai_2','world_rank_cwur', 'max_diff']]"
   ]
  },
  {
   "cell_type": "markdown",
   "metadata": {},
   "source": [
    "### 5. Consider only the most recent data point of the times dataset. Compute the number of male and female students for each country.\n"
   ]
  },
  {
   "cell_type": "code",
   "execution_count": 28,
   "metadata": {
    "scrolled": true
   },
   "outputs": [],
   "source": [
    "newer_times = times[times.year == max(times_years)].copy()"
   ]
  },
  {
   "cell_type": "markdown",
   "metadata": {},
   "source": [
    "Checking if any null values is in the column of interest and eventually removal"
   ]
  },
  {
   "cell_type": "code",
   "execution_count": 29,
   "metadata": {
    "scrolled": true
   },
   "outputs": [
    {
     "data": {
      "text/plain": [
       "True"
      ]
     },
     "execution_count": 29,
     "metadata": {},
     "output_type": "execute_result"
    }
   ],
   "source": [
    "newer_times.female_male_ratio.isnull().any()"
   ]
  },
  {
   "cell_type": "code",
   "execution_count": 30,
   "metadata": {},
   "outputs": [],
   "source": [
    "newer_times.dropna(subset = ['female_male_ratio'], inplace = True)"
   ]
  },
  {
   "cell_type": "markdown",
   "metadata": {},
   "source": [
    "extracting from newer_times the row with a proper ratio"
   ]
  },
  {
   "cell_type": "code",
   "execution_count": 31,
   "metadata": {},
   "outputs": [],
   "source": [
    "newer_times = newer_times[newer_times['female_male_ratio'].str.contains('\\d+\\s*:\\s*\\d+')]"
   ]
  },
  {
   "cell_type": "markdown",
   "metadata": {},
   "source": [
    "num_students is a numerical variables as we putted the flag thousands in the read_csv for times ranking, check it out anyway"
   ]
  },
  {
   "cell_type": "code",
   "execution_count": 32,
   "metadata": {
    "scrolled": true
   },
   "outputs": [
    {
     "data": {
      "text/plain": [
       "dtype('float64')"
      ]
     },
     "execution_count": 32,
     "metadata": {},
     "output_type": "execute_result"
    }
   ],
   "source": [
    "newer_times['num_students'].dtype"
   ]
  },
  {
   "cell_type": "markdown",
   "metadata": {},
   "source": [
    "Finally we can compute the number of male and females students using the strip function on the column with the ratio and the multiply method for pandas dataframe"
   ]
  },
  {
   "cell_type": "code",
   "execution_count": 33,
   "metadata": {},
   "outputs": [],
   "source": [
    "newer_times[['female', 'male']] = round((newer_times['female_male_ratio'].str.split(' : ', expand = True).astype('int')/100).mul(newer_times['num_students'], axis = 0))"
   ]
  },
  {
   "cell_type": "code",
   "execution_count": 34,
   "metadata": {
    "scrolled": true
   },
   "outputs": [
    {
     "data": {
      "text/html": [
       "<div>\n",
       "<style scoped>\n",
       "    .dataframe tbody tr th:only-of-type {\n",
       "        vertical-align: middle;\n",
       "    }\n",
       "\n",
       "    .dataframe tbody tr th {\n",
       "        vertical-align: top;\n",
       "    }\n",
       "\n",
       "    .dataframe thead th {\n",
       "        text-align: right;\n",
       "    }\n",
       "</style>\n",
       "<table border=\"1\" class=\"dataframe\">\n",
       "  <thead>\n",
       "    <tr style=\"text-align: right;\">\n",
       "      <th></th>\n",
       "      <th>female</th>\n",
       "      <th>male</th>\n",
       "    </tr>\n",
       "  </thead>\n",
       "  <tbody>\n",
       "    <tr>\n",
       "      <th>2227</th>\n",
       "      <td>17625.0</td>\n",
       "      <td>0.0</td>\n",
       "    </tr>\n",
       "    <tr>\n",
       "      <th>1915</th>\n",
       "      <td>129.0</td>\n",
       "      <td>333.0</td>\n",
       "    </tr>\n",
       "    <tr>\n",
       "      <th>2036</th>\n",
       "      <td>1401.0</td>\n",
       "      <td>418.0</td>\n",
       "    </tr>\n",
       "    <tr>\n",
       "      <th>1983</th>\n",
       "      <td>269.0</td>\n",
       "      <td>500.0</td>\n",
       "    </tr>\n",
       "    <tr>\n",
       "      <th>2037</th>\n",
       "      <td>1317.0</td>\n",
       "      <td>538.0</td>\n",
       "    </tr>\n",
       "    <tr>\n",
       "      <th>...</th>\n",
       "      <td>...</td>\n",
       "      <td>...</td>\n",
       "    </tr>\n",
       "    <tr>\n",
       "      <th>2259</th>\n",
       "      <td>70063.0</td>\n",
       "      <td>67315.0</td>\n",
       "    </tr>\n",
       "    <tr>\n",
       "      <th>2408</th>\n",
       "      <td>58618.0</td>\n",
       "      <td>68813.0</td>\n",
       "    </tr>\n",
       "    <tr>\n",
       "      <th>2562</th>\n",
       "      <td>128116.0</td>\n",
       "      <td>68986.0</td>\n",
       "    </tr>\n",
       "    <tr>\n",
       "      <th>2413</th>\n",
       "      <td>295800.0</td>\n",
       "      <td>83431.0</td>\n",
       "    </tr>\n",
       "    <tr>\n",
       "      <th>2430</th>\n",
       "      <td>109012.0</td>\n",
       "      <td>122929.0</td>\n",
       "    </tr>\n",
       "  </tbody>\n",
       "</table>\n",
       "<p>736 rows × 2 columns</p>\n",
       "</div>"
      ],
      "text/plain": [
       "        female      male\n",
       "2227   17625.0       0.0\n",
       "1915     129.0     333.0\n",
       "2036    1401.0     418.0\n",
       "1983     269.0     500.0\n",
       "2037    1317.0     538.0\n",
       "...        ...       ...\n",
       "2259   70063.0   67315.0\n",
       "2408   58618.0   68813.0\n",
       "2562  128116.0   68986.0\n",
       "2413  295800.0   83431.0\n",
       "2430  109012.0  122929.0\n",
       "\n",
       "[736 rows x 2 columns]"
      ]
     },
     "execution_count": 34,
     "metadata": {},
     "output_type": "execute_result"
    }
   ],
   "source": [
    "newer_times[['female', 'male']].sort_values('male')"
   ]
  },
  {
   "cell_type": "code",
   "execution_count": 35,
   "metadata": {},
   "outputs": [
    {
     "data": {
      "text/html": [
       "<div>\n",
       "<style scoped>\n",
       "    .dataframe tbody tr th:only-of-type {\n",
       "        vertical-align: middle;\n",
       "    }\n",
       "\n",
       "    .dataframe tbody tr th {\n",
       "        vertical-align: top;\n",
       "    }\n",
       "\n",
       "    .dataframe thead th {\n",
       "        text-align: right;\n",
       "    }\n",
       "</style>\n",
       "<table border=\"1\" class=\"dataframe\">\n",
       "  <thead>\n",
       "    <tr style=\"text-align: right;\">\n",
       "      <th></th>\n",
       "      <th>female</th>\n",
       "      <th>male</th>\n",
       "    </tr>\n",
       "    <tr>\n",
       "      <th>country</th>\n",
       "      <th></th>\n",
       "      <th></th>\n",
       "    </tr>\n",
       "  </thead>\n",
       "  <tbody>\n",
       "    <tr>\n",
       "      <th>Argentina</th>\n",
       "      <td>67191.0</td>\n",
       "      <td>41182.0</td>\n",
       "    </tr>\n",
       "    <tr>\n",
       "      <th>Australia</th>\n",
       "      <td>391736.0</td>\n",
       "      <td>321640.0</td>\n",
       "    </tr>\n",
       "    <tr>\n",
       "      <th>Austria</th>\n",
       "      <td>68364.0</td>\n",
       "      <td>66113.0</td>\n",
       "    </tr>\n",
       "    <tr>\n",
       "      <th>Bangladesh</th>\n",
       "      <td>21323.0</td>\n",
       "      <td>41393.0</td>\n",
       "    </tr>\n",
       "    <tr>\n",
       "      <th>Belarus</th>\n",
       "      <td>20219.0</td>\n",
       "      <td>9084.0</td>\n",
       "    </tr>\n",
       "    <tr>\n",
       "      <th>...</th>\n",
       "      <td>...</td>\n",
       "      <td>...</td>\n",
       "    </tr>\n",
       "    <tr>\n",
       "      <th>Uganda</th>\n",
       "      <td>18670.0</td>\n",
       "      <td>18670.0</td>\n",
       "    </tr>\n",
       "    <tr>\n",
       "      <th>Ukraine</th>\n",
       "      <td>17846.0</td>\n",
       "      <td>19250.0</td>\n",
       "    </tr>\n",
       "    <tr>\n",
       "      <th>United Arab Emirates</th>\n",
       "      <td>9516.0</td>\n",
       "      <td>4931.0</td>\n",
       "    </tr>\n",
       "    <tr>\n",
       "      <th>United Kingdom</th>\n",
       "      <td>711815.0</td>\n",
       "      <td>613028.0</td>\n",
       "    </tr>\n",
       "    <tr>\n",
       "      <th>United States of America</th>\n",
       "      <td>1597414.0</td>\n",
       "      <td>1553277.0</td>\n",
       "    </tr>\n",
       "  </tbody>\n",
       "</table>\n",
       "<p>70 rows × 2 columns</p>\n",
       "</div>"
      ],
      "text/plain": [
       "                             female       male\n",
       "country                                       \n",
       "Argentina                   67191.0    41182.0\n",
       "Australia                  391736.0   321640.0\n",
       "Austria                     68364.0    66113.0\n",
       "Bangladesh                  21323.0    41393.0\n",
       "Belarus                     20219.0     9084.0\n",
       "...                             ...        ...\n",
       "Uganda                      18670.0    18670.0\n",
       "Ukraine                     17846.0    19250.0\n",
       "United Arab Emirates         9516.0     4931.0\n",
       "United Kingdom             711815.0   613028.0\n",
       "United States of America  1597414.0  1553277.0\n",
       "\n",
       "[70 rows x 2 columns]"
      ]
     },
     "execution_count": 35,
     "metadata": {},
     "output_type": "execute_result"
    }
   ],
   "source": [
    "newer_times[['country','female', 'male']].groupby('country').sum()"
   ]
  },
  {
   "cell_type": "markdown",
   "metadata": {},
   "source": [
    "### 6. Find the universities where the ratio between female and male is below the average ratio (computed over all universities)."
   ]
  },
  {
   "cell_type": "markdown",
   "metadata": {},
   "source": [
    "### 7. For each country compute the fraction of students that are in one of the universities computed in the previous point."
   ]
  },
  {
   "cell_type": "markdown",
   "metadata": {},
   "source": [
    "### 8. Read the file educational_attainment_supplementary_data.csv, discarding any row without country_name or series_name."
   ]
  },
  {
   "cell_type": "markdown",
   "metadata": {},
   "source": [
    "### 9. From attainment build a dataframe with the same data, but with 4 columns: country_name, series_name, year, value."
   ]
  },
  {
   "cell_type": "markdown",
   "metadata": {},
   "source": [
    "### 10. For each university, find the number of rankings in which they appear (it suffices to appear in one year for each ranking)."
   ]
  },
  {
   "cell_type": "markdown",
   "metadata": {},
   "source": [
    "### 11. In the times ranking, compute the number of times each university appears."
   ]
  },
  {
   "cell_type": "markdown",
   "metadata": {},
   "source": [
    "### 12. Find the universities that appear at most twice in the times ranking.\n"
   ]
  },
  {
   "cell_type": "markdown",
   "metadata": {},
   "source": [
    "### 13. The universities that, in any year, have the same position in all three rankings (they must have the same position in a year)."
   ]
  }
 ],
 "metadata": {
  "kernelspec": {
   "display_name": "Python 3",
   "language": "python",
   "name": "python3"
  },
  "language_info": {
   "codemirror_mode": {
    "name": "ipython",
    "version": 3
   },
   "file_extension": ".py",
   "mimetype": "text/x-python",
   "name": "python",
   "nbconvert_exporter": "python",
   "pygments_lexer": "ipython3",
   "version": "3.8.3"
  }
 },
 "nbformat": 4,
 "nbformat_minor": 4
}
